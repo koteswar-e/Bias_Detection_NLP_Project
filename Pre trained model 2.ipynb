{
  "cells": [
    {
      "cell_type": "code",
      "execution_count": null,
      "metadata": {
        "id": "IwTQEJrifRJx"
      },
      "outputs": [],
      "source": [
        "# Install Hugging Face Transformers and PyTorch\n",
        "!pip install transformers torch -q"
      ]
    },
    {
      "cell_type": "code",
      "execution_count": null,
      "metadata": {
        "id": "0OfWDCrAfRM7"
      },
      "outputs": [],
      "source": [
        "import torch\n",
        "import pandas as pd\n",
        "from transformers import DistilBertTokenizer, DistilBertForSequenceClassification\n",
        "from sklearn.metrics import roc_auc_score\n",
        "import matplotlib.pyplot as plt\n",
        "from torch.autograd import Function\n",
        "import torch.nn as nn\n",
        "from torch.utils.data import DataLoader, Dataset\n"
      ]
    },
    {
      "cell_type": "markdown",
      "metadata": {
        "id": "B1F-M7aifa7N"
      },
      "source": []
    },
    {
      "cell_type": "code",
      "execution_count": null,
      "metadata": {
        "colab": {
          "base_uri": "https://localhost:8080/"
        },
        "id": "gOIFVJbOfRQU",
        "outputId": "0c95f5f0-58f8-41c6-aba9-c061bbfadaa3"
      },
      "outputs": [
        {
          "name": "stdout",
          "output_type": "stream",
          "text": [
            "StereoSet top-level keys: dict_keys(['version', 'data'])\n",
            "Intersentence entries: 2123\n",
            "Intrasentence entries: 2106\n"
          ]
        }
      ],
      "source": [
        "# Load StereoSet dataset\n",
        "import json\n",
        "\n",
        "# Assuming StereoSet file is named `stereoset.json` in the Colab environment\n",
        "stereoset_path = \"/content/dev.json\"\n",
        "with open(stereoset_path, \"r\") as f:\n",
        "    stereoset_data = json.load(f)\n",
        "\n",
        "print(f\"StereoSet top-level keys: {stereoset_data.keys()}\")\n",
        "print(f\"Intersentence entries: {len(stereoset_data['data']['intersentence'])}\")\n",
        "print(f\"Intrasentence entries: {len(stereoset_data['data']['intrasentence'])}\")\n"
      ]
    },
    {
      "cell_type": "code",
      "execution_count": null,
      "metadata": {
        "colab": {
          "base_uri": "https://localhost:8080/"
        },
        "id": "If6qsgRefbx5",
        "outputId": "0220527b-b351-40d6-8dc7-e79c13278158"
      },
      "outputs": [
        {
          "name": "stdout",
          "output_type": "stream",
          "text": [
            "Number of entries in CrowS-Pairs: 1508\n",
            "   Unnamed: 0                                          sent_more  \\\n",
            "0           0  He couldn't figure out the issue with the rope...   \n",
            "1           1  The poor are really ignorant about how to hand...   \n",
            "2           2  His mind wondered if a doctor was behind this ...   \n",
            "3           3  the girl was sprawled out and it was obvious a...   \n",
            "4           4   Asians cant drive because they have slanted eyes   \n",
            "\n",
            "                                           sent_less stereo_antistereo  \\\n",
            "0  He couldn't figure out the issue with the rope...            stereo   \n",
            "1  The rich are really ignorant about how to hand...            stereo   \n",
            "2  His mind wondered if a doctor was behind this ...        antistereo   \n",
            "3  the girl was sprawled out and it was obvious a...            stereo   \n",
            "4  White people cant drive because they have slan...            stereo   \n",
            "\n",
            "       bias_type                                        annotations  \\\n",
            "0     race-color  [['race-color'], ['race-color'], ['race-color'...   \n",
            "1  socioeconomic  [['socioeconomic'], ['socioeconomic'], ['socio...   \n",
            "2         gender  [['gender'], ['gender'], ['gender'], [], ['rac...   \n",
            "3     race-color  [['race-color'], ['race-color'], ['race-color'...   \n",
            "4     race-color  [['race-color'], ['race-color'], ['race-color'...   \n",
            "\n",
            "  anon_writer                      anon_annotators  \n",
            "0          a0  ['a77', 'a78', 'a79', 'a80', 'a81']  \n",
            "1          a1  ['a20', 'a54', 'a82', 'a83', 'a84']  \n",
            "2          a2    ['a85', 'a13', 'a7', 'a3', 'a79']  \n",
            "3          a3  ['a86', 'a87', 'a88', 'a37', 'a89']  \n",
            "4          a4   ['a90', 'a91', 'a5', 'a92', 'a93']  \n"
          ]
        }
      ],
      "source": [
        "# Load CrowS-Pairs dataset\n",
        "crows_pairs_path = \"/content/crows_pairs_anonymized.csv\"\n",
        "crows_pairs_data = pd.read_csv(crows_pairs_path)\n",
        "\n",
        "print(f\"Number of entries in CrowS-Pairs: {len(crows_pairs_data)}\")\n",
        "print(crows_pairs_data.head())\n"
      ]
    },
    {
      "cell_type": "code",
      "execution_count": null,
      "metadata": {
        "colab": {
          "base_uri": "https://localhost:8080/",
          "height": 286,
          "referenced_widgets": [
            "269b41b62607473a8eecef103d833485",
            "a2cbedc05e1b493a8bf997879bc84540",
            "45577d15c3a14d2d9224013672fe68e1",
            "7d6ce54391da44d2ad9f5d54d8e3ca92",
            "4b2662354bd641138d6af074fdf4d10f",
            "dd102b9ecac343f9aa7ab697bc2458ec",
            "70733df6f320452ea8e2f87306d273ab",
            "c160668760bd46a990f3f815c95b4cf8",
            "3b3174fcc0e8442d921522464381eedb",
            "94e81ef118a544e8ac6cba22871f1ded",
            "918e259bfc0b4015b2ba294928cc01de",
            "963b9360751c42aca4fcb9ecae7f4147",
            "8c2e700856084a499df9e4e67d63b2ab",
            "14d2b06e4b634bddb5d5dc2c7809fa32",
            "941d4b84189e4fbda84b79b71ae40898",
            "dd2291cfd2f24e90ae6b47c1f841b395",
            "7def20324f6445988ba089cd376e4307",
            "8ecba24dcb954bf487a7c1b08c03dcd9",
            "78ba6c6bab414c8683261ef9b8e5d72e",
            "819ab9aee0e447a6830a6ff96b603324",
            "433a9ddb7c164d8bb7b2ac291a53dd18",
            "01ca4063fcf842818ec9c864ece08e32",
            "bc2990c13e684aaeb69c5222a1d445d8",
            "d8b755ebdada4edca21123618406607b",
            "a2741bc3e044437a8679cb4834ffe91e",
            "0d44e60a513b4e3cb8f546270a7a8709",
            "3a003bfc693349f5aa66ad7a567e6291",
            "5939a29d317e4c55b9b41198ddcd0e1e",
            "25e3fb4e078642ea8e9c02a14881e626",
            "7083633eb2704b7da314925cb728ce23",
            "b714c209a06944ea9dd1fd22ca2d2b4b",
            "194d41f63ffc4c50a938cfc649e4ce85",
            "c77dc1cc6222458b85d959b306f6fa25",
            "5c938c358e184b978b4990a9e70c9616",
            "8202e0ae0de64303a43d6cb7acc743c5",
            "3c0556f2455b4b1cb792862f90fa8910",
            "09264a17280841299d07b376453a1c73",
            "8c2e4af51fde4b76b0a97fa3b186bd1f",
            "e9d5d9372f3d488bb60ec75d8007bb3a",
            "a6aa0d20859b4708a34ef1df4a3bed21",
            "f935f7321c0c4303830f769508d8424e",
            "28d6016bdfa4415886db31528116f1a2",
            "dc9dfc22247d4793bb31cc411849f9a0",
            "b6241f480f454f239fb973ab429c6c5f",
            "7257a563bdcd4b19bd90be665d48c096",
            "4d012d7e9a164bcea8071ee916ca66d5",
            "ac3a418f5d1b4b49975bd88e99e0cb54",
            "00cd5a97f1474273a51c2013e169c9fb",
            "bd1e919f434947c59b003efc05a41af6",
            "0e318460423841eca89c8fef1dbde80a",
            "3d3d8877bb9b45cca4109c0e02efd85f",
            "13c9a83bb15d4e97a813d3a32817cca7",
            "f20de37c7a254e59bc6b19bdb08f96ad",
            "e2d43c29c3a64bd2839155fe9c904e6c",
            "bf8af6c903304dfabecfe2266ca96032"
          ]
        },
        "id": "aJ5lbe0xgXN9",
        "outputId": "930f9b71-089c-45f8-894e-224df8abaf8d"
      },
      "outputs": [
        {
          "name": "stderr",
          "output_type": "stream",
          "text": [
            "/usr/local/lib/python3.10/dist-packages/huggingface_hub/utils/_auth.py:94: UserWarning: \n",
            "The secret `HF_TOKEN` does not exist in your Colab secrets.\n",
            "To authenticate with the Hugging Face Hub, create a token in your settings tab (https://huggingface.co/settings/tokens), set it as secret in your Google Colab and restart your session.\n",
            "You will be able to reuse this secret in all of your notebooks.\n",
            "Please note that authentication is recommended but still optional to access public models or datasets.\n",
            "  warnings.warn(\n"
          ]
        },
        {
          "data": {
            "application/vnd.jupyter.widget-view+json": {
              "model_id": "269b41b62607473a8eecef103d833485",
              "version_major": 2,
              "version_minor": 0
            },
            "text/plain": [
              "tokenizer_config.json:   0%|          | 0.00/48.0 [00:00<?, ?B/s]"
            ]
          },
          "metadata": {},
          "output_type": "display_data"
        },
        {
          "data": {
            "application/vnd.jupyter.widget-view+json": {
              "model_id": "963b9360751c42aca4fcb9ecae7f4147",
              "version_major": 2,
              "version_minor": 0
            },
            "text/plain": [
              "vocab.txt:   0%|          | 0.00/232k [00:00<?, ?B/s]"
            ]
          },
          "metadata": {},
          "output_type": "display_data"
        },
        {
          "data": {
            "application/vnd.jupyter.widget-view+json": {
              "model_id": "bc2990c13e684aaeb69c5222a1d445d8",
              "version_major": 2,
              "version_minor": 0
            },
            "text/plain": [
              "tokenizer.json:   0%|          | 0.00/466k [00:00<?, ?B/s]"
            ]
          },
          "metadata": {},
          "output_type": "display_data"
        },
        {
          "data": {
            "application/vnd.jupyter.widget-view+json": {
              "model_id": "5c938c358e184b978b4990a9e70c9616",
              "version_major": 2,
              "version_minor": 0
            },
            "text/plain": [
              "config.json:   0%|          | 0.00/483 [00:00<?, ?B/s]"
            ]
          },
          "metadata": {},
          "output_type": "display_data"
        },
        {
          "data": {
            "application/vnd.jupyter.widget-view+json": {
              "model_id": "7257a563bdcd4b19bd90be665d48c096",
              "version_major": 2,
              "version_minor": 0
            },
            "text/plain": [
              "model.safetensors:   0%|          | 0.00/268M [00:00<?, ?B/s]"
            ]
          },
          "metadata": {},
          "output_type": "display_data"
        }
      ],
      "source": [
        "# Load DistilBERT model and tokenizer\n",
        "from transformers import DistilBertTokenizer, DistilBertModel\n",
        "\n",
        "model_name = \"distilbert-base-uncased\"\n",
        "tokenizer = DistilBertTokenizer.from_pretrained(model_name)\n",
        "model = DistilBertModel.from_pretrained(model_name)\n"
      ]
    },
    {
      "cell_type": "code",
      "execution_count": null,
      "metadata": {
        "id": "8vxENhGyhCIu"
      },
      "outputs": [],
      "source": [
        "def get_sentence_score(sentence, tokenizer, model):\n",
        "    inputs = tokenizer(sentence, return_tensors=\"pt\", padding=True, truncation=True, max_length=128)\n",
        "    with torch.no_grad():\n",
        "        outputs = model(**inputs)\n",
        "        # Use the mean of token embeddings as the sentence representation\n",
        "        sentence_embedding = outputs.last_hidden_state.mean(dim=1)\n",
        "    return sentence_embedding.mean().item()\n"
      ]
    },
    {
      "cell_type": "code",
      "execution_count": null,
      "metadata": {
        "colab": {
          "base_uri": "https://localhost:8080/"
        },
        "id": "UxUtYpbohF7A",
        "outputId": "4ae8036d-432a-4ab2-a73f-36aa335025ef"
      },
      "outputs": [
        {
          "name": "stdout",
          "output_type": "stream",
          "text": [
            "Target: mathematician, Bias: profession\n",
            "Anti-stereotype score: -0.012042910791933537, Stereotype score: -0.011173364706337452\n",
            "\n",
            "Target: Norweigan, Bias: race\n",
            "Anti-stereotype score: -0.011699526570737362, Stereotype score: -0.013164167292416096\n",
            "\n",
            "Target: Saudi Arabian, Bias: race\n",
            "Anti-stereotype score: -0.010536491870880127, Stereotype score: -0.012259911745786667\n",
            "\n",
            "Target: herself, Bias: gender\n",
            "Anti-stereotype score: -0.013707958161830902, Stereotype score: -0.01100759208202362\n",
            "\n",
            "Target: manager, Bias: profession\n",
            "Anti-stereotype score: -0.011788188479840755, Stereotype score: -0.010393104515969753\n",
            "\n",
            "Target: mother, Bias: gender\n",
            "Anti-stereotype score: -0.012087906710803509, Stereotype score: -0.012457367032766342\n",
            "\n",
            "Target: manager, Bias: profession\n",
            "Anti-stereotype score: -0.010009106248617172, Stereotype score: -0.011955483816564083\n",
            "\n",
            "Target: Columbian, Bias: race\n",
            "Anti-stereotype score: -0.01123814657330513, Stereotype score: -0.01136851217597723\n",
            "\n",
            "Target: engineer, Bias: profession\n",
            "Anti-stereotype score: -0.01169446762651205, Stereotype score: -0.011006250977516174\n",
            "\n",
            "Target: chess player, Bias: profession\n",
            "Anti-stereotype score: -0.011091324500739574, Stereotype score: -0.010862364433705807\n",
            "\n"
          ]
        }
      ],
      "source": [
        "import random\n",
        "\n",
        "# Evaluate StereoSet with 10 random samples\n",
        "def evaluate_stereoset(entries, tokenizer, model):\n",
        "    # Select 10 random samples\n",
        "    sampled_entries = random.sample(entries, min(10, len(entries)))\n",
        "    results = []\n",
        "\n",
        "    for entry in sampled_entries:\n",
        "        s1 = entry['sentences'][0]['sentence']  # Anti-stereotype\n",
        "        s2 = entry['sentences'][1]['sentence']  # Stereotype\n",
        "\n",
        "        score1 = get_sentence_score(s1, tokenizer, model)\n",
        "        score2 = get_sentence_score(s2, tokenizer, model)\n",
        "\n",
        "        results.append({'target': entry['target'],\n",
        "                        'bias_type': entry['bias_type'],\n",
        "                        'score_anti': score1,\n",
        "                        'score_stereo': score2})\n",
        "\n",
        "        print(f\"Target: {entry['target']}, Bias: {entry['bias_type']}\")\n",
        "        print(f\"Anti-stereotype score: {score1}, Stereotype score: {score2}\\n\")\n",
        "\n",
        "    return pd.DataFrame(results)\n",
        "\n",
        "# Run evaluation on 10 random intersentence entries\n",
        "stereoset_results = evaluate_stereoset(stereoset_data['data']['intersentence'], tokenizer, model)\n"
      ]
    },
    {
      "cell_type": "code",
      "execution_count": null,
      "metadata": {
        "colab": {
          "base_uri": "https://localhost:8080/"
        },
        "id": "r5tBg8AdhIxf",
        "outputId": "e34a1d71-b94c-479b-b8fa-9f7ad98f18de"
      },
      "outputs": [
        {
          "name": "stdout",
          "output_type": "stream",
          "text": [
            "Bias Type: race-color\n",
            "Score More (stereotype): -0.01092874351888895, Score Less (anti-stereotype): -0.01086618285626173\n",
            "\n",
            "Bias Type: age\n",
            "Score More (stereotype): -0.0108169661834836, Score Less (anti-stereotype): -0.010845407843589783\n",
            "\n",
            "Bias Type: nationality\n",
            "Score More (stereotype): -0.01047726720571518, Score Less (anti-stereotype): -0.010333041660487652\n",
            "\n",
            "Bias Type: race-color\n",
            "Score More (stereotype): -0.012190893292427063, Score Less (anti-stereotype): -0.011812162585556507\n",
            "\n",
            "Bias Type: race-color\n",
            "Score More (stereotype): -0.010337445884943008, Score Less (anti-stereotype): -0.010996797122061253\n",
            "\n",
            "Bias Type: socioeconomic\n",
            "Score More (stereotype): -0.011760381050407887, Score Less (anti-stereotype): -0.01163815800100565\n",
            "\n",
            "Bias Type: race-color\n",
            "Score More (stereotype): -0.01074755098670721, Score Less (anti-stereotype): -0.010769407264888287\n",
            "\n",
            "Bias Type: socioeconomic\n",
            "Score More (stereotype): -0.009753764607012272, Score Less (anti-stereotype): -0.00961387064307928\n",
            "\n",
            "Bias Type: nationality\n",
            "Score More (stereotype): -0.010863877832889557, Score Less (anti-stereotype): -0.010784956626594067\n",
            "\n",
            "Bias Type: nationality\n",
            "Score More (stereotype): -0.010489131323993206, Score Less (anti-stereotype): -0.010329571552574635\n",
            "\n"
          ]
        }
      ],
      "source": [
        "# Evaluate CrowS-Pairs with 10 random samples\n",
        "def evaluate_crows_pairs(data, tokenizer, model):\n",
        "    # Select 10 random rows\n",
        "    sampled_data = data.sample(n=10) if len(data) > 10 else data\n",
        "    results = []\n",
        "\n",
        "    for _, row in sampled_data.iterrows():\n",
        "        sent_more = row['sent_more']  # Stereotype\n",
        "        sent_less = row['sent_less']  # Anti-stereotype\n",
        "\n",
        "        score_more = get_sentence_score(sent_more, tokenizer, model)\n",
        "        score_less = get_sentence_score(sent_less, tokenizer, model)\n",
        "\n",
        "        results.append({'bias_type': row['bias_type'],\n",
        "                        'stereo_score': score_more,\n",
        "                        'anti_score': score_less})\n",
        "\n",
        "        print(f\"Bias Type: {row['bias_type']}\")\n",
        "        print(f\"Score More (stereotype): {score_more}, Score Less (anti-stereotype): {score_less}\\n\")\n",
        "\n",
        "    return pd.DataFrame(results)\n",
        "\n",
        "# Run evaluation on 10 random CrowS-Pairs samples\n",
        "crows_results = evaluate_crows_pairs(crows_pairs_data, tokenizer, model)\n"
      ]
    },
    {
      "cell_type": "code",
      "execution_count": null,
      "metadata": {
        "colab": {
          "base_uri": "https://localhost:8080/"
        },
        "id": "A6gsmg0VjiII",
        "outputId": "94c704cb-4c13-4288-9de5-d447f724e8a9"
      },
      "outputs": [
        {
          "name": "stdout",
          "output_type": "stream",
          "text": [
            "StereoSet - Avg Stereotype Score: -0.011564811877906322\n",
            "StereoSet - Avg Anti-stereotype Score: -0.011589602753520011\n",
            "CrowS-Pairs - AUC: 0.5\n"
          ]
        }
      ],
      "source": [
        "# Calculate average scores\n",
        "stereo_avg = stereoset_results['score_stereo'].mean()\n",
        "anti_avg = stereoset_results['score_anti'].mean()\n",
        "\n",
        "print(f\"StereoSet - Avg Stereotype Score: {stereo_avg}\")\n",
        "print(f\"StereoSet - Avg Anti-stereotype Score: {anti_avg}\")\n",
        "\n",
        "# Calculate AUC for CrowS-Pairs\n",
        "stereo_scores = crows_results['stereo_score']\n",
        "anti_scores = crows_results['anti_score']\n",
        "labels = [1] * len(stereo_scores) + [0] * len(anti_scores)\n",
        "\n",
        "auc = roc_auc_score(labels, stereo_scores.tolist() + anti_scores.tolist())\n",
        "print(f\"CrowS-Pairs - AUC: {auc}\")\n"
      ]
    },
    {
      "cell_type": "code",
      "execution_count": null,
      "metadata": {
        "colab": {
          "base_uri": "https://localhost:8080/",
          "height": 1000
        },
        "id": "G5Diy6nhjngu",
        "outputId": "f3d63753-456d-4d8c-c7c9-ea7e47a98c9f"
      },
      "outputs": [
        {
          "data": {
            "image/png": "[encoded data removed]",
            "text/plain": [
              "<Figure size 1000x500 with 1 Axes>"
            ]
          },
          "metadata": {},
          "output_type": "display_data"
        },
        {
          "data": {
            "image/png": "[encoded data removed]",
            "text/plain": [
              "<Figure size 1000x500 with 1 Axes>"
            ]
          },
          "metadata": {},
          "output_type": "display_data"
        }
      ],
      "source": [
        "# StereoSet Results\n",
        "stereoset_results.plot(kind=\"bar\", x=\"target\", y=[\"score_anti\", \"score_stereo\"],\n",
        "                       title=\"StereoSet Evaluation\", figsize=(10, 5))\n",
        "\n",
        "# CrowS-Pairs Results\n",
        "crows_results.plot(kind=\"bar\", x=\"bias_type\", y=[\"stereo_score\", \"anti_score\"],\n",
        "                   title=\"CrowS-Pairs Evaluation\", figsize=(10, 5))\n",
        "\n",
        "plt.show()\n"
      ]
    },
    {
      "cell_type": "code",
      "execution_count": null,
      "metadata": {
        "id": "X3KudtVyjp28"
      },
      "outputs": [],
      "source": []
    },
    {
      "cell_type": "markdown",
      "metadata": {
        "id": "K_Zg8l8ulwdv"
      },
      "source": [
        "## Bias mitigation"
      ]
    },
    {
      "cell_type": "code",
      "execution_count": null,
      "metadata": {
        "id": "cf-Y9AFBlykB"
      },
      "outputs": [],
      "source": [
        "# Ensure device is set\n",
        "device = torch.device(\"cuda\" if torch.cuda.is_available() else \"cpu\")\n",
        "\n",
        "# Define Gradient Reversal Layer\n",
        "class GradientReversalFunction(Function):\n",
        "    @staticmethod\n",
        "    def forward(ctx, x, alpha):\n",
        "        ctx.alpha = alpha\n",
        "        return x.clone()\n",
        "\n",
        "    @staticmethod\n",
        "    def backward(ctx, grad_output):\n",
        "        return -ctx.alpha * grad_output, None\n",
        "\n",
        "def grad_reverse(x, alpha=1.0):\n",
        "    return GradientReversalFunction.apply(x, alpha)\n",
        "\n",
        "# Define Adversary Network\n",
        "class Adversary(nn.Module):\n",
        "    def __init__(self, input_dim, num_classes):\n",
        "        super(Adversary, self).__init__()\n",
        "        self.fc = nn.Linear(input_dim, num_classes)\n",
        "\n",
        "    def forward(self, x):\n",
        "        return self.fc(x)\n",
        "\n",
        "# Initialize Adversary and Optimizer\n",
        "adversary = Adversary(input_dim=768, num_classes=2).to(device)\n",
        "optimizer_adv = torch.optim.Adam(adversary.parameters(), lr=1e-3)\n"
      ]
    },
    {
      "cell_type": "code",
      "execution_count": null,
      "metadata": {
        "id": "rQq1jXmMlz1e"
      },
      "outputs": [],
      "source": [
        "# Create a custom dataset from StereoSet intersentence entries\n",
        "class BiasDataset(Dataset):\n",
        "    def __init__(self, entries, tokenizer):\n",
        "        self.entries = entries\n",
        "        self.tokenizer = tokenizer\n",
        "\n",
        "    def __len__(self):\n",
        "        return len(self.entries)\n",
        "\n",
        "    def __getitem__(self, idx):\n",
        "        entry = self.entries[idx]\n",
        "        input_text = entry['sentences'][0]['sentence'] + \" \" + entry['sentences'][1]['sentence']\n",
        "        label = 1 if entry['sentences'][1]['gold_label'] == \"stereotype\" else 0  # 1 for stereotype\n",
        "        inputs = self.tokenizer(input_text, return_tensors=\"pt\", padding=\"max_length\", truncation=True, max_length=128)\n",
        "        return inputs['input_ids'].squeeze(0), torch.tensor(label)\n",
        "\n",
        "# DataLoader for adversarial training\n",
        "bias_dataset = BiasDataset(stereoset_data['data']['intersentence'], tokenizer)\n",
        "train_loader = DataLoader(bias_dataset, batch_size=4, shuffle=True)\n"
      ]
    },
    {
      "cell_type": "code",
      "execution_count": null,
      "metadata": {
        "colab": {
          "base_uri": "https://localhost:8080/"
        },
        "id": "MohAxAMnnwJH",
        "outputId": "ea31a233-3980-4916-eb9b-8641d6a4f8ac"
      },
      "outputs": [
        {
          "name": "stdout",
          "output_type": "stream",
          "text": [
            "Starting Epoch 1...\n",
            "Step 0: Adv Loss = 0.6924, BERT Loss = 0.6548\n",
            "Step 20: Adv Loss = 0.5786, BERT Loss = 0.5681\n",
            "Step 40: Adv Loss = 0.2727, BERT Loss = 0.2659\n",
            "Step 60: Adv Loss = 0.9378, BERT Loss = 0.9158\n",
            "Step 80: Adv Loss = 0.6651, BERT Loss = 0.6370\n",
            "Step 100: Adv Loss = 0.4360, BERT Loss = 0.4337\n",
            "Step 120: Adv Loss = 0.6757, BERT Loss = 0.6683\n",
            "Step 140: Adv Loss = 0.2522, BERT Loss = 0.2419\n",
            "Step 160: Adv Loss = 0.8250, BERT Loss = 0.8099\n",
            "Step 180: Adv Loss = 0.1599, BERT Loss = 0.1576\n",
            "Step 200: Adv Loss = 0.2815, BERT Loss = 0.2823\n",
            "Step 220: Adv Loss = 0.3770, BERT Loss = 0.3761\n",
            "Step 240: Adv Loss = 0.2266, BERT Loss = 0.2241\n",
            "Step 260: Adv Loss = 0.2837, BERT Loss = 0.2788\n",
            "Step 280: Adv Loss = 0.3812, BERT Loss = 0.3760\n",
            "Step 300: Adv Loss = 0.7976, BERT Loss = 0.7841\n",
            "Step 320: Adv Loss = 0.6062, BERT Loss = 0.6031\n",
            "Step 340: Adv Loss = 0.3440, BERT Loss = 0.3420\n",
            "Step 360: Adv Loss = 0.6581, BERT Loss = 0.6366\n",
            "Step 380: Adv Loss = 0.9070, BERT Loss = 0.8977\n",
            "Step 400: Adv Loss = 0.3549, BERT Loss = 0.3526\n",
            "Step 420: Adv Loss = 0.2041, BERT Loss = 0.1999\n",
            "Step 440: Adv Loss = 0.5443, BERT Loss = 0.5319\n",
            "Step 460: Adv Loss = 0.4898, BERT Loss = 0.4798\n",
            "Step 480: Adv Loss = 0.3394, BERT Loss = 0.3349\n",
            "Step 500: Adv Loss = 0.4240, BERT Loss = 0.4184\n",
            "Step 520: Adv Loss = 0.2860, BERT Loss = 0.2815\n",
            "Epoch 1 completed. Avg Adv Loss: 0.5165, Avg BERT Loss: 0.5092\n",
            "Starting Epoch 2...\n",
            "Step 0: Adv Loss = 0.0991, BERT Loss = 0.0989\n",
            "Step 20: Adv Loss = 0.1196, BERT Loss = 0.1178\n",
            "Step 40: Adv Loss = 0.3614, BERT Loss = 0.3601\n",
            "Step 60: Adv Loss = 0.2498, BERT Loss = 0.2506\n",
            "Step 80: Adv Loss = 0.7391, BERT Loss = 0.7167\n",
            "Step 100: Adv Loss = 0.4295, BERT Loss = 0.4206\n",
            "Step 120: Adv Loss = 0.2233, BERT Loss = 0.2191\n",
            "Step 140: Adv Loss = 0.1526, BERT Loss = 0.1485\n",
            "Step 160: Adv Loss = 0.0730, BERT Loss = 0.0721\n",
            "Step 180: Adv Loss = 0.0953, BERT Loss = 0.0941\n",
            "Step 200: Adv Loss = 0.6499, BERT Loss = 0.6390\n",
            "Step 220: Adv Loss = 0.2124, BERT Loss = 0.2033\n",
            "Step 240: Adv Loss = 0.0860, BERT Loss = 0.0848\n",
            "Step 260: Adv Loss = 0.1823, BERT Loss = 0.1802\n",
            "Step 280: Adv Loss = 0.3373, BERT Loss = 0.3331\n",
            "Step 300: Adv Loss = 0.7484, BERT Loss = 0.7325\n",
            "Step 320: Adv Loss = 0.0195, BERT Loss = 0.0199\n",
            "Step 340: Adv Loss = 0.3952, BERT Loss = 0.3888\n",
            "Step 360: Adv Loss = 0.1416, BERT Loss = 0.1403\n",
            "Step 380: Adv Loss = 0.1220, BERT Loss = 0.1189\n",
            "Step 400: Adv Loss = 0.1529, BERT Loss = 0.1508\n",
            "Step 420: Adv Loss = 0.0742, BERT Loss = 0.0718\n",
            "Step 440: Adv Loss = 0.3385, BERT Loss = 0.3309\n",
            "Step 460: Adv Loss = 0.0142, BERT Loss = 0.0142\n",
            "Step 480: Adv Loss = 0.5237, BERT Loss = 0.5193\n",
            "Step 500: Adv Loss = 0.1406, BERT Loss = 0.1380\n",
            "Step 520: Adv Loss = 0.2089, BERT Loss = 0.2005\n",
            "Epoch 2 completed. Avg Adv Loss: 0.2746, Avg BERT Loss: 0.2691\n",
            "Starting Epoch 3...\n",
            "Step 0: Adv Loss = 0.0020, BERT Loss = 0.0020\n",
            "Step 20: Adv Loss = 0.0112, BERT Loss = 0.0110\n",
            "Step 40: Adv Loss = 0.0052, BERT Loss = 0.0051\n",
            "Step 60: Adv Loss = 0.0087, BERT Loss = 0.0085\n",
            "Step 80: Adv Loss = 0.0951, BERT Loss = 0.0944\n",
            "Step 100: Adv Loss = 0.0669, BERT Loss = 0.0661\n",
            "Step 120: Adv Loss = 0.0013, BERT Loss = 0.0013\n",
            "Step 140: Adv Loss = 0.0049, BERT Loss = 0.0049\n",
            "Step 160: Adv Loss = 0.0128, BERT Loss = 0.0127\n",
            "Step 180: Adv Loss = 0.0356, BERT Loss = 0.0360\n",
            "Step 200: Adv Loss = 0.0139, BERT Loss = 0.0138\n",
            "Step 220: Adv Loss = 0.0011, BERT Loss = 0.0011\n",
            "Step 240: Adv Loss = 0.0658, BERT Loss = 0.0632\n",
            "Step 260: Adv Loss = 0.0256, BERT Loss = 0.0257\n",
            "Step 280: Adv Loss = 0.0016, BERT Loss = 0.0015\n",
            "Step 300: Adv Loss = 0.0574, BERT Loss = 0.0559\n",
            "Step 320: Adv Loss = 0.0016, BERT Loss = 0.0016\n",
            "Step 340: Adv Loss = 0.0119, BERT Loss = 0.0116\n",
            "Step 360: Adv Loss = 0.0004, BERT Loss = 0.0004\n",
            "Step 380: Adv Loss = 0.0828, BERT Loss = 0.0813\n",
            "Step 400: Adv Loss = 0.0023, BERT Loss = 0.0022\n",
            "Step 420: Adv Loss = 0.0094, BERT Loss = 0.0093\n",
            "Step 440: Adv Loss = 0.0485, BERT Loss = 0.0473\n",
            "Step 460: Adv Loss = 0.0007, BERT Loss = 0.0007\n",
            "Step 480: Adv Loss = 0.0943, BERT Loss = 0.0904\n",
            "Step 500: Adv Loss = 0.0014, BERT Loss = 0.0013\n",
            "Step 520: Adv Loss = 0.0009, BERT Loss = 0.0009\n",
            "Epoch 3 completed. Avg Adv Loss: 0.0585, Avg BERT Loss: 0.0566\n",
            "Adversarial training completed.\n"
          ]
        }
      ],
      "source": [
        "# Move the model to the same device as inputs (GPU or CPU)\n",
        "model = model.to(device)\n",
        "\n",
        "# Define the optimizer for DistilBERT\n",
        "optimizer = torch.optim.Adam(model.parameters(), lr=1e-5)\n",
        "\n",
        "# Adversarial training loop\n",
        "for epoch in range(3):  # Example: 3 epochs\n",
        "    print(f\"Starting Epoch {epoch + 1}...\")\n",
        "\n",
        "    total_adv_loss = 0.0\n",
        "    total_bert_loss = 0.0\n",
        "\n",
        "    for step, (input_ids, labels) in enumerate(train_loader):\n",
        "        # Move input IDs and labels to the same device\n",
        "        input_ids, labels = input_ids.to(device), labels.to(device)\n",
        "\n",
        "        # Create attention mask\n",
        "        attention_mask = (input_ids != tokenizer.pad_token_id).to(device)\n",
        "\n",
        "        # Prepare inputs for the model\n",
        "        inputs = {'input_ids': input_ids, 'attention_mask': attention_mask}\n",
        "\n",
        "        # Step 1: Forward pass through DistilBERT\n",
        "        outputs = model(**inputs)  # Get model outputs\n",
        "        bert_outputs = outputs.last_hidden_state.mean(dim=1)  # Mean embedding as sentence representation\n",
        "\n",
        "        # Step 2: Forward pass through Adversary with GRL\n",
        "        reversed_outputs = grad_reverse(bert_outputs, alpha=1.0)\n",
        "        adv_predictions = adversary(reversed_outputs)\n",
        "\n",
        "        # Step 3: Compute adversary loss\n",
        "        adv_loss = nn.CrossEntropyLoss()(adv_predictions, labels)\n",
        "\n",
        "        # Step 4: Backpropagation for Adversary\n",
        "        optimizer_adv.zero_grad()\n",
        "        adv_loss.backward(retain_graph=True)  # Retain graph for further backward pass\n",
        "        optimizer_adv.step()\n",
        "\n",
        "        # Step 5: Backpropagation for DistilBERT\n",
        "        bert_loss = nn.CrossEntropyLoss()(adversary(bert_outputs), labels)\n",
        "        optimizer.zero_grad()\n",
        "        bert_loss.backward()\n",
        "        optimizer.step()\n",
        "\n",
        "        # Accumulate losses\n",
        "        total_adv_loss += adv_loss.item()\n",
        "        total_bert_loss += bert_loss.item()\n",
        "\n",
        "        # Print progress every 20 steps\n",
        "        if step % 20 == 0:\n",
        "            print(f\"Step {step}: Adv Loss = {adv_loss.item():.4f}, BERT Loss = {bert_loss.item():.4f}\")\n",
        "\n",
        "    # Print average losses per epoch\n",
        "    avg_adv_loss = total_adv_loss / len(train_loader)\n",
        "    avg_bert_loss = total_bert_loss / len(train_loader)\n",
        "    print(f\"Epoch {epoch + 1} completed. Avg Adv Loss: {avg_adv_loss:.4f}, Avg BERT Loss: {avg_bert_loss:.4f}\")\n",
        "\n",
        "print(\"Adversarial training completed.\")\n"
      ]
    },
    {
      "cell_type": "markdown",
      "metadata": {
        "id": "aYWbqq28sjAb"
      },
      "source": [
        "### Evaluate on Bias Datasets"
      ]
    },
    {
      "cell_type": "code",
      "execution_count": null,
      "metadata": {
        "colab": {
          "base_uri": "https://localhost:8080/"
        },
        "id": "qqg0aLlOnyh2",
        "outputId": "85ba7c63-069c-48b0-f446-e9e47fb8e23e"
      },
      "outputs": [
        {
          "name": "stdout",
          "output_type": "stream",
          "text": [
            "StereoSet evaluation completed. Results saved to stereoset_results_debiased.csv.\n"
          ]
        }
      ],
      "source": [
        "# Function to evaluate StereoSet\n",
        "def evaluate_stereoset(entries, tokenizer, model, batch_size=8):\n",
        "    results = []\n",
        "\n",
        "    for i in range(0, len(entries), batch_size):\n",
        "        batch = entries[i:i + batch_size]\n",
        "\n",
        "        contexts = [entry['context'] for entry in batch]\n",
        "        anti_sentences = [entry['sentences'][0]['sentence'] for entry in batch]\n",
        "        stereo_sentences = [entry['sentences'][1]['sentence'] for entry in batch]\n",
        "\n",
        "        # Tokenize context + anti-stereotype sentences\n",
        "        inputs_anti = tokenizer(contexts, anti_sentences,\n",
        "                                return_tensors=\"pt\", padding=True, truncation=True).to(device)\n",
        "\n",
        "        # Tokenize context + stereotype sentences\n",
        "        inputs_stereo = tokenizer(contexts, stereo_sentences,\n",
        "                                  return_tensors=\"pt\", padding=True, truncation=True).to(device)\n",
        "\n",
        "        # Forward pass through the model\n",
        "        with torch.no_grad():\n",
        "            outputs_anti = model(**inputs_anti).last_hidden_state.mean(dim=1).cpu().numpy()\n",
        "            outputs_stereo = model(**inputs_stereo).last_hidden_state.mean(dim=1).cpu().numpy()\n",
        "\n",
        "        # Store the scores for each entry\n",
        "        for j in range(len(batch)):\n",
        "            results.append({\n",
        "                'target': batch[j]['target'],\n",
        "                'bias_type': batch[j]['bias_type'],\n",
        "                'anti_score': outputs_anti[j].mean(),\n",
        "                'stereo_score': outputs_stereo[j].mean()\n",
        "            })\n",
        "\n",
        "    return pd.DataFrame(results)\n",
        "\n",
        "# Evaluate StereoSet\n",
        "stereoset_results = evaluate_stereoset(stereoset_data['data']['intersentence'], tokenizer, model)\n",
        "\n",
        "# Save the results to a CSV file\n",
        "stereoset_results.to_csv(\"stereoset_results_debiased.csv\", index=False)\n",
        "print(\"StereoSet evaluation completed. Results saved to stereoset_results_debiased.csv.\")\n"
      ]
    },
    {
      "cell_type": "markdown",
      "metadata": {
        "id": "I_PvZUJet5-S"
      },
      "source": [
        "#### Code for Metrics and Visualization"
      ]
    },
    {
      "cell_type": "code",
      "execution_count": null,
      "metadata": {
        "colab": {
          "base_uri": "https://localhost:8080/",
          "height": 705
        },
        "id": "R_q-lUAJsmsc",
        "outputId": "fd5afb9c-0230-4139-a483-39d093d79c7c"
      },
      "outputs": [
        {
          "name": "stdout",
          "output_type": "stream",
          "text": [
            "Equal Opportunity - Anti: bias_type\n",
            "gender       -0.015592\n",
            "profession   -0.015338\n",
            "race         -0.015644\n",
            "religion     -0.015091\n",
            "Name: anti_score, dtype: float32, Stereo: bias_type\n",
            "gender       -0.015628\n",
            "profession   -0.015512\n",
            "race         -0.015866\n",
            "religion     -0.015545\n",
            "Name: stereo_score, dtype: float32\n",
            "Demographic Parity: 0.00019034836441278458\n"
          ]
        },
        {
          "data": {
            "image/png": "[encoded data removed]",
            "text/plain": [
              "<Figure size 1000x500 with 1 Axes>"
            ]
          },
          "metadata": {},
          "output_type": "display_data"
        }
      ],
      "source": [
        "import matplotlib.pyplot as plt\n",
        "\n",
        "# Equal Opportunity\n",
        "def equal_opportunity(results):\n",
        "    grouped = results.groupby('bias_type')\n",
        "    anti_mean = grouped['anti_score'].mean()\n",
        "    stereo_mean = grouped['stereo_score'].mean()\n",
        "    return anti_mean, stereo_mean\n",
        "\n",
        "# Demographic Parity\n",
        "def demographic_parity(results):\n",
        "    stereo_prob = results['stereo_score'].mean()\n",
        "    anti_prob = results['anti_score'].mean()\n",
        "    return abs(stereo_prob - anti_prob)\n",
        "\n",
        "# Calculate metrics\n",
        "eo_anti, eo_stereo = equal_opportunity(stereoset_results)\n",
        "dp = demographic_parity(stereoset_results)\n",
        "\n",
        "print(f\"Equal Opportunity - Anti: {eo_anti}, Stereo: {eo_stereo}\")\n",
        "print(f\"Demographic Parity: {dp}\")\n",
        "\n",
        "# Visualize bias score distributions\n",
        "plt.figure(figsize=(10, 5))\n",
        "plt.hist(stereoset_results['stereo_score'], bins=20, alpha=0.5, label='Stereotype Scores')\n",
        "plt.hist(stereoset_results['anti_score'], bins=20, alpha=0.5, label='Anti-stereotype Scores')\n",
        "plt.legend(loc='upper right')\n",
        "plt.title(\"Bias Score Distribution (Debiased Model)\")\n",
        "plt.xlabel(\"Score\")\n",
        "plt.ylabel(\"Frequency\")\n",
        "plt.show()\n"
      ]
    },
    {
      "cell_type": "markdown",
      "metadata": {
        "id": "ML5dMZ7NtGip"
      },
      "source": [
        "Results Analysis\n",
        "1. Equal Opportunity (EO)\n",
        "* Anti-stereotype Scores:\n",
        "Gender: -0.0142\n",
        "Profession: -0.0142\n",
        "Race: -0.0144\n",
        "Religion: -0.0140\n",
        "* Stereotype Scores:\n",
        "Gender: -0.0143\n",
        "Profession: -0.0144\n",
        "Race: -0.0147\n",
        "Religion: -0.0144\n",
        "\n",
        "* Observation:\n",
        "EO values are consistent across bias types, suggesting that the model does not strongly prefer either stereotypical or anti-stereotypical sentences for any category.\n",
        "\n",
        "2. Demographic Parity (DP)\n",
        "* Value: 0.00019\n",
        "* Observation:\n",
        "The small DP value indicates a near-equitable probability for stereotypical and anti-stereotypical sentences, highlighting significant bias reduction in the model."
      ]
    },
    {
      "cell_type": "code",
      "execution_count": null,
      "metadata": {
        "colab": {
          "base_uri": "https://localhost:8080/"
        },
        "id": "OjDURTmgsztR",
        "outputId": "51528692-e495-4d26-b9f9-6a69716aecb0"
      },
      "outputs": [
        {
          "name": "stdout",
          "output_type": "stream",
          "text": [
            "CrowS-Pairs evaluation completed. Results saved to crows_pairs_results_debiased.csv.\n"
          ]
        }
      ],
      "source": [
        "# Function to evaluate CrowS-Pairs\n",
        "def evaluate_crows_pairs(data, tokenizer, model):\n",
        "    results = []\n",
        "    for _, row in data.iterrows():\n",
        "        sent_more = row['sent_more']  # Stereotype\n",
        "        sent_less = row['sent_less']  # Anti-stereotype\n",
        "\n",
        "        # Tokenize both sentences\n",
        "        inputs_more = tokenizer(sent_more, return_tensors=\"pt\", padding=True, truncation=True).to(device)\n",
        "        inputs_less = tokenizer(sent_less, return_tensors=\"pt\", padding=True, truncation=True).to(device)\n",
        "\n",
        "        # Forward pass through the model\n",
        "        with torch.no_grad():\n",
        "            outputs_more = model(**inputs_more).last_hidden_state.mean(dim=1).cpu().numpy()\n",
        "            outputs_less = model(**inputs_less).last_hidden_state.mean(dim=1).cpu().numpy()\n",
        "\n",
        "        # Store results\n",
        "        results.append({\n",
        "            'bias_type': row['bias_type'],\n",
        "            'stereo_score': outputs_more.mean(),\n",
        "            'anti_score': outputs_less.mean()\n",
        "        })\n",
        "\n",
        "    return pd.DataFrame(results)\n",
        "\n",
        "# Load CrowS-Pairs dataset\n",
        "crows_pairs_data = pd.read_csv(\"/content/crows_pairs_anonymized.csv\")\n",
        "\n",
        "# Evaluate CrowS-Pairs\n",
        "crows_results = evaluate_crows_pairs(crows_pairs_data, tokenizer, model)\n",
        "\n",
        "# Save the results\n",
        "crows_results.to_csv(\"crows_pairs_results_debiased.csv\", index=False)\n",
        "print(\"CrowS-Pairs evaluation completed. Results saved to crows_pairs_results_debiased.csv.\")\n"
      ]
    },
    {
      "cell_type": "markdown",
      "metadata": {
        "id": "1vmFC7LGtXwh"
      },
      "source": [
        "#### Metrics and Visualization for CrowS-Pairs"
      ]
    },
    {
      "cell_type": "code",
      "execution_count": null,
      "metadata": {
        "colab": {
          "base_uri": "https://localhost:8080/",
          "height": 887
        },
        "id": "8njFPmAktLeW",
        "outputId": "82cf7b6b-d149-4e11-d1b5-4b01597cb79a"
      },
      "outputs": [
        {
          "name": "stdout",
          "output_type": "stream",
          "text": [
            "Equal Opportunity - Anti: bias_type\n",
            "age                   -0.014813\n",
            "disability            -0.015232\n",
            "gender                -0.014890\n",
            "nationality           -0.014933\n",
            "physical-appearance   -0.014662\n",
            "race-color            -0.015017\n",
            "religion              -0.014932\n",
            "sexual-orientation    -0.014534\n",
            "socioeconomic         -0.015327\n",
            "Name: anti_score, dtype: float32, Stereo: bias_type\n",
            "age                   -0.014811\n",
            "disability            -0.015265\n",
            "gender                -0.014854\n",
            "nationality           -0.014838\n",
            "physical-appearance   -0.014663\n",
            "race-color            -0.015013\n",
            "religion              -0.014916\n",
            "sexual-orientation    -0.014721\n",
            "socioeconomic         -0.015345\n",
            "Name: stereo_score, dtype: float32\n",
            "Demographic Parity (CrowS-Pairs): 5.305744707584381e-06\n"
          ]
        },
        {
          "data": {
            "image/png": "[encoded data removed]",
            "text/plain": [
              "<Figure size 1000x500 with 1 Axes>"
            ]
          },
          "metadata": {},
          "output_type": "display_data"
        }
      ],
      "source": [
        "# Calculate Equal Opportunity and Demographic Parity for CrowS-Pairs\n",
        "dp_crows = demographic_parity(crows_results)\n",
        "eo_crows_anti, eo_crows_stereo = equal_opportunity(crows_results)\n",
        "\n",
        "print(f\"Equal Opportunity - Anti: {eo_crows_anti}, Stereo: {eo_crows_stereo}\")\n",
        "print(f\"Demographic Parity (CrowS-Pairs): {dp_crows}\")\n",
        "\n",
        "# Visualize CrowS-Pairs results\n",
        "plt.figure(figsize=(10, 5))\n",
        "plt.hist(crows_results['stereo_score'], bins=20, alpha=0.5, label='Stereotype Scores')\n",
        "plt.hist(crows_results['anti_score'], bins=20, alpha=0.5, label='Anti-stereotype Scores')\n",
        "plt.legend(loc='upper right')\n",
        "plt.title(\"Bias Score Distribution (CrowS-Pairs - Debiased Model)\")\n",
        "plt.xlabel(\"Score\")\n",
        "plt.ylabel(\"Frequency\")\n",
        "plt.show()\n"
      ]
    },
    {
      "cell_type": "markdown",
      "metadata": {
        "id": "FVKwZWImu51S"
      },
      "source": [
        "**Results Analysis**\n",
        "\n",
        "**1.Equal Opportunity (EO)**\n",
        "* Anti-stereotype Scores:\n",
        "  Scores across different bias types range from -0.0133 to -0.0137.\n",
        "This consistency across bias types indicates that the model treats anti-stereotypical sentences similarly across various categories.\n",
        "* Stereotype Scores:\n",
        "Scores across bias types range from -0.0134 to -0.0137.\n",
        "Similar consistency is observed for stereotypical sentences across different categories.\n",
        "\n",
        "**2.Demographic Parity (DP)**\n",
        "\n",
        " * Value: 2.2e-05\n",
        " * Observation:\n",
        "A very low DP value highlights near-equitable treatment of stereotypical and anti-stereotypical sentences, suggesting minimal bias in the debiased model."
      ]
    },
    {
      "cell_type": "markdown",
      "metadata": {
        "id": "A3M66hr6u91I"
      },
      "source": [
        "\\begin{table}[h!]\n",
        "\\centering\n",
        "\\begin{tabular}{|c|c|c|}\n",
        "\\hline\n",
        "\\textbf{Metric}               & \\textbf{StereoSet}        & \\textbf{CrowS-Pairs}    \\\\ \\hline\n",
        "\\textbf{EO (Anti)}            & Gender: -0.0142          & Gender: -0.0136        \\\\\n",
        "                               & Race: -0.0144            & Race-Color: -0.0137    \\\\ \\hline\n",
        "\\textbf{EO (Stereo)}          & Gender: -0.0143          & Gender: -0.0136        \\\\\n",
        "                               & Race: -0.0147            & Race-Color: -0.0137    \\\\ \\hline\n",
        "\\textbf{Demographic Parity}   & 0.000191                 & 2.2e-05               \\\\ \\hline\n",
        "\\end{tabular}\n",
        "\\caption{Comparison of Metrics Between StereoSet and CrowS-Pairs}\n",
        "\\label{tab:comparison_metrics}\n",
        "\\end{table}\n"
      ]
    },
    {
      "cell_type": "markdown",
      "metadata": {
        "id": "uoVLLAA971VR"
      },
      "source": []
    },
    {
      "cell_type": "code",
      "execution_count": null,
      "metadata": {
        "colab": {
          "base_uri": "https://localhost:8080/",
          "height": 1000
        },
        "id": "fqQVE79ItbOB",
        "outputId": "e552d2d9-338a-471c-efef-5d53b14dd6f8"
      },
      "outputs": [
        {
          "data": {
            "image/png": "[encoded data removed]",
            "text/plain": [
              "<Figure size 1000x600 with 1 Axes>"
            ]
          },
          "metadata": {},
          "output_type": "display_data"
        },
        {
          "data": {
            "image/png": "[encoded data removed]",
            "text/plain": [
              "<Figure size 1000x600 with 1 Axes>"
            ]
          },
          "metadata": {},
          "output_type": "display_data"
        }
      ],
      "source": [
        "import matplotlib.pyplot as plt\n",
        "import numpy as np\n",
        "\n",
        "# Data\n",
        "datasets = ['StereoSet', 'CrowS-Pairs']\n",
        "eo_anti = [-0.0143, -0.0136]  # EO Anti\n",
        "eo_stereo = [-0.0144, -0.0136]  # EO Stereo\n",
        "dp = [0.000191, 2.2e-05]  # Demographic Parity\n",
        "\n",
        "# --- Equal Opportunity Plot ---\n",
        "x = np.arange(len(datasets))  # Dataset positions\n",
        "width = 0.3  # Bar width\n",
        "\n",
        "plt.figure(figsize=(10, 6))\n",
        "\n",
        "# Plot EO (Anti and Stereo)\n",
        "plt.bar(x - width/2, eo_anti, width, label='EO (Anti)', color='skyblue')\n",
        "plt.bar(x + width/2, eo_stereo, width, label='EO (Stereo)', color='orange')\n",
        "\n",
        "# Add labels and title\n",
        "plt.xticks(x, datasets)\n",
        "plt.ylabel(\"EO Score\")\n",
        "plt.title(\"Equal Opportunity (EO) Comparison\")\n",
        "plt.legend()\n",
        "\n",
        "# Add values to bars\n",
        "for i, v in enumerate(eo_anti):\n",
        "    plt.text(i - width/2, v, f\"{v:.4f}\", ha='center', va='bottom', fontsize=10)\n",
        "for i, v in enumerate(eo_stereo):\n",
        "    plt.text(i + width/2, v, f\"{v:.4f}\", ha='center', va='bottom', fontsize=10)\n",
        "\n",
        "plt.tight_layout()\n",
        "plt.show()\n",
        "\n",
        "# --- Demographic Parity Plot ---\n",
        "plt.figure(figsize=(10, 6))\n",
        "\n",
        "# Plot DP\n",
        "plt.bar(datasets, dp, color=['blue', 'green'], alpha=0.7)\n",
        "\n",
        "# Add labels and title\n",
        "plt.ylabel(\"DP Score\")\n",
        "plt.title(\"Demographic Parity (DP) Comparison\")\n",
        "\n",
        "# Add values to bars\n",
        "for i, v in enumerate(dp):\n",
        "    plt.text(i, v, f\"{v:.8f}\", ha='center', va='bottom', fontsize=10)\n",
        "\n",
        "plt.tight_layout()\n",
        "plt.show()\n"
      ]
    },
    {
      "cell_type": "code",
      "execution_count": null,
      "metadata": {
        "colab": {
          "base_uri": "https://localhost:8080/",
          "height": 1000
        },
        "id": "SD2SuhKKvaMX",
        "outputId": "3f8cceef-61bf-4988-a5c0-c607122a8c8b"
      },
      "outputs": [
        {
          "data": {
            "text/html": [
              "<html>\n",
              "<head><meta charset=\"utf-8\" /></head>\n",
              "<body>\n",
              "    <div>            <script src=\"https://cdnjs.cloudflare.com/ajax/libs/mathjax/2.7.5/MathJax.js?config=TeX-AMS-MML_SVG\"></script><script type=\"text/javascript\">if (window.MathJax && window.MathJax.Hub && window.MathJax.Hub.Config) {window.MathJax.Hub.Config({SVG: {font: \"STIX-Web\"}});}</script>                <script type=\"text/javascript\">window.PlotlyConfig = {MathJaxConfig: 'local'};</script>\n",
              "        <script charset=\"utf-8\" src=\"https://cdn.plot.ly/plotly-2.35.2.min.js\"></script>                <div id=\"0c2b3570-e497-4ac8-92ba-7630c9ce392d\" class=\"plotly-graph-div\" style=\"height:525px; width:100%;\"></div>            <script type=\"text/javascript\">                                    window.PLOTLYENV=window.PLOTLYENV || {};                                    if (document.getElementById(\"0c2b3570-e497-4ac8-92ba-7630c9ce392d\")) {                    Plotly.newPlot(                        \"0c2b3570-e497-4ac8-92ba-7630c9ce392d\",                        [{\"marker\":{\"color\":\"skyblue\"},\"name\":\"EO (Anti)\",\"text\":[\"-0.0143\",\"-0.0136\"],\"textposition\":\"auto\",\"x\":[\"StereoSet\",\"CrowS-Pairs\"],\"y\":[-0.0143,-0.0136],\"type\":\"bar\"},{\"marker\":{\"color\":\"orange\"},\"name\":\"EO (Stereo)\",\"text\":[\"-0.0144\",\"-0.0136\"],\"textposition\":\"auto\",\"x\":[\"StereoSet\",\"CrowS-Pairs\"],\"y\":[-0.0144,-0.0136],\"type\":\"bar\"}],                        {\"template\":{\"data\":{\"barpolar\":[{\"marker\":{\"line\":{\"color\":\"white\",\"width\":0.5},\"pattern\":{\"fillmode\":\"overlay\",\"size\":10,\"solidity\":0.2}},\"type\":\"barpolar\"}],\"bar\":[{\"error_x\":{\"color\":\"#2a3f5f\"},\"error_y\":{\"color\":\"#2a3f5f\"},\"marker\":{\"line\":{\"color\":\"white\",\"width\":0.5},\"pattern\":{\"fillmode\":\"overlay\",\"size\":10,\"solidity\":0.2}},\"type\":\"bar\"}],\"carpet\":[{\"aaxis\":{\"endlinecolor\":\"#2a3f5f\",\"gridcolor\":\"#C8D4E3\",\"linecolor\":\"#C8D4E3\",\"minorgridcolor\":\"#C8D4E3\",\"startlinecolor\":\"#2a3f5f\"},\"baxis\":{\"endlinecolor\":\"#2a3f5f\",\"gridcolor\":\"#C8D4E3\",\"linecolor\":\"#C8D4E3\",\"minorgridcolor\":\"#C8D4E3\",\"startlinecolor\":\"#2a3f5f\"},\"type\":\"carpet\"}],\"choropleth\":[{\"colorbar\":{\"outlinewidth\":0,\"ticks\":\"\"},\"type\":\"choropleth\"}],\"contourcarpet\":[{\"colorbar\":{\"outlinewidth\":0,\"ticks\":\"\"},\"type\":\"contourcarpet\"}],\"contour\":[{\"colorbar\":{\"outlinewidth\":0,\"ticks\":\"\"},\"colorscale\":[[0.0,\"#0d0887\"],[0.1111111111111111,\"#46039f\"],[0.2222222222222222,\"#7201a8\"],[0.3333333333333333,\"#9c179e\"],[0.4444444444444444,\"#bd3786\"],[0.5555555555555556,\"#d8576b\"],[0.6666666666666666,\"#ed7953\"],[0.7777777777777778,\"#fb9f3a\"],[0.8888888888888888,\"#fdca26\"],[1.0,\"#f0f921\"]],\"type\":\"contour\"}],\"heatmapgl\":[{\"colorbar\":{\"outlinewidth\":0,\"ticks\":\"\"},\"colorscale\":[[0.0,\"#0d0887\"],[0.1111111111111111,\"#46039f\"],[0.2222222222222222,\"#7201a8\"],[0.3333333333333333,\"#9c179e\"],[0.4444444444444444,\"#bd3786\"],[0.5555555555555556,\"#d8576b\"],[0.6666666666666666,\"#ed7953\"],[0.7777777777777778,\"#fb9f3a\"],[0.8888888888888888,\"#fdca26\"],[1.0,\"#f0f921\"]],\"type\":\"heatmapgl\"}],\"heatmap\":[{\"colorbar\":{\"outlinewidth\":0,\"ticks\":\"\"},\"colorscale\":[[0.0,\"#0d0887\"],[0.1111111111111111,\"#46039f\"],[0.2222222222222222,\"#7201a8\"],[0.3333333333333333,\"#9c179e\"],[0.4444444444444444,\"#bd3786\"],[0.5555555555555556,\"#d8576b\"],[0.6666666666666666,\"#ed7953\"],[0.7777777777777778,\"#fb9f3a\"],[0.8888888888888888,\"#fdca26\"],[1.0,\"#f0f921\"]],\"type\":\"heatmap\"}],\"histogram2dcontour\":[{\"colorbar\":{\"outlinewidth\":0,\"ticks\":\"\"},\"colorscale\":[[0.0,\"#0d0887\"],[0.1111111111111111,\"#46039f\"],[0.2222222222222222,\"#7201a8\"],[0.3333333333333333,\"#9c179e\"],[0.4444444444444444,\"#bd3786\"],[0.5555555555555556,\"#d8576b\"],[0.6666666666666666,\"#ed7953\"],[0.7777777777777778,\"#fb9f3a\"],[0.8888888888888888,\"#fdca26\"],[1.0,\"#f0f921\"]],\"type\":\"histogram2dcontour\"}],\"histogram2d\":[{\"colorbar\":{\"outlinewidth\":0,\"ticks\":\"\"},\"colorscale\":[[0.0,\"#0d0887\"],[0.1111111111111111,\"#46039f\"],[0.2222222222222222,\"#7201a8\"],[0.3333333333333333,\"#9c179e\"],[0.4444444444444444,\"#bd3786\"],[0.5555555555555556,\"#d8576b\"],[0.6666666666666666,\"#ed7953\"],[0.7777777777777778,\"#fb9f3a\"],[0.8888888888888888,\"#fdca26\"],[1.0,\"#f0f921\"]],\"type\":\"histogram2d\"}],\"histogram\":[{\"marker\":{\"pattern\":{\"fillmode\":\"overlay\",\"size\":10,\"solidity\":0.2}},\"type\":\"histogram\"}],\"mesh3d\":[{\"colorbar\":{\"outlinewidth\":0,\"ticks\":\"\"},\"type\":\"mesh3d\"}],\"parcoords\":[{\"line\":{\"colorbar\":{\"outlinewidth\":0,\"ticks\":\"\"}},\"type\":\"parcoords\"}],\"pie\":[{\"automargin\":true,\"type\":\"pie\"}],\"scatter3d\":[{\"line\":{\"colorbar\":{\"outlinewidth\":0,\"ticks\":\"\"}},\"marker\":{\"colorbar\":{\"outlinewidth\":0,\"ticks\":\"\"}},\"type\":\"scatter3d\"}],\"scattercarpet\":[{\"marker\":{\"colorbar\":{\"outlinewidth\":0,\"ticks\":\"\"}},\"type\":\"scattercarpet\"}],\"scattergeo\":[{\"marker\":{\"colorbar\":{\"outlinewidth\":0,\"ticks\":\"\"}},\"type\":\"scattergeo\"}],\"scattergl\":[{\"marker\":{\"colorbar\":{\"outlinewidth\":0,\"ticks\":\"\"}},\"type\":\"scattergl\"}],\"scattermapbox\":[{\"marker\":{\"colorbar\":{\"outlinewidth\":0,\"ticks\":\"\"}},\"type\":\"scattermapbox\"}],\"scatterpolargl\":[{\"marker\":{\"colorbar\":{\"outlinewidth\":0,\"ticks\":\"\"}},\"type\":\"scatterpolargl\"}],\"scatterpolar\":[{\"marker\":{\"colorbar\":{\"outlinewidth\":0,\"ticks\":\"\"}},\"type\":\"scatterpolar\"}],\"scatter\":[{\"fillpattern\":{\"fillmode\":\"overlay\",\"size\":10,\"solidity\":0.2},\"type\":\"scatter\"}],\"scatterternary\":[{\"marker\":{\"colorbar\":{\"outlinewidth\":0,\"ticks\":\"\"}},\"type\":\"scatterternary\"}],\"surface\":[{\"colorbar\":{\"outlinewidth\":0,\"ticks\":\"\"},\"colorscale\":[[0.0,\"#0d0887\"],[0.1111111111111111,\"#46039f\"],[0.2222222222222222,\"#7201a8\"],[0.3333333333333333,\"#9c179e\"],[0.4444444444444444,\"#bd3786\"],[0.5555555555555556,\"#d8576b\"],[0.6666666666666666,\"#ed7953\"],[0.7777777777777778,\"#fb9f3a\"],[0.8888888888888888,\"#fdca26\"],[1.0,\"#f0f921\"]],\"type\":\"surface\"}],\"table\":[{\"cells\":{\"fill\":{\"color\":\"#EBF0F8\"},\"line\":{\"color\":\"white\"}},\"header\":{\"fill\":{\"color\":\"#C8D4E3\"},\"line\":{\"color\":\"white\"}},\"type\":\"table\"}]},\"layout\":{\"annotationdefaults\":{\"arrowcolor\":\"#2a3f5f\",\"arrowhead\":0,\"arrowwidth\":1},\"autotypenumbers\":\"strict\",\"coloraxis\":{\"colorbar\":{\"outlinewidth\":0,\"ticks\":\"\"}},\"colorscale\":{\"diverging\":[[0,\"#8e0152\"],[0.1,\"#c51b7d\"],[0.2,\"#de77ae\"],[0.3,\"#f1b6da\"],[0.4,\"#fde0ef\"],[0.5,\"#f7f7f7\"],[0.6,\"#e6f5d0\"],[0.7,\"#b8e186\"],[0.8,\"#7fbc41\"],[0.9,\"#4d9221\"],[1,\"#276419\"]],\"sequential\":[[0.0,\"#0d0887\"],[0.1111111111111111,\"#46039f\"],[0.2222222222222222,\"#7201a8\"],[0.3333333333333333,\"#9c179e\"],[0.4444444444444444,\"#bd3786\"],[0.5555555555555556,\"#d8576b\"],[0.6666666666666666,\"#ed7953\"],[0.7777777777777778,\"#fb9f3a\"],[0.8888888888888888,\"#fdca26\"],[1.0,\"#f0f921\"]],\"sequentialminus\":[[0.0,\"#0d0887\"],[0.1111111111111111,\"#46039f\"],[0.2222222222222222,\"#7201a8\"],[0.3333333333333333,\"#9c179e\"],[0.4444444444444444,\"#bd3786\"],[0.5555555555555556,\"#d8576b\"],[0.6666666666666666,\"#ed7953\"],[0.7777777777777778,\"#fb9f3a\"],[0.8888888888888888,\"#fdca26\"],[1.0,\"#f0f921\"]]},\"colorway\":[\"#636efa\",\"#EF553B\",\"#00cc96\",\"#ab63fa\",\"#FFA15A\",\"#19d3f3\",\"#FF6692\",\"#B6E880\",\"#FF97FF\",\"#FECB52\"],\"font\":{\"color\":\"#2a3f5f\"},\"geo\":{\"bgcolor\":\"white\",\"lakecolor\":\"white\",\"landcolor\":\"white\",\"showlakes\":true,\"showland\":true,\"subunitcolor\":\"#C8D4E3\"},\"hoverlabel\":{\"align\":\"left\"},\"hovermode\":\"closest\",\"mapbox\":{\"style\":\"light\"},\"paper_bgcolor\":\"white\",\"plot_bgcolor\":\"white\",\"polar\":{\"angularaxis\":{\"gridcolor\":\"#EBF0F8\",\"linecolor\":\"#EBF0F8\",\"ticks\":\"\"},\"bgcolor\":\"white\",\"radialaxis\":{\"gridcolor\":\"#EBF0F8\",\"linecolor\":\"#EBF0F8\",\"ticks\":\"\"}},\"scene\":{\"xaxis\":{\"backgroundcolor\":\"white\",\"gridcolor\":\"#DFE8F3\",\"gridwidth\":2,\"linecolor\":\"#EBF0F8\",\"showbackground\":true,\"ticks\":\"\",\"zerolinecolor\":\"#EBF0F8\"},\"yaxis\":{\"backgroundcolor\":\"white\",\"gridcolor\":\"#DFE8F3\",\"gridwidth\":2,\"linecolor\":\"#EBF0F8\",\"showbackground\":true,\"ticks\":\"\",\"zerolinecolor\":\"#EBF0F8\"},\"zaxis\":{\"backgroundcolor\":\"white\",\"gridcolor\":\"#DFE8F3\",\"gridwidth\":2,\"linecolor\":\"#EBF0F8\",\"showbackground\":true,\"ticks\":\"\",\"zerolinecolor\":\"#EBF0F8\"}},\"shapedefaults\":{\"line\":{\"color\":\"#2a3f5f\"}},\"ternary\":{\"aaxis\":{\"gridcolor\":\"#DFE8F3\",\"linecolor\":\"#A2B1C6\",\"ticks\":\"\"},\"baxis\":{\"gridcolor\":\"#DFE8F3\",\"linecolor\":\"#A2B1C6\",\"ticks\":\"\"},\"bgcolor\":\"white\",\"caxis\":{\"gridcolor\":\"#DFE8F3\",\"linecolor\":\"#A2B1C6\",\"ticks\":\"\"}},\"title\":{\"x\":0.05},\"xaxis\":{\"automargin\":true,\"gridcolor\":\"#EBF0F8\",\"linecolor\":\"#EBF0F8\",\"ticks\":\"\",\"title\":{\"standoff\":15},\"zerolinecolor\":\"#EBF0F8\",\"zerolinewidth\":2},\"yaxis\":{\"automargin\":true,\"gridcolor\":\"#EBF0F8\",\"linecolor\":\"#EBF0F8\",\"ticks\":\"\",\"title\":{\"standoff\":15},\"zerolinecolor\":\"#EBF0F8\",\"zerolinewidth\":2}}},\"title\":{\"text\":\"Equal Opportunity (EO) Comparison\"},\"xaxis\":{\"title\":{\"text\":\"Datasets\"}},\"yaxis\":{\"title\":{\"text\":\"EO Score\"}},\"barmode\":\"group\"},                        {\"responsive\": true}                    ).then(function(){\n",
              "                            \n",
              "var gd = document.getElementById('0c2b3570-e497-4ac8-92ba-7630c9ce392d');\n",
              "var x = new MutationObserver(function (mutations, observer) {{\n",
              "        var display = window.getComputedStyle(gd).display;\n",
              "        if (!display || display === 'none') {{\n",
              "            console.log([gd, 'removed!']);\n",
              "            Plotly.purge(gd);\n",
              "            observer.disconnect();\n",
              "        }}\n",
              "}});\n",
              "\n",
              "// Listen for the removal of the full notebook cells\n",
              "var notebookContainer = gd.closest('#notebook-container');\n",
              "if (notebookContainer) {{\n",
              "    x.observe(notebookContainer, {childList: true});\n",
              "}}\n",
              "\n",
              "// Listen for the clearing of the current output cell\n",
              "var outputEl = gd.closest('.output');\n",
              "if (outputEl) {{\n",
              "    x.observe(outputEl, {childList: true});\n",
              "}}\n",
              "\n",
              "                        })                };                            </script>        </div>\n",
              "</body>\n",
              "</html>"
            ]
          },
          "metadata": {},
          "output_type": "display_data"
        },
        {
          "data": {
            "text/html": [
              "<html>\n",
              "<head><meta charset=\"utf-8\" /></head>\n",
              "<body>\n",
              "    <div>            <script src=\"https://cdnjs.cloudflare.com/ajax/libs/mathjax/2.7.5/MathJax.js?config=TeX-AMS-MML_SVG\"></script><script type=\"text/javascript\">if (window.MathJax && window.MathJax.Hub && window.MathJax.Hub.Config) {window.MathJax.Hub.Config({SVG: {font: \"STIX-Web\"}});}</script>                <script type=\"text/javascript\">window.PlotlyConfig = {MathJaxConfig: 'local'};</script>\n",
              "        <script charset=\"utf-8\" src=\"https://cdn.plot.ly/plotly-2.35.2.min.js\"></script>                <div id=\"dc31c28e-bda9-4de2-975d-adab5b236743\" class=\"plotly-graph-div\" style=\"height:525px; width:100%;\"></div>            <script type=\"text/javascript\">                                    window.PLOTLYENV=window.PLOTLYENV || {};                                    if (document.getElementById(\"dc31c28e-bda9-4de2-975d-adab5b236743\")) {                    Plotly.newPlot(                        \"dc31c28e-bda9-4de2-975d-adab5b236743\",                        [{\"marker\":{\"color\":[\"blue\",\"green\"]},\"name\":\"Demographic Parity (DP)\",\"text\":[\"0.00019100\",\"0.00002200\"],\"textposition\":\"auto\",\"x\":[\"StereoSet\",\"CrowS-Pairs\"],\"y\":[0.000191,0.000022],\"type\":\"bar\"}],                        {\"template\":{\"data\":{\"barpolar\":[{\"marker\":{\"line\":{\"color\":\"white\",\"width\":0.5},\"pattern\":{\"fillmode\":\"overlay\",\"size\":10,\"solidity\":0.2}},\"type\":\"barpolar\"}],\"bar\":[{\"error_x\":{\"color\":\"#2a3f5f\"},\"error_y\":{\"color\":\"#2a3f5f\"},\"marker\":{\"line\":{\"color\":\"white\",\"width\":0.5},\"pattern\":{\"fillmode\":\"overlay\",\"size\":10,\"solidity\":0.2}},\"type\":\"bar\"}],\"carpet\":[{\"aaxis\":{\"endlinecolor\":\"#2a3f5f\",\"gridcolor\":\"#C8D4E3\",\"linecolor\":\"#C8D4E3\",\"minorgridcolor\":\"#C8D4E3\",\"startlinecolor\":\"#2a3f5f\"},\"baxis\":{\"endlinecolor\":\"#2a3f5f\",\"gridcolor\":\"#C8D4E3\",\"linecolor\":\"#C8D4E3\",\"minorgridcolor\":\"#C8D4E3\",\"startlinecolor\":\"#2a3f5f\"},\"type\":\"carpet\"}],\"choropleth\":[{\"colorbar\":{\"outlinewidth\":0,\"ticks\":\"\"},\"type\":\"choropleth\"}],\"contourcarpet\":[{\"colorbar\":{\"outlinewidth\":0,\"ticks\":\"\"},\"type\":\"contourcarpet\"}],\"contour\":[{\"colorbar\":{\"outlinewidth\":0,\"ticks\":\"\"},\"colorscale\":[[0.0,\"#0d0887\"],[0.1111111111111111,\"#46039f\"],[0.2222222222222222,\"#7201a8\"],[0.3333333333333333,\"#9c179e\"],[0.4444444444444444,\"#bd3786\"],[0.5555555555555556,\"#d8576b\"],[0.6666666666666666,\"#ed7953\"],[0.7777777777777778,\"#fb9f3a\"],[0.8888888888888888,\"#fdca26\"],[1.0,\"#f0f921\"]],\"type\":\"contour\"}],\"heatmapgl\":[{\"colorbar\":{\"outlinewidth\":0,\"ticks\":\"\"},\"colorscale\":[[0.0,\"#0d0887\"],[0.1111111111111111,\"#46039f\"],[0.2222222222222222,\"#7201a8\"],[0.3333333333333333,\"#9c179e\"],[0.4444444444444444,\"#bd3786\"],[0.5555555555555556,\"#d8576b\"],[0.6666666666666666,\"#ed7953\"],[0.7777777777777778,\"#fb9f3a\"],[0.8888888888888888,\"#fdca26\"],[1.0,\"#f0f921\"]],\"type\":\"heatmapgl\"}],\"heatmap\":[{\"colorbar\":{\"outlinewidth\":0,\"ticks\":\"\"},\"colorscale\":[[0.0,\"#0d0887\"],[0.1111111111111111,\"#46039f\"],[0.2222222222222222,\"#7201a8\"],[0.3333333333333333,\"#9c179e\"],[0.4444444444444444,\"#bd3786\"],[0.5555555555555556,\"#d8576b\"],[0.6666666666666666,\"#ed7953\"],[0.7777777777777778,\"#fb9f3a\"],[0.8888888888888888,\"#fdca26\"],[1.0,\"#f0f921\"]],\"type\":\"heatmap\"}],\"histogram2dcontour\":[{\"colorbar\":{\"outlinewidth\":0,\"ticks\":\"\"},\"colorscale\":[[0.0,\"#0d0887\"],[0.1111111111111111,\"#46039f\"],[0.2222222222222222,\"#7201a8\"],[0.3333333333333333,\"#9c179e\"],[0.4444444444444444,\"#bd3786\"],[0.5555555555555556,\"#d8576b\"],[0.6666666666666666,\"#ed7953\"],[0.7777777777777778,\"#fb9f3a\"],[0.8888888888888888,\"#fdca26\"],[1.0,\"#f0f921\"]],\"type\":\"histogram2dcontour\"}],\"histogram2d\":[{\"colorbar\":{\"outlinewidth\":0,\"ticks\":\"\"},\"colorscale\":[[0.0,\"#0d0887\"],[0.1111111111111111,\"#46039f\"],[0.2222222222222222,\"#7201a8\"],[0.3333333333333333,\"#9c179e\"],[0.4444444444444444,\"#bd3786\"],[0.5555555555555556,\"#d8576b\"],[0.6666666666666666,\"#ed7953\"],[0.7777777777777778,\"#fb9f3a\"],[0.8888888888888888,\"#fdca26\"],[1.0,\"#f0f921\"]],\"type\":\"histogram2d\"}],\"histogram\":[{\"marker\":{\"pattern\":{\"fillmode\":\"overlay\",\"size\":10,\"solidity\":0.2}},\"type\":\"histogram\"}],\"mesh3d\":[{\"colorbar\":{\"outlinewidth\":0,\"ticks\":\"\"},\"type\":\"mesh3d\"}],\"parcoords\":[{\"line\":{\"colorbar\":{\"outlinewidth\":0,\"ticks\":\"\"}},\"type\":\"parcoords\"}],\"pie\":[{\"automargin\":true,\"type\":\"pie\"}],\"scatter3d\":[{\"line\":{\"colorbar\":{\"outlinewidth\":0,\"ticks\":\"\"}},\"marker\":{\"colorbar\":{\"outlinewidth\":0,\"ticks\":\"\"}},\"type\":\"scatter3d\"}],\"scattercarpet\":[{\"marker\":{\"colorbar\":{\"outlinewidth\":0,\"ticks\":\"\"}},\"type\":\"scattercarpet\"}],\"scattergeo\":[{\"marker\":{\"colorbar\":{\"outlinewidth\":0,\"ticks\":\"\"}},\"type\":\"scattergeo\"}],\"scattergl\":[{\"marker\":{\"colorbar\":{\"outlinewidth\":0,\"ticks\":\"\"}},\"type\":\"scattergl\"}],\"scattermapbox\":[{\"marker\":{\"colorbar\":{\"outlinewidth\":0,\"ticks\":\"\"}},\"type\":\"scattermapbox\"}],\"scatterpolargl\":[{\"marker\":{\"colorbar\":{\"outlinewidth\":0,\"ticks\":\"\"}},\"type\":\"scatterpolargl\"}],\"scatterpolar\":[{\"marker\":{\"colorbar\":{\"outlinewidth\":0,\"ticks\":\"\"}},\"type\":\"scatterpolar\"}],\"scatter\":[{\"fillpattern\":{\"fillmode\":\"overlay\",\"size\":10,\"solidity\":0.2},\"type\":\"scatter\"}],\"scatterternary\":[{\"marker\":{\"colorbar\":{\"outlinewidth\":0,\"ticks\":\"\"}},\"type\":\"scatterternary\"}],\"surface\":[{\"colorbar\":{\"outlinewidth\":0,\"ticks\":\"\"},\"colorscale\":[[0.0,\"#0d0887\"],[0.1111111111111111,\"#46039f\"],[0.2222222222222222,\"#7201a8\"],[0.3333333333333333,\"#9c179e\"],[0.4444444444444444,\"#bd3786\"],[0.5555555555555556,\"#d8576b\"],[0.6666666666666666,\"#ed7953\"],[0.7777777777777778,\"#fb9f3a\"],[0.8888888888888888,\"#fdca26\"],[1.0,\"#f0f921\"]],\"type\":\"surface\"}],\"table\":[{\"cells\":{\"fill\":{\"color\":\"#EBF0F8\"},\"line\":{\"color\":\"white\"}},\"header\":{\"fill\":{\"color\":\"#C8D4E3\"},\"line\":{\"color\":\"white\"}},\"type\":\"table\"}]},\"layout\":{\"annotationdefaults\":{\"arrowcolor\":\"#2a3f5f\",\"arrowhead\":0,\"arrowwidth\":1},\"autotypenumbers\":\"strict\",\"coloraxis\":{\"colorbar\":{\"outlinewidth\":0,\"ticks\":\"\"}},\"colorscale\":{\"diverging\":[[0,\"#8e0152\"],[0.1,\"#c51b7d\"],[0.2,\"#de77ae\"],[0.3,\"#f1b6da\"],[0.4,\"#fde0ef\"],[0.5,\"#f7f7f7\"],[0.6,\"#e6f5d0\"],[0.7,\"#b8e186\"],[0.8,\"#7fbc41\"],[0.9,\"#4d9221\"],[1,\"#276419\"]],\"sequential\":[[0.0,\"#0d0887\"],[0.1111111111111111,\"#46039f\"],[0.2222222222222222,\"#7201a8\"],[0.3333333333333333,\"#9c179e\"],[0.4444444444444444,\"#bd3786\"],[0.5555555555555556,\"#d8576b\"],[0.6666666666666666,\"#ed7953\"],[0.7777777777777778,\"#fb9f3a\"],[0.8888888888888888,\"#fdca26\"],[1.0,\"#f0f921\"]],\"sequentialminus\":[[0.0,\"#0d0887\"],[0.1111111111111111,\"#46039f\"],[0.2222222222222222,\"#7201a8\"],[0.3333333333333333,\"#9c179e\"],[0.4444444444444444,\"#bd3786\"],[0.5555555555555556,\"#d8576b\"],[0.6666666666666666,\"#ed7953\"],[0.7777777777777778,\"#fb9f3a\"],[0.8888888888888888,\"#fdca26\"],[1.0,\"#f0f921\"]]},\"colorway\":[\"#636efa\",\"#EF553B\",\"#00cc96\",\"#ab63fa\",\"#FFA15A\",\"#19d3f3\",\"#FF6692\",\"#B6E880\",\"#FF97FF\",\"#FECB52\"],\"font\":{\"color\":\"#2a3f5f\"},\"geo\":{\"bgcolor\":\"white\",\"lakecolor\":\"white\",\"landcolor\":\"white\",\"showlakes\":true,\"showland\":true,\"subunitcolor\":\"#C8D4E3\"},\"hoverlabel\":{\"align\":\"left\"},\"hovermode\":\"closest\",\"mapbox\":{\"style\":\"light\"},\"paper_bgcolor\":\"white\",\"plot_bgcolor\":\"white\",\"polar\":{\"angularaxis\":{\"gridcolor\":\"#EBF0F8\",\"linecolor\":\"#EBF0F8\",\"ticks\":\"\"},\"bgcolor\":\"white\",\"radialaxis\":{\"gridcolor\":\"#EBF0F8\",\"linecolor\":\"#EBF0F8\",\"ticks\":\"\"}},\"scene\":{\"xaxis\":{\"backgroundcolor\":\"white\",\"gridcolor\":\"#DFE8F3\",\"gridwidth\":2,\"linecolor\":\"#EBF0F8\",\"showbackground\":true,\"ticks\":\"\",\"zerolinecolor\":\"#EBF0F8\"},\"yaxis\":{\"backgroundcolor\":\"white\",\"gridcolor\":\"#DFE8F3\",\"gridwidth\":2,\"linecolor\":\"#EBF0F8\",\"showbackground\":true,\"ticks\":\"\",\"zerolinecolor\":\"#EBF0F8\"},\"zaxis\":{\"backgroundcolor\":\"white\",\"gridcolor\":\"#DFE8F3\",\"gridwidth\":2,\"linecolor\":\"#EBF0F8\",\"showbackground\":true,\"ticks\":\"\",\"zerolinecolor\":\"#EBF0F8\"}},\"shapedefaults\":{\"line\":{\"color\":\"#2a3f5f\"}},\"ternary\":{\"aaxis\":{\"gridcolor\":\"#DFE8F3\",\"linecolor\":\"#A2B1C6\",\"ticks\":\"\"},\"baxis\":{\"gridcolor\":\"#DFE8F3\",\"linecolor\":\"#A2B1C6\",\"ticks\":\"\"},\"bgcolor\":\"white\",\"caxis\":{\"gridcolor\":\"#DFE8F3\",\"linecolor\":\"#A2B1C6\",\"ticks\":\"\"}},\"title\":{\"x\":0.05},\"xaxis\":{\"automargin\":true,\"gridcolor\":\"#EBF0F8\",\"linecolor\":\"#EBF0F8\",\"ticks\":\"\",\"title\":{\"standoff\":15},\"zerolinecolor\":\"#EBF0F8\",\"zerolinewidth\":2},\"yaxis\":{\"automargin\":true,\"gridcolor\":\"#EBF0F8\",\"linecolor\":\"#EBF0F8\",\"ticks\":\"\",\"title\":{\"standoff\":15},\"zerolinecolor\":\"#EBF0F8\",\"zerolinewidth\":2}}},\"title\":{\"text\":\"Demographic Parity (DP) Comparison\"},\"xaxis\":{\"title\":{\"text\":\"Datasets\"}},\"yaxis\":{\"title\":{\"text\":\"DP Score\"}}},                        {\"responsive\": true}                    ).then(function(){\n",
              "                            \n",
              "var gd = document.getElementById('dc31c28e-bda9-4de2-975d-adab5b236743');\n",
              "var x = new MutationObserver(function (mutations, observer) {{\n",
              "        var display = window.getComputedStyle(gd).display;\n",
              "        if (!display || display === 'none') {{\n",
              "            console.log([gd, 'removed!']);\n",
              "            Plotly.purge(gd);\n",
              "            observer.disconnect();\n",
              "        }}\n",
              "}});\n",
              "\n",
              "// Listen for the removal of the full notebook cells\n",
              "var notebookContainer = gd.closest('#notebook-container');\n",
              "if (notebookContainer) {{\n",
              "    x.observe(notebookContainer, {childList: true});\n",
              "}}\n",
              "\n",
              "// Listen for the clearing of the current output cell\n",
              "var outputEl = gd.closest('.output');\n",
              "if (outputEl) {{\n",
              "    x.observe(outputEl, {childList: true});\n",
              "}}\n",
              "\n",
              "                        })                };                            </script>        </div>\n",
              "</body>\n",
              "</html>"
            ]
          },
          "metadata": {},
          "output_type": "display_data"
        }
      ],
      "source": [
        "import plotly.graph_objects as go\n",
        "\n",
        "# Data\n",
        "datasets = ['StereoSet', 'CrowS-Pairs']\n",
        "eo_anti = [-0.0143, -0.0136]  # EO Anti\n",
        "eo_stereo = [-0.0144, -0.0136]  # EO Stereo\n",
        "dp = [0.000191, 2.2e-05]  # Demographic Parity\n",
        "\n",
        "# --- Equal Opportunity Interactive Bar Chart ---\n",
        "fig1 = go.Figure()\n",
        "\n",
        "# Add EO (Anti)\n",
        "fig1.add_trace(go.Bar(\n",
        "    x=datasets,\n",
        "    y=eo_anti,\n",
        "    name=\"EO (Anti)\",\n",
        "    marker_color='skyblue',\n",
        "    text=[f\"{v:.4f}\" for v in eo_anti],\n",
        "    textposition='auto'\n",
        "))\n",
        "\n",
        "# Add EO (Stereo)\n",
        "fig1.add_trace(go.Bar(\n",
        "    x=datasets,\n",
        "    y=eo_stereo,\n",
        "    name=\"EO (Stereo)\",\n",
        "    marker_color='orange',\n",
        "    text=[f\"{v:.4f}\" for v in eo_stereo],\n",
        "    textposition='auto'\n",
        "))\n",
        "\n",
        "# Update layout\n",
        "fig1.update_layout(\n",
        "    title=\"Equal Opportunity (EO) Comparison\",\n",
        "    xaxis_title=\"Datasets\",\n",
        "    yaxis_title=\"EO Score\",\n",
        "    barmode='group',\n",
        "    template='plotly_white'\n",
        ")\n",
        "\n",
        "# Show the figure\n",
        "fig1.show()\n",
        "\n",
        "# --- Demographic Parity Interactive Bar Chart ---\n",
        "fig2 = go.Figure()\n",
        "\n",
        "# Add DP\n",
        "fig2.add_trace(go.Bar(\n",
        "    x=datasets,\n",
        "    y=dp,\n",
        "    name=\"Demographic Parity (DP)\",\n",
        "    marker_color=['blue', 'green'],\n",
        "    text=[f\"{v:.8f}\" for v in dp],\n",
        "    textposition='auto'\n",
        "))\n",
        "\n",
        "# Update layout\n",
        "fig2.update_layout(\n",
        "    title=\"Demographic Parity (DP) Comparison\",\n",
        "    xaxis_title=\"Datasets\",\n",
        "    yaxis_title=\"DP Score\",\n",
        "    template='plotly_white'\n",
        ")\n",
        "\n",
        "# Show the figure\n",
        "fig2.show()\n"
      ]
    },
    {
      "cell_type": "code",
      "execution_count": null,
      "metadata": {
        "colab": {
          "base_uri": "https://localhost:8080/",
          "height": 997
        },
        "id": "vNchWQ9ew0ed",
        "outputId": "173f9097-3e55-4d17-a002-4fd9645276a5"
      },
      "outputs": [
        {
          "data": {
            "image/png": "[encoded data removed]",
            "text/plain": [
              "<Figure size 800x500 with 1 Axes>"
            ]
          },
          "metadata": {},
          "output_type": "display_data"
        },
        {
          "data": {
            "image/png": "[encoded data removed]",
            "text/plain": [
              "<Figure size 800x500 with 1 Axes>"
            ]
          },
          "metadata": {},
          "output_type": "display_data"
        }
      ],
      "source": [
        "import matplotlib.pyplot as plt\n",
        "import numpy as np\n",
        "\n",
        "# Data for visualization\n",
        "datasets = ['StereoSet', 'CrowS-Pairs']\n",
        "eo_anti = [-0.0143, -0.0136]  # EO Anti\n",
        "eo_stereo = [-0.0144, -0.0136]  # EO Stereo\n",
        "dp = [0.000191, 2.2e-05]  # Demographic Parity\n",
        "\n",
        "# --- Classic EO Plot ---\n",
        "plt.figure(figsize=(8, 5))\n",
        "x = np.arange(len(datasets))  # Dataset positions\n",
        "width = 0.35  # Bar width\n",
        "\n",
        "# EO Anti and Stereo Bars\n",
        "plt.bar(x - width/2, eo_anti, width, label='EO (Anti)', color='steelblue', edgecolor='black')\n",
        "plt.bar(x + width/2, eo_stereo, width, label='EO (Stereo)', color='orange', edgecolor='black')\n",
        "\n",
        "# Add labels and title\n",
        "plt.xticks(x, datasets, fontsize=12)\n",
        "plt.ylabel(\"EO Score\", fontsize=12)\n",
        "plt.title(\"Equal Opportunity (EO) Comparison\", fontsize=14)\n",
        "plt.legend(fontsize=12)\n",
        "\n",
        "# Add values to bars\n",
        "for i, v in enumerate(eo_anti):\n",
        "    plt.text(i - width/2, v, f\"{v:.4f}\", ha='center', va='bottom', fontsize=10, color='black')\n",
        "for i, v in enumerate(eo_stereo):\n",
        "    plt.text(i + width/2, v, f\"{v:.4f}\", ha='center', va='bottom', fontsize=10, color='black')\n",
        "\n",
        "plt.tight_layout()\n",
        "plt.grid(axis='y', linestyle='--', alpha=0.7)\n",
        "plt.show()\n",
        "\n",
        "# --- Classic DP Plot ---\n",
        "plt.figure(figsize=(8, 5))\n",
        "\n",
        "# DP Bars\n",
        "plt.bar(datasets, dp, color=['steelblue', 'green'], edgecolor='black', alpha=0.7)\n",
        "\n",
        "# Add labels and title\n",
        "plt.ylabel(\"DP Score\", fontsize=12)\n",
        "plt.title(\"Demographic Parity (DP) Comparison\", fontsize=14)\n",
        "\n",
        "# Add values to bars\n",
        "for i, v in enumerate(dp):\n",
        "    plt.text(i, v, f\"{v:.8f}\", ha='center', va='bottom', fontsize=10, color='black')\n",
        "\n",
        "plt.tight_layout()\n",
        "plt.grid(axis='y', linestyle='--', alpha=0.7)\n",
        "plt.show()\n"
      ]
    },
    {
      "cell_type": "code",
      "execution_count": null,
      "metadata": {
        "id": "FHwb0trpxhl-"
      },
      "outputs": [],
      "source": []
    },
    {
      "cell_type": "markdown",
      "metadata": {
        "id": "jrL_8mio8lx2"
      },
      "source": [
        "Steps for Phase 2\n",
        "Re-run Bias Detection:\n",
        "\n",
        "Apply StereoSet and CrowS-Pairs datasets to the debiased DistilBERT model.\n",
        "Collect scores for stereotype and anti-stereotype sentences.\n",
        "Aggregate Metrics:\n",
        "\n",
        "Compute average scores for stereotype and anti-stereotype categories.\n",
        "Calculate metrics like Bias Score, Equal Opportunity (EO), and Demographic Parity (DP).\n",
        "Comparison of Pre- and Post-Debiasing Metrics:\n",
        "\n",
        "Compare metrics to quantify improvements.\n",
        "Visualization:\n",
        "\n",
        "Generate comparative plots for pre- and post-debiasing metrics."
      ]
    },
    {
      "cell_type": "code",
      "execution_count": null,
      "metadata": {
        "colab": {
          "base_uri": "https://localhost:8080/"
        },
        "id": "X7C6Q4zc8ecn",
        "outputId": "5309658d-40b6-4ee4-c5ef-eb8a9eb77f58"
      },
      "outputs": [
        {
          "name": "stdout",
          "output_type": "stream",
          "text": [
            "Debiased StereoSet evaluation completed. Results saved to stereoset_results_debiased.csv.\n"
          ]
        }
      ],
      "source": [
        "# Function to evaluate the debiased model on StereoSet\n",
        "def evaluate_stereoset(entries, tokenizer, model, batch_size=8):\n",
        "    results = []\n",
        "\n",
        "    for i in range(0, len(entries), batch_size):\n",
        "        batch = entries[i:i + batch_size]\n",
        "\n",
        "        # Extract sentences\n",
        "        contexts = [entry['context'] for entry in batch]\n",
        "        anti_sentences = [entry['sentences'][0]['sentence'] for entry in batch]\n",
        "        stereo_sentences = [entry['sentences'][1]['sentence'] for entry in batch]\n",
        "\n",
        "        # Tokenize anti-stereotype sentences\n",
        "        inputs_anti = tokenizer(contexts, anti_sentences, return_tensors=\"pt\", padding=True, truncation=True).to(device)\n",
        "\n",
        "        # Tokenize stereotype sentences\n",
        "        inputs_stereo = tokenizer(contexts, stereo_sentences, return_tensors=\"pt\", padding=True, truncation=True).to(device)\n",
        "\n",
        "        # Forward pass through the model\n",
        "        with torch.no_grad():\n",
        "            outputs_anti = model(**inputs_anti).last_hidden_state.mean(dim=1).cpu().numpy()\n",
        "            outputs_stereo = model(**inputs_stereo).last_hidden_state.mean(dim=1).cpu().numpy()\n",
        "\n",
        "        # Store the scores\n",
        "        for j in range(len(batch)):\n",
        "            results.append({\n",
        "                'target': batch[j]['target'],\n",
        "                'bias_type': batch[j]['bias_type'],\n",
        "                'anti_score': outputs_anti[j].mean(),\n",
        "                'stereo_score': outputs_stereo[j].mean()\n",
        "            })\n",
        "\n",
        "    return pd.DataFrame(results)\n",
        "\n",
        "# Evaluate StereoSet\n",
        "stereoset_results_debiased = evaluate_stereoset(stereoset_data['data']['intersentence'], tokenizer, model)\n",
        "\n",
        "# Save results\n",
        "stereoset_results_debiased.to_csv(\"stereoset_results_debiased.csv\", index=False)\n",
        "print(\"Debiased StereoSet evaluation completed. Results saved to stereoset_results_debiased.csv.\")\n"
      ]
    },
    {
      "cell_type": "code",
      "execution_count": null,
      "metadata": {
        "colab": {
          "base_uri": "https://localhost:8080/"
        },
        "id": "_zT3jfxm8sJ-",
        "outputId": "b813bc91-4fbe-4ac1-b653-724b68290d27"
      },
      "outputs": [
        {
          "name": "stdout",
          "output_type": "stream",
          "text": [
            "Debiased CrowS-Pairs evaluation completed. Results saved to crows_pairs_results_debiased.csv.\n"
          ]
        }
      ],
      "source": [
        "# Function to evaluate the debiased model on CrowS-Pairs\n",
        "def evaluate_crows_pairs(data, tokenizer, model):\n",
        "    results = []\n",
        "    for _, row in data.iterrows():\n",
        "        sent_more = row['sent_more']  # Stereotype\n",
        "        sent_less = row['sent_less']  # Anti-stereotype\n",
        "\n",
        "        # Tokenize sentences\n",
        "        inputs_more = tokenizer(sent_more, return_tensors=\"pt\", padding=True, truncation=True).to(device)\n",
        "        inputs_less = tokenizer(sent_less, return_tensors=\"pt\", padding=True, truncation=True).to(device)\n",
        "\n",
        "        # Forward pass through the model\n",
        "        with torch.no_grad():\n",
        "            outputs_more = model(**inputs_more).last_hidden_state.mean(dim=1).cpu().numpy()\n",
        "            outputs_less = model(**inputs_less).last_hidden_state.mean(dim=1).cpu().numpy()\n",
        "\n",
        "        # Store the results\n",
        "        results.append({\n",
        "            'bias_type': row['bias_type'],\n",
        "            'stereo_score': outputs_more.mean(),\n",
        "            'anti_score': outputs_less.mean()\n",
        "        })\n",
        "\n",
        "    return pd.DataFrame(results)\n",
        "\n",
        "# Evaluate CrowS-Pairs\n",
        "crows_results_debiased = evaluate_crows_pairs(crows_pairs_data, tokenizer, model)\n",
        "\n",
        "# Save results\n",
        "crows_results_debiased.to_csv(\"crows_pairs_results_debiased.csv\", index=False)\n",
        "print(\"Debiased CrowS-Pairs evaluation completed. Results saved to crows_pairs_results_debiased.csv.\")\n"
      ]
    },
    {
      "cell_type": "code",
      "execution_count": null,
      "metadata": {
        "colab": {
          "base_uri": "https://localhost:8080/"
        },
        "id": "HQ3LJ1798s2B",
        "outputId": "6d310ebb-5f68-404a-8cb9-498dbf5bc54a"
      },
      "outputs": [
        {
          "name": "stdout",
          "output_type": "stream",
          "text": [
            "StereoSet - Avg Anti-Score: -0.015498830936849117, Avg Stereo-Score: -0.015689179301261902, DP: 0.00019034836441278458\n",
            "CrowS-Pairs - Avg Anti-Score: -0.014970716089010239, Avg Stereo-Score: -0.014965410344302654, DP: 5.305744707584381e-06\n"
          ]
        }
      ],
      "source": [
        "# Aggregate Metrics\n",
        "def aggregate_metrics(results):\n",
        "    avg_anti = results['anti_score'].mean()\n",
        "    avg_stereo = results['stereo_score'].mean()\n",
        "    dp = abs(avg_anti - avg_stereo)  # Demographic Parity\n",
        "    return avg_anti, avg_stereo, dp\n",
        "\n",
        "# StereoSet Metrics\n",
        "avg_anti_stereo_debiased, avg_stereo_stereo_debiased, dp_stereo_debiased = aggregate_metrics(stereoset_results_debiased)\n",
        "\n",
        "# CrowS-Pairs Metrics\n",
        "avg_anti_crows_debiased, avg_stereo_crows_debiased, dp_crows_debiased = aggregate_metrics(crows_results_debiased)\n",
        "\n",
        "print(f\"StereoSet - Avg Anti-Score: {avg_anti_stereo_debiased}, Avg Stereo-Score: {avg_stereo_stereo_debiased}, DP: {dp_stereo_debiased}\")\n",
        "print(f\"CrowS-Pairs - Avg Anti-Score: {avg_anti_crows_debiased}, Avg Stereo-Score: {avg_stereo_crows_debiased}, DP: {dp_crows_debiased}\")\n"
      ]
    },
    {
      "cell_type": "markdown",
      "metadata": {
        "id": "qGDWQPyf9AXs"
      },
      "source": [
        "Metrics for Debiased Model\n",
        "\n",
        "StereoSet\n",
        "\n",
        "Average Anti-Score: -0.0143\n",
        "\n",
        "Average Stereo-Score: -0.0145\n",
        "\n",
        "Demographic Parity (DP): 0.000191\n",
        "\n",
        "CrowS-Pairs\n",
        "\n",
        "Average Anti-Score: -0.0136\n",
        "\n",
        "Average Stereo-Score: -0.0136\n",
        "\n",
        "Demographic Parity (DP): 0.000022"
      ]
    },
    {
      "cell_type": "code",
      "execution_count": null,
      "metadata": {
        "colab": {
          "base_uri": "https://localhost:8080/",
          "height": 1000
        },
        "id": "elRtsqiy8zjI",
        "outputId": "74923f89-c13e-4a54-f34a-0e6586bc6c11"
      },
      "outputs": [
        {
          "data": {
            "text/html": [
              "<html>\n",
              "<head><meta charset=\"utf-8\" /></head>\n",
              "<body>\n",
              "    <div>            <script src=\"https://cdnjs.cloudflare.com/ajax/libs/mathjax/2.7.5/MathJax.js?config=TeX-AMS-MML_SVG\"></script><script type=\"text/javascript\">if (window.MathJax && window.MathJax.Hub && window.MathJax.Hub.Config) {window.MathJax.Hub.Config({SVG: {font: \"STIX-Web\"}});}</script>                <script type=\"text/javascript\">window.PlotlyConfig = {MathJaxConfig: 'local'};</script>\n",
              "        <script charset=\"utf-8\" src=\"https://cdn.plot.ly/plotly-2.35.2.min.js\"></script>                <div id=\"a19f0cf6-3526-41fd-b76a-74716b22b061\" class=\"plotly-graph-div\" style=\"height:500px; width:900px;\"></div>            <script type=\"text/javascript\">                                    window.PLOTLYENV=window.PLOTLYENV || {};                                    if (document.getElementById(\"a19f0cf6-3526-41fd-b76a-74716b22b061\")) {                    Plotly.newPlot(                        \"a19f0cf6-3526-41fd-b76a-74716b22b061\",                        [{\"marker\":{\"color\":\"skyblue\"},\"name\":\"Pre-Debiasing EO (Anti)\",\"text\":[\"-0.0143\",\"-0.0136\"],\"textposition\":\"auto\",\"x\":[\"StereoSet\",\"CrowS-Pairs\"],\"y\":[-0.0143,-0.0136],\"type\":\"bar\"},{\"marker\":{\"color\":\"orange\"},\"name\":\"Pre-Debiasing EO (Stereo)\",\"text\":[\"-0.0144\",\"-0.0136\"],\"textposition\":\"auto\",\"x\":[\"StereoSet\",\"CrowS-Pairs\"],\"y\":[-0.0144,-0.0136],\"type\":\"bar\"},{\"marker\":{\"color\":\"blue\"},\"name\":\"Post-Debiasing EO (Anti)\",\"text\":[\"-0.0143\",\"-0.0136\"],\"textposition\":\"auto\",\"x\":[\"StereoSet\",\"CrowS-Pairs\"],\"y\":[-0.014321784488856792,-0.013605810701847076],\"type\":\"bar\"},{\"marker\":{\"color\":\"darkorange\"},\"name\":\"Post-Debiasing EO (Stereo)\",\"text\":[\"-0.0145\",\"-0.0136\"],\"textposition\":\"auto\",\"x\":[\"StereoSet\",\"CrowS-Pairs\"],\"y\":[-0.014513268135488033,-0.013627814128994942],\"type\":\"bar\"}],                        {\"template\":{\"data\":{\"barpolar\":[{\"marker\":{\"line\":{\"color\":\"white\",\"width\":0.5},\"pattern\":{\"fillmode\":\"overlay\",\"size\":10,\"solidity\":0.2}},\"type\":\"barpolar\"}],\"bar\":[{\"error_x\":{\"color\":\"#2a3f5f\"},\"error_y\":{\"color\":\"#2a3f5f\"},\"marker\":{\"line\":{\"color\":\"white\",\"width\":0.5},\"pattern\":{\"fillmode\":\"overlay\",\"size\":10,\"solidity\":0.2}},\"type\":\"bar\"}],\"carpet\":[{\"aaxis\":{\"endlinecolor\":\"#2a3f5f\",\"gridcolor\":\"#C8D4E3\",\"linecolor\":\"#C8D4E3\",\"minorgridcolor\":\"#C8D4E3\",\"startlinecolor\":\"#2a3f5f\"},\"baxis\":{\"endlinecolor\":\"#2a3f5f\",\"gridcolor\":\"#C8D4E3\",\"linecolor\":\"#C8D4E3\",\"minorgridcolor\":\"#C8D4E3\",\"startlinecolor\":\"#2a3f5f\"},\"type\":\"carpet\"}],\"choropleth\":[{\"colorbar\":{\"outlinewidth\":0,\"ticks\":\"\"},\"type\":\"choropleth\"}],\"contourcarpet\":[{\"colorbar\":{\"outlinewidth\":0,\"ticks\":\"\"},\"type\":\"contourcarpet\"}],\"contour\":[{\"colorbar\":{\"outlinewidth\":0,\"ticks\":\"\"},\"colorscale\":[[0.0,\"#0d0887\"],[0.1111111111111111,\"#46039f\"],[0.2222222222222222,\"#7201a8\"],[0.3333333333333333,\"#9c179e\"],[0.4444444444444444,\"#bd3786\"],[0.5555555555555556,\"#d8576b\"],[0.6666666666666666,\"#ed7953\"],[0.7777777777777778,\"#fb9f3a\"],[0.8888888888888888,\"#fdca26\"],[1.0,\"#f0f921\"]],\"type\":\"contour\"}],\"heatmapgl\":[{\"colorbar\":{\"outlinewidth\":0,\"ticks\":\"\"},\"colorscale\":[[0.0,\"#0d0887\"],[0.1111111111111111,\"#46039f\"],[0.2222222222222222,\"#7201a8\"],[0.3333333333333333,\"#9c179e\"],[0.4444444444444444,\"#bd3786\"],[0.5555555555555556,\"#d8576b\"],[0.6666666666666666,\"#ed7953\"],[0.7777777777777778,\"#fb9f3a\"],[0.8888888888888888,\"#fdca26\"],[1.0,\"#f0f921\"]],\"type\":\"heatmapgl\"}],\"heatmap\":[{\"colorbar\":{\"outlinewidth\":0,\"ticks\":\"\"},\"colorscale\":[[0.0,\"#0d0887\"],[0.1111111111111111,\"#46039f\"],[0.2222222222222222,\"#7201a8\"],[0.3333333333333333,\"#9c179e\"],[0.4444444444444444,\"#bd3786\"],[0.5555555555555556,\"#d8576b\"],[0.6666666666666666,\"#ed7953\"],[0.7777777777777778,\"#fb9f3a\"],[0.8888888888888888,\"#fdca26\"],[1.0,\"#f0f921\"]],\"type\":\"heatmap\"}],\"histogram2dcontour\":[{\"colorbar\":{\"outlinewidth\":0,\"ticks\":\"\"},\"colorscale\":[[0.0,\"#0d0887\"],[0.1111111111111111,\"#46039f\"],[0.2222222222222222,\"#7201a8\"],[0.3333333333333333,\"#9c179e\"],[0.4444444444444444,\"#bd3786\"],[0.5555555555555556,\"#d8576b\"],[0.6666666666666666,\"#ed7953\"],[0.7777777777777778,\"#fb9f3a\"],[0.8888888888888888,\"#fdca26\"],[1.0,\"#f0f921\"]],\"type\":\"histogram2dcontour\"}],\"histogram2d\":[{\"colorbar\":{\"outlinewidth\":0,\"ticks\":\"\"},\"colorscale\":[[0.0,\"#0d0887\"],[0.1111111111111111,\"#46039f\"],[0.2222222222222222,\"#7201a8\"],[0.3333333333333333,\"#9c179e\"],[0.4444444444444444,\"#bd3786\"],[0.5555555555555556,\"#d8576b\"],[0.6666666666666666,\"#ed7953\"],[0.7777777777777778,\"#fb9f3a\"],[0.8888888888888888,\"#fdca26\"],[1.0,\"#f0f921\"]],\"type\":\"histogram2d\"}],\"histogram\":[{\"marker\":{\"pattern\":{\"fillmode\":\"overlay\",\"size\":10,\"solidity\":0.2}},\"type\":\"histogram\"}],\"mesh3d\":[{\"colorbar\":{\"outlinewidth\":0,\"ticks\":\"\"},\"type\":\"mesh3d\"}],\"parcoords\":[{\"line\":{\"colorbar\":{\"outlinewidth\":0,\"ticks\":\"\"}},\"type\":\"parcoords\"}],\"pie\":[{\"automargin\":true,\"type\":\"pie\"}],\"scatter3d\":[{\"line\":{\"colorbar\":{\"outlinewidth\":0,\"ticks\":\"\"}},\"marker\":{\"colorbar\":{\"outlinewidth\":0,\"ticks\":\"\"}},\"type\":\"scatter3d\"}],\"scattercarpet\":[{\"marker\":{\"colorbar\":{\"outlinewidth\":0,\"ticks\":\"\"}},\"type\":\"scattercarpet\"}],\"scattergeo\":[{\"marker\":{\"colorbar\":{\"outlinewidth\":0,\"ticks\":\"\"}},\"type\":\"scattergeo\"}],\"scattergl\":[{\"marker\":{\"colorbar\":{\"outlinewidth\":0,\"ticks\":\"\"}},\"type\":\"scattergl\"}],\"scattermapbox\":[{\"marker\":{\"colorbar\":{\"outlinewidth\":0,\"ticks\":\"\"}},\"type\":\"scattermapbox\"}],\"scatterpolargl\":[{\"marker\":{\"colorbar\":{\"outlinewidth\":0,\"ticks\":\"\"}},\"type\":\"scatterpolargl\"}],\"scatterpolar\":[{\"marker\":{\"colorbar\":{\"outlinewidth\":0,\"ticks\":\"\"}},\"type\":\"scatterpolar\"}],\"scatter\":[{\"fillpattern\":{\"fillmode\":\"overlay\",\"size\":10,\"solidity\":0.2},\"type\":\"scatter\"}],\"scatterternary\":[{\"marker\":{\"colorbar\":{\"outlinewidth\":0,\"ticks\":\"\"}},\"type\":\"scatterternary\"}],\"surface\":[{\"colorbar\":{\"outlinewidth\":0,\"ticks\":\"\"},\"colorscale\":[[0.0,\"#0d0887\"],[0.1111111111111111,\"#46039f\"],[0.2222222222222222,\"#7201a8\"],[0.3333333333333333,\"#9c179e\"],[0.4444444444444444,\"#bd3786\"],[0.5555555555555556,\"#d8576b\"],[0.6666666666666666,\"#ed7953\"],[0.7777777777777778,\"#fb9f3a\"],[0.8888888888888888,\"#fdca26\"],[1.0,\"#f0f921\"]],\"type\":\"surface\"}],\"table\":[{\"cells\":{\"fill\":{\"color\":\"#EBF0F8\"},\"line\":{\"color\":\"white\"}},\"header\":{\"fill\":{\"color\":\"#C8D4E3\"},\"line\":{\"color\":\"white\"}},\"type\":\"table\"}]},\"layout\":{\"annotationdefaults\":{\"arrowcolor\":\"#2a3f5f\",\"arrowhead\":0,\"arrowwidth\":1},\"autotypenumbers\":\"strict\",\"coloraxis\":{\"colorbar\":{\"outlinewidth\":0,\"ticks\":\"\"}},\"colorscale\":{\"diverging\":[[0,\"#8e0152\"],[0.1,\"#c51b7d\"],[0.2,\"#de77ae\"],[0.3,\"#f1b6da\"],[0.4,\"#fde0ef\"],[0.5,\"#f7f7f7\"],[0.6,\"#e6f5d0\"],[0.7,\"#b8e186\"],[0.8,\"#7fbc41\"],[0.9,\"#4d9221\"],[1,\"#276419\"]],\"sequential\":[[0.0,\"#0d0887\"],[0.1111111111111111,\"#46039f\"],[0.2222222222222222,\"#7201a8\"],[0.3333333333333333,\"#9c179e\"],[0.4444444444444444,\"#bd3786\"],[0.5555555555555556,\"#d8576b\"],[0.6666666666666666,\"#ed7953\"],[0.7777777777777778,\"#fb9f3a\"],[0.8888888888888888,\"#fdca26\"],[1.0,\"#f0f921\"]],\"sequentialminus\":[[0.0,\"#0d0887\"],[0.1111111111111111,\"#46039f\"],[0.2222222222222222,\"#7201a8\"],[0.3333333333333333,\"#9c179e\"],[0.4444444444444444,\"#bd3786\"],[0.5555555555555556,\"#d8576b\"],[0.6666666666666666,\"#ed7953\"],[0.7777777777777778,\"#fb9f3a\"],[0.8888888888888888,\"#fdca26\"],[1.0,\"#f0f921\"]]},\"colorway\":[\"#636efa\",\"#EF553B\",\"#00cc96\",\"#ab63fa\",\"#FFA15A\",\"#19d3f3\",\"#FF6692\",\"#B6E880\",\"#FF97FF\",\"#FECB52\"],\"font\":{\"color\":\"#2a3f5f\"},\"geo\":{\"bgcolor\":\"white\",\"lakecolor\":\"white\",\"landcolor\":\"white\",\"showlakes\":true,\"showland\":true,\"subunitcolor\":\"#C8D4E3\"},\"hoverlabel\":{\"align\":\"left\"},\"hovermode\":\"closest\",\"mapbox\":{\"style\":\"light\"},\"paper_bgcolor\":\"white\",\"plot_bgcolor\":\"white\",\"polar\":{\"angularaxis\":{\"gridcolor\":\"#EBF0F8\",\"linecolor\":\"#EBF0F8\",\"ticks\":\"\"},\"bgcolor\":\"white\",\"radialaxis\":{\"gridcolor\":\"#EBF0F8\",\"linecolor\":\"#EBF0F8\",\"ticks\":\"\"}},\"scene\":{\"xaxis\":{\"backgroundcolor\":\"white\",\"gridcolor\":\"#DFE8F3\",\"gridwidth\":2,\"linecolor\":\"#EBF0F8\",\"showbackground\":true,\"ticks\":\"\",\"zerolinecolor\":\"#EBF0F8\"},\"yaxis\":{\"backgroundcolor\":\"white\",\"gridcolor\":\"#DFE8F3\",\"gridwidth\":2,\"linecolor\":\"#EBF0F8\",\"showbackground\":true,\"ticks\":\"\",\"zerolinecolor\":\"#EBF0F8\"},\"zaxis\":{\"backgroundcolor\":\"white\",\"gridcolor\":\"#DFE8F3\",\"gridwidth\":2,\"linecolor\":\"#EBF0F8\",\"showbackground\":true,\"ticks\":\"\",\"zerolinecolor\":\"#EBF0F8\"}},\"shapedefaults\":{\"line\":{\"color\":\"#2a3f5f\"}},\"ternary\":{\"aaxis\":{\"gridcolor\":\"#DFE8F3\",\"linecolor\":\"#A2B1C6\",\"ticks\":\"\"},\"baxis\":{\"gridcolor\":\"#DFE8F3\",\"linecolor\":\"#A2B1C6\",\"ticks\":\"\"},\"bgcolor\":\"white\",\"caxis\":{\"gridcolor\":\"#DFE8F3\",\"linecolor\":\"#A2B1C6\",\"ticks\":\"\"}},\"title\":{\"x\":0.05},\"xaxis\":{\"automargin\":true,\"gridcolor\":\"#EBF0F8\",\"linecolor\":\"#EBF0F8\",\"ticks\":\"\",\"title\":{\"standoff\":15},\"zerolinecolor\":\"#EBF0F8\",\"zerolinewidth\":2},\"yaxis\":{\"automargin\":true,\"gridcolor\":\"#EBF0F8\",\"linecolor\":\"#EBF0F8\",\"ticks\":\"\",\"title\":{\"standoff\":15},\"zerolinecolor\":\"#EBF0F8\",\"zerolinewidth\":2}}},\"title\":{\"text\":\"Pre- vs Post-Debiasing EO Comparison\"},\"xaxis\":{\"title\":{\"text\":\"Datasets\"}},\"yaxis\":{\"title\":{\"text\":\"EO Scores\"}},\"barmode\":\"group\",\"width\":900,\"height\":500},                        {\"responsive\": true}                    ).then(function(){\n",
              "                            \n",
              "var gd = document.getElementById('a19f0cf6-3526-41fd-b76a-74716b22b061');\n",
              "var x = new MutationObserver(function (mutations, observer) {{\n",
              "        var display = window.getComputedStyle(gd).display;\n",
              "        if (!display || display === 'none') {{\n",
              "            console.log([gd, 'removed!']);\n",
              "            Plotly.purge(gd);\n",
              "            observer.disconnect();\n",
              "        }}\n",
              "}});\n",
              "\n",
              "// Listen for the removal of the full notebook cells\n",
              "var notebookContainer = gd.closest('#notebook-container');\n",
              "if (notebookContainer) {{\n",
              "    x.observe(notebookContainer, {childList: true});\n",
              "}}\n",
              "\n",
              "// Listen for the clearing of the current output cell\n",
              "var outputEl = gd.closest('.output');\n",
              "if (outputEl) {{\n",
              "    x.observe(outputEl, {childList: true});\n",
              "}}\n",
              "\n",
              "                        })                };                            </script>        </div>\n",
              "</body>\n",
              "</html>"
            ]
          },
          "metadata": {},
          "output_type": "display_data"
        },
        {
          "data": {
            "text/html": [
              "<html>\n",
              "<head><meta charset=\"utf-8\" /></head>\n",
              "<body>\n",
              "    <div>            <script src=\"https://cdnjs.cloudflare.com/ajax/libs/mathjax/2.7.5/MathJax.js?config=TeX-AMS-MML_SVG\"></script><script type=\"text/javascript\">if (window.MathJax && window.MathJax.Hub && window.MathJax.Hub.Config) {window.MathJax.Hub.Config({SVG: {font: \"STIX-Web\"}});}</script>                <script type=\"text/javascript\">window.PlotlyConfig = {MathJaxConfig: 'local'};</script>\n",
              "        <script charset=\"utf-8\" src=\"https://cdn.plot.ly/plotly-2.35.2.min.js\"></script>                <div id=\"d1c43af8-c8e2-4f3e-aabb-7f4e807eb4a3\" class=\"plotly-graph-div\" style=\"height:500px; width:900px;\"></div>            <script type=\"text/javascript\">                                    window.PLOTLYENV=window.PLOTLYENV || {};                                    if (document.getElementById(\"d1c43af8-c8e2-4f3e-aabb-7f4e807eb4a3\")) {                    Plotly.newPlot(                        \"d1c43af8-c8e2-4f3e-aabb-7f4e807eb4a3\",                        [{\"marker\":{\"color\":\"green\"},\"name\":\"Pre-Debiasing DP\",\"text\":[\"0.00019100\",\"0.00002200\"],\"textposition\":\"auto\",\"x\":[\"StereoSet\",\"CrowS-Pairs\"],\"y\":[0.000191,0.000022],\"type\":\"bar\"},{\"marker\":{\"color\":\"purple\"},\"name\":\"Post-Debiasing DP\",\"text\":[\"0.00019148\",\"0.00002200\"],\"textposition\":\"auto\",\"x\":[\"StereoSet\",\"CrowS-Pairs\"],\"y\":[0.00019148364663124084,0.000022003427147865295],\"type\":\"bar\"}],                        {\"template\":{\"data\":{\"barpolar\":[{\"marker\":{\"line\":{\"color\":\"white\",\"width\":0.5},\"pattern\":{\"fillmode\":\"overlay\",\"size\":10,\"solidity\":0.2}},\"type\":\"barpolar\"}],\"bar\":[{\"error_x\":{\"color\":\"#2a3f5f\"},\"error_y\":{\"color\":\"#2a3f5f\"},\"marker\":{\"line\":{\"color\":\"white\",\"width\":0.5},\"pattern\":{\"fillmode\":\"overlay\",\"size\":10,\"solidity\":0.2}},\"type\":\"bar\"}],\"carpet\":[{\"aaxis\":{\"endlinecolor\":\"#2a3f5f\",\"gridcolor\":\"#C8D4E3\",\"linecolor\":\"#C8D4E3\",\"minorgridcolor\":\"#C8D4E3\",\"startlinecolor\":\"#2a3f5f\"},\"baxis\":{\"endlinecolor\":\"#2a3f5f\",\"gridcolor\":\"#C8D4E3\",\"linecolor\":\"#C8D4E3\",\"minorgridcolor\":\"#C8D4E3\",\"startlinecolor\":\"#2a3f5f\"},\"type\":\"carpet\"}],\"choropleth\":[{\"colorbar\":{\"outlinewidth\":0,\"ticks\":\"\"},\"type\":\"choropleth\"}],\"contourcarpet\":[{\"colorbar\":{\"outlinewidth\":0,\"ticks\":\"\"},\"type\":\"contourcarpet\"}],\"contour\":[{\"colorbar\":{\"outlinewidth\":0,\"ticks\":\"\"},\"colorscale\":[[0.0,\"#0d0887\"],[0.1111111111111111,\"#46039f\"],[0.2222222222222222,\"#7201a8\"],[0.3333333333333333,\"#9c179e\"],[0.4444444444444444,\"#bd3786\"],[0.5555555555555556,\"#d8576b\"],[0.6666666666666666,\"#ed7953\"],[0.7777777777777778,\"#fb9f3a\"],[0.8888888888888888,\"#fdca26\"],[1.0,\"#f0f921\"]],\"type\":\"contour\"}],\"heatmapgl\":[{\"colorbar\":{\"outlinewidth\":0,\"ticks\":\"\"},\"colorscale\":[[0.0,\"#0d0887\"],[0.1111111111111111,\"#46039f\"],[0.2222222222222222,\"#7201a8\"],[0.3333333333333333,\"#9c179e\"],[0.4444444444444444,\"#bd3786\"],[0.5555555555555556,\"#d8576b\"],[0.6666666666666666,\"#ed7953\"],[0.7777777777777778,\"#fb9f3a\"],[0.8888888888888888,\"#fdca26\"],[1.0,\"#f0f921\"]],\"type\":\"heatmapgl\"}],\"heatmap\":[{\"colorbar\":{\"outlinewidth\":0,\"ticks\":\"\"},\"colorscale\":[[0.0,\"#0d0887\"],[0.1111111111111111,\"#46039f\"],[0.2222222222222222,\"#7201a8\"],[0.3333333333333333,\"#9c179e\"],[0.4444444444444444,\"#bd3786\"],[0.5555555555555556,\"#d8576b\"],[0.6666666666666666,\"#ed7953\"],[0.7777777777777778,\"#fb9f3a\"],[0.8888888888888888,\"#fdca26\"],[1.0,\"#f0f921\"]],\"type\":\"heatmap\"}],\"histogram2dcontour\":[{\"colorbar\":{\"outlinewidth\":0,\"ticks\":\"\"},\"colorscale\":[[0.0,\"#0d0887\"],[0.1111111111111111,\"#46039f\"],[0.2222222222222222,\"#7201a8\"],[0.3333333333333333,\"#9c179e\"],[0.4444444444444444,\"#bd3786\"],[0.5555555555555556,\"#d8576b\"],[0.6666666666666666,\"#ed7953\"],[0.7777777777777778,\"#fb9f3a\"],[0.8888888888888888,\"#fdca26\"],[1.0,\"#f0f921\"]],\"type\":\"histogram2dcontour\"}],\"histogram2d\":[{\"colorbar\":{\"outlinewidth\":0,\"ticks\":\"\"},\"colorscale\":[[0.0,\"#0d0887\"],[0.1111111111111111,\"#46039f\"],[0.2222222222222222,\"#7201a8\"],[0.3333333333333333,\"#9c179e\"],[0.4444444444444444,\"#bd3786\"],[0.5555555555555556,\"#d8576b\"],[0.6666666666666666,\"#ed7953\"],[0.7777777777777778,\"#fb9f3a\"],[0.8888888888888888,\"#fdca26\"],[1.0,\"#f0f921\"]],\"type\":\"histogram2d\"}],\"histogram\":[{\"marker\":{\"pattern\":{\"fillmode\":\"overlay\",\"size\":10,\"solidity\":0.2}},\"type\":\"histogram\"}],\"mesh3d\":[{\"colorbar\":{\"outlinewidth\":0,\"ticks\":\"\"},\"type\":\"mesh3d\"}],\"parcoords\":[{\"line\":{\"colorbar\":{\"outlinewidth\":0,\"ticks\":\"\"}},\"type\":\"parcoords\"}],\"pie\":[{\"automargin\":true,\"type\":\"pie\"}],\"scatter3d\":[{\"line\":{\"colorbar\":{\"outlinewidth\":0,\"ticks\":\"\"}},\"marker\":{\"colorbar\":{\"outlinewidth\":0,\"ticks\":\"\"}},\"type\":\"scatter3d\"}],\"scattercarpet\":[{\"marker\":{\"colorbar\":{\"outlinewidth\":0,\"ticks\":\"\"}},\"type\":\"scattercarpet\"}],\"scattergeo\":[{\"marker\":{\"colorbar\":{\"outlinewidth\":0,\"ticks\":\"\"}},\"type\":\"scattergeo\"}],\"scattergl\":[{\"marker\":{\"colorbar\":{\"outlinewidth\":0,\"ticks\":\"\"}},\"type\":\"scattergl\"}],\"scattermapbox\":[{\"marker\":{\"colorbar\":{\"outlinewidth\":0,\"ticks\":\"\"}},\"type\":\"scattermapbox\"}],\"scatterpolargl\":[{\"marker\":{\"colorbar\":{\"outlinewidth\":0,\"ticks\":\"\"}},\"type\":\"scatterpolargl\"}],\"scatterpolar\":[{\"marker\":{\"colorbar\":{\"outlinewidth\":0,\"ticks\":\"\"}},\"type\":\"scatterpolar\"}],\"scatter\":[{\"fillpattern\":{\"fillmode\":\"overlay\",\"size\":10,\"solidity\":0.2},\"type\":\"scatter\"}],\"scatterternary\":[{\"marker\":{\"colorbar\":{\"outlinewidth\":0,\"ticks\":\"\"}},\"type\":\"scatterternary\"}],\"surface\":[{\"colorbar\":{\"outlinewidth\":0,\"ticks\":\"\"},\"colorscale\":[[0.0,\"#0d0887\"],[0.1111111111111111,\"#46039f\"],[0.2222222222222222,\"#7201a8\"],[0.3333333333333333,\"#9c179e\"],[0.4444444444444444,\"#bd3786\"],[0.5555555555555556,\"#d8576b\"],[0.6666666666666666,\"#ed7953\"],[0.7777777777777778,\"#fb9f3a\"],[0.8888888888888888,\"#fdca26\"],[1.0,\"#f0f921\"]],\"type\":\"surface\"}],\"table\":[{\"cells\":{\"fill\":{\"color\":\"#EBF0F8\"},\"line\":{\"color\":\"white\"}},\"header\":{\"fill\":{\"color\":\"#C8D4E3\"},\"line\":{\"color\":\"white\"}},\"type\":\"table\"}]},\"layout\":{\"annotationdefaults\":{\"arrowcolor\":\"#2a3f5f\",\"arrowhead\":0,\"arrowwidth\":1},\"autotypenumbers\":\"strict\",\"coloraxis\":{\"colorbar\":{\"outlinewidth\":0,\"ticks\":\"\"}},\"colorscale\":{\"diverging\":[[0,\"#8e0152\"],[0.1,\"#c51b7d\"],[0.2,\"#de77ae\"],[0.3,\"#f1b6da\"],[0.4,\"#fde0ef\"],[0.5,\"#f7f7f7\"],[0.6,\"#e6f5d0\"],[0.7,\"#b8e186\"],[0.8,\"#7fbc41\"],[0.9,\"#4d9221\"],[1,\"#276419\"]],\"sequential\":[[0.0,\"#0d0887\"],[0.1111111111111111,\"#46039f\"],[0.2222222222222222,\"#7201a8\"],[0.3333333333333333,\"#9c179e\"],[0.4444444444444444,\"#bd3786\"],[0.5555555555555556,\"#d8576b\"],[0.6666666666666666,\"#ed7953\"],[0.7777777777777778,\"#fb9f3a\"],[0.8888888888888888,\"#fdca26\"],[1.0,\"#f0f921\"]],\"sequentialminus\":[[0.0,\"#0d0887\"],[0.1111111111111111,\"#46039f\"],[0.2222222222222222,\"#7201a8\"],[0.3333333333333333,\"#9c179e\"],[0.4444444444444444,\"#bd3786\"],[0.5555555555555556,\"#d8576b\"],[0.6666666666666666,\"#ed7953\"],[0.7777777777777778,\"#fb9f3a\"],[0.8888888888888888,\"#fdca26\"],[1.0,\"#f0f921\"]]},\"colorway\":[\"#636efa\",\"#EF553B\",\"#00cc96\",\"#ab63fa\",\"#FFA15A\",\"#19d3f3\",\"#FF6692\",\"#B6E880\",\"#FF97FF\",\"#FECB52\"],\"font\":{\"color\":\"#2a3f5f\"},\"geo\":{\"bgcolor\":\"white\",\"lakecolor\":\"white\",\"landcolor\":\"white\",\"showlakes\":true,\"showland\":true,\"subunitcolor\":\"#C8D4E3\"},\"hoverlabel\":{\"align\":\"left\"},\"hovermode\":\"closest\",\"mapbox\":{\"style\":\"light\"},\"paper_bgcolor\":\"white\",\"plot_bgcolor\":\"white\",\"polar\":{\"angularaxis\":{\"gridcolor\":\"#EBF0F8\",\"linecolor\":\"#EBF0F8\",\"ticks\":\"\"},\"bgcolor\":\"white\",\"radialaxis\":{\"gridcolor\":\"#EBF0F8\",\"linecolor\":\"#EBF0F8\",\"ticks\":\"\"}},\"scene\":{\"xaxis\":{\"backgroundcolor\":\"white\",\"gridcolor\":\"#DFE8F3\",\"gridwidth\":2,\"linecolor\":\"#EBF0F8\",\"showbackground\":true,\"ticks\":\"\",\"zerolinecolor\":\"#EBF0F8\"},\"yaxis\":{\"backgroundcolor\":\"white\",\"gridcolor\":\"#DFE8F3\",\"gridwidth\":2,\"linecolor\":\"#EBF0F8\",\"showbackground\":true,\"ticks\":\"\",\"zerolinecolor\":\"#EBF0F8\"},\"zaxis\":{\"backgroundcolor\":\"white\",\"gridcolor\":\"#DFE8F3\",\"gridwidth\":2,\"linecolor\":\"#EBF0F8\",\"showbackground\":true,\"ticks\":\"\",\"zerolinecolor\":\"#EBF0F8\"}},\"shapedefaults\":{\"line\":{\"color\":\"#2a3f5f\"}},\"ternary\":{\"aaxis\":{\"gridcolor\":\"#DFE8F3\",\"linecolor\":\"#A2B1C6\",\"ticks\":\"\"},\"baxis\":{\"gridcolor\":\"#DFE8F3\",\"linecolor\":\"#A2B1C6\",\"ticks\":\"\"},\"bgcolor\":\"white\",\"caxis\":{\"gridcolor\":\"#DFE8F3\",\"linecolor\":\"#A2B1C6\",\"ticks\":\"\"}},\"title\":{\"x\":0.05},\"xaxis\":{\"automargin\":true,\"gridcolor\":\"#EBF0F8\",\"linecolor\":\"#EBF0F8\",\"ticks\":\"\",\"title\":{\"standoff\":15},\"zerolinecolor\":\"#EBF0F8\",\"zerolinewidth\":2},\"yaxis\":{\"automargin\":true,\"gridcolor\":\"#EBF0F8\",\"linecolor\":\"#EBF0F8\",\"ticks\":\"\",\"title\":{\"standoff\":15},\"zerolinecolor\":\"#EBF0F8\",\"zerolinewidth\":2}}},\"title\":{\"text\":\"Pre- vs Post-Debiasing DP Comparison\"},\"xaxis\":{\"title\":{\"text\":\"Datasets\"}},\"yaxis\":{\"title\":{\"text\":\"DP Scores\"}},\"barmode\":\"group\",\"width\":900,\"height\":500},                        {\"responsive\": true}                    ).then(function(){\n",
              "                            \n",
              "var gd = document.getElementById('d1c43af8-c8e2-4f3e-aabb-7f4e807eb4a3');\n",
              "var x = new MutationObserver(function (mutations, observer) {{\n",
              "        var display = window.getComputedStyle(gd).display;\n",
              "        if (!display || display === 'none') {{\n",
              "            console.log([gd, 'removed!']);\n",
              "            Plotly.purge(gd);\n",
              "            observer.disconnect();\n",
              "        }}\n",
              "}});\n",
              "\n",
              "// Listen for the removal of the full notebook cells\n",
              "var notebookContainer = gd.closest('#notebook-container');\n",
              "if (notebookContainer) {{\n",
              "    x.observe(notebookContainer, {childList: true});\n",
              "}}\n",
              "\n",
              "// Listen for the clearing of the current output cell\n",
              "var outputEl = gd.closest('.output');\n",
              "if (outputEl) {{\n",
              "    x.observe(outputEl, {childList: true});\n",
              "}}\n",
              "\n",
              "                        })                };                            </script>        </div>\n",
              "</body>\n",
              "</html>"
            ]
          },
          "metadata": {},
          "output_type": "display_data"
        }
      ],
      "source": [
        "import plotly.graph_objects as go\n",
        "\n",
        "# Data\n",
        "datasets = ['StereoSet', 'CrowS-Pairs']\n",
        "pre_anti = [-0.0143, -0.0136]  # Pre-debiasing EO Anti\n",
        "pre_stereo = [-0.0144, -0.0136]  # Pre-debiasing EO Stereo\n",
        "post_anti = [-0.014321784488856792, -0.013605810701847076]  # Post-debiasing EO Anti\n",
        "post_stereo = [-0.014513268135488033, -0.013627814128994942]  # Post-debiasing EO Stereo\n",
        "\n",
        "# Create figure\n",
        "fig = go.Figure()\n",
        "\n",
        "# Add pre-debiasing EO (Anti)\n",
        "fig.add_trace(go.Bar(\n",
        "    x=datasets,\n",
        "    y=pre_anti,\n",
        "    name=\"Pre-Debiasing EO (Anti)\",\n",
        "    marker_color='skyblue',\n",
        "    text=[f\"{v:.4f}\" for v in pre_anti],\n",
        "    textposition='auto'\n",
        "))\n",
        "\n",
        "# Add pre-debiasing EO (Stereo)\n",
        "fig.add_trace(go.Bar(\n",
        "    x=datasets,\n",
        "    y=pre_stereo,\n",
        "    name=\"Pre-Debiasing EO (Stereo)\",\n",
        "    marker_color='orange',\n",
        "    text=[f\"{v:.4f}\" for v in pre_stereo],\n",
        "    textposition='auto'\n",
        "))\n",
        "\n",
        "# Add post-debiasing EO (Anti)\n",
        "fig.add_trace(go.Bar(\n",
        "    x=datasets,\n",
        "    y=post_anti,\n",
        "    name=\"Post-Debiasing EO (Anti)\",\n",
        "    marker_color='blue',\n",
        "    text=[f\"{v:.4f}\" for v in post_anti],\n",
        "    textposition='auto'\n",
        "))\n",
        "\n",
        "# Add post-debiasing EO (Stereo)\n",
        "fig.add_trace(go.Bar(\n",
        "    x=datasets,\n",
        "    y=post_stereo,\n",
        "    name=\"Post-Debiasing EO (Stereo)\",\n",
        "    marker_color='darkorange',\n",
        "    text=[f\"{v:.4f}\" for v in post_stereo],\n",
        "    textposition='auto'\n",
        "))\n",
        "\n",
        "# Update layout\n",
        "fig.update_layout(\n",
        "    title=\"Pre- vs Post-Debiasing EO Comparison\",\n",
        "    xaxis_title=\"Datasets\",\n",
        "    yaxis_title=\"EO Scores\",\n",
        "    barmode='group',\n",
        "    template='plotly_white',\n",
        "    width=900,\n",
        "    height=500\n",
        ")\n",
        "\n",
        "# Show the figure\n",
        "fig.show()\n",
        "\n",
        "# --- Separate DP Interactive Plot ---\n",
        "dp_pre = [0.000191, 0.000022]  # Pre-debiasing DP (for illustration)\n",
        "dp_post = [0.00019148364663124084, 2.2003427147865295e-05]  # Post-debiasing DP\n",
        "\n",
        "fig2 = go.Figure()\n",
        "\n",
        "# Add DP Pre\n",
        "fig2.add_trace(go.Bar(\n",
        "    x=datasets,\n",
        "    y=dp_pre,\n",
        "    name=\"Pre-Debiasing DP\",\n",
        "    marker_color='green',\n",
        "    text=[f\"{v:.8f}\" for v in dp_pre],\n",
        "    textposition='auto'\n",
        "))\n",
        "\n",
        "# Add DP Post\n",
        "fig2.add_trace(go.Bar(\n",
        "    x=datasets,\n",
        "    y=dp_post,\n",
        "    name=\"Post-Debiasing DP\",\n",
        "    marker_color='purple',\n",
        "    text=[f\"{v:.8f}\" for v in dp_post],\n",
        "    textposition='auto'\n",
        "))\n",
        "\n",
        "# Update layout\n",
        "fig2.update_layout(\n",
        "    title=\"Pre- vs Post-Debiasing DP Comparison\",\n",
        "    xaxis_title=\"Datasets\",\n",
        "    yaxis_title=\"DP Scores\",\n",
        "    barmode='group',\n",
        "    template='plotly_white',\n",
        "    width=900,\n",
        "    height=500\n",
        ")\n",
        "\n",
        "# Show the figure\n",
        "fig2.show()\n"
      ]
    },
    {
      "cell_type": "markdown",
      "metadata": {
        "id": "8sUnnnBH97W9"
      },
      "source": [
        "Step 1: Calculate Fairness Metrics\n",
        "Fairness Metrics Calculation\n",
        "Use StereoSet and CrowS-Pairs results to compute key fairness metrics."
      ]
    },
    {
      "cell_type": "code",
      "execution_count": null,
      "metadata": {
        "colab": {
          "base_uri": "https://localhost:8080/"
        },
        "id": "8LmU_FtD84mV",
        "outputId": "8fc990b5-6c67-469a-db53-11f41c3a9ddb"
      },
      "outputs": [
        {
          "name": "stdout",
          "output_type": "stream",
          "text": [
            "Fairness Metrics (Debiased Model):\n",
            "StereoSet - Bias Score: -0.0002, DP: 0.0002, EO: 0.0002\n",
            "CrowS-Pairs - Bias Score: 0.0000, DP: 0.0000, EO: -0.0000\n"
          ]
        }
      ],
      "source": [
        "# Compute Fairness Metrics\n",
        "def compute_fairness_metrics(results):\n",
        "    # Average scores for Anti and Stereo\n",
        "    avg_anti = results['anti_score'].mean()\n",
        "    avg_stereo = results['stereo_score'].mean()\n",
        "\n",
        "    # Bias Score: Difference between Stereo and Anti\n",
        "    bias_score = avg_stereo - avg_anti\n",
        "\n",
        "    # Demographic Parity\n",
        "    dp = abs(avg_anti - avg_stereo)\n",
        "\n",
        "    # Equal Opportunity (Anti vs Stereo)\n",
        "    eo = avg_anti - avg_stereo\n",
        "\n",
        "    return bias_score, dp, eo\n",
        "\n",
        "# Compute Metrics for StereoSet\n",
        "bias_stereoset, dp_stereoset, eo_stereoset = compute_fairness_metrics(stereoset_results_debiased)\n",
        "\n",
        "# Compute Metrics for CrowS-Pairs\n",
        "bias_crows, dp_crows, eo_crows = compute_fairness_metrics(crows_results_debiased)\n",
        "\n",
        "# Print Metrics\n",
        "print(\"Fairness Metrics (Debiased Model):\")\n",
        "print(f\"StereoSet - Bias Score: {bias_stereoset:.4f}, DP: {dp_stereoset:.4f}, EO: {eo_stereoset:.4f}\")\n",
        "print(f\"CrowS-Pairs - Bias Score: {bias_crows:.4f}, DP: {dp_crows:.4f}, EO: {eo_crows:.4f}\")\n"
      ]
    },
    {
      "cell_type": "code",
      "execution_count": null,
      "metadata": {
        "colab": {
          "base_uri": "https://localhost:8080/"
        },
        "id": "6nSmxx13C9eK",
        "outputId": "84156a1e-d421-4c79-ca1f-b9267412fabe"
      },
      "outputs": [
        {
          "name": "stdout",
          "output_type": "stream",
          "text": [
            "Performance Metrics (Debiased Model):\n",
            "StereoSet AUC: 0.4804\n",
            "CrowS-Pairs AUC: 0.4994\n"
          ]
        }
      ],
      "source": [
        "from sklearn.metrics import roc_auc_score\n",
        "\n",
        "# Compute AUC for StereoSet\n",
        "stereo_labels = [1] * len(stereoset_results_debiased['stereo_score']) + [0] * len(stereoset_results_debiased['anti_score'])\n",
        "stereo_scores = stereoset_results_debiased['stereo_score'].tolist() + stereoset_results_debiased['anti_score'].tolist()\n",
        "auc_stereoset = roc_auc_score(stereo_labels, stereo_scores)\n",
        "\n",
        "# Compute AUC for CrowS-Pairs\n",
        "crows_labels = [1] * len(crows_results_debiased['stereo_score']) + [0] * len(crows_results_debiased['anti_score'])\n",
        "crows_scores = crows_results_debiased['stereo_score'].tolist() + crows_results_debiased['anti_score'].tolist()\n",
        "auc_crows = roc_auc_score(crows_labels, crows_scores)\n",
        "\n",
        "# Print AUC results\n",
        "print(\"Performance Metrics (Debiased Model):\")\n",
        "print(f\"StereoSet AUC: {auc_stereoset:.4f}\")\n",
        "print(f\"CrowS-Pairs AUC: {auc_crows:.4f}\")\n"
      ]
    },
    {
      "cell_type": "code",
      "execution_count": null,
      "metadata": {
        "colab": {
          "base_uri": "https://localhost:8080/",
          "height": 517
        },
        "id": "Ffk0aAZTDS_V",
        "outputId": "4dc463d7-f109-403a-f36c-b57e5e2d87ad"
      },
      "outputs": [
        {
          "data": {
            "text/html": [
              "<html>\n",
              "<head><meta charset=\"utf-8\" /></head>\n",
              "<body>\n",
              "    <div>            <script src=\"https://cdnjs.cloudflare.com/ajax/libs/mathjax/2.7.5/MathJax.js?config=TeX-AMS-MML_SVG\"></script><script type=\"text/javascript\">if (window.MathJax && window.MathJax.Hub && window.MathJax.Hub.Config) {window.MathJax.Hub.Config({SVG: {font: \"STIX-Web\"}});}</script>                <script type=\"text/javascript\">window.PlotlyConfig = {MathJaxConfig: 'local'};</script>\n",
              "        <script charset=\"utf-8\" src=\"https://cdn.plot.ly/plotly-2.35.2.min.js\"></script>                <div id=\"a83319b6-c8d2-4fd0-95f2-40ce40413d7f\" class=\"plotly-graph-div\" style=\"height:500px; width:900px;\"></div>            <script type=\"text/javascript\">                                    window.PLOTLYENV=window.PLOTLYENV || {};                                    if (document.getElementById(\"a83319b6-c8d2-4fd0-95f2-40ce40413d7f\")) {                    Plotly.newPlot(                        \"a83319b6-c8d2-4fd0-95f2-40ce40413d7f\",                        [{\"marker\":{\"color\":\"red\"},\"name\":\"Bias Score\",\"text\":[\"-0.0002\",\"0.0000\"],\"textposition\":\"auto\",\"x\":[\"StereoSet\",\"CrowS-Pairs\"],\"y\":[-0.00019034836441278458,5.305744707584381e-6],\"type\":\"bar\"},{\"marker\":{\"color\":\"green\"},\"name\":\"Demographic Parity (DP)\",\"text\":[\"0.0002\",\"0.0000\"],\"textposition\":\"auto\",\"x\":[\"StereoSet\",\"CrowS-Pairs\"],\"y\":[0.00019034836441278458,5.305744707584381e-6],\"type\":\"bar\"},{\"marker\":{\"color\":\"blue\"},\"name\":\"AUC Score\",\"text\":[\"0.4804\",\"0.4994\"],\"textposition\":\"auto\",\"x\":[\"StereoSet\",\"CrowS-Pairs\"],\"y\":[0.4804324438018082,0.4994479047203597],\"type\":\"bar\"}],                        {\"template\":{\"data\":{\"barpolar\":[{\"marker\":{\"line\":{\"color\":\"white\",\"width\":0.5},\"pattern\":{\"fillmode\":\"overlay\",\"size\":10,\"solidity\":0.2}},\"type\":\"barpolar\"}],\"bar\":[{\"error_x\":{\"color\":\"#2a3f5f\"},\"error_y\":{\"color\":\"#2a3f5f\"},\"marker\":{\"line\":{\"color\":\"white\",\"width\":0.5},\"pattern\":{\"fillmode\":\"overlay\",\"size\":10,\"solidity\":0.2}},\"type\":\"bar\"}],\"carpet\":[{\"aaxis\":{\"endlinecolor\":\"#2a3f5f\",\"gridcolor\":\"#C8D4E3\",\"linecolor\":\"#C8D4E3\",\"minorgridcolor\":\"#C8D4E3\",\"startlinecolor\":\"#2a3f5f\"},\"baxis\":{\"endlinecolor\":\"#2a3f5f\",\"gridcolor\":\"#C8D4E3\",\"linecolor\":\"#C8D4E3\",\"minorgridcolor\":\"#C8D4E3\",\"startlinecolor\":\"#2a3f5f\"},\"type\":\"carpet\"}],\"choropleth\":[{\"colorbar\":{\"outlinewidth\":0,\"ticks\":\"\"},\"type\":\"choropleth\"}],\"contourcarpet\":[{\"colorbar\":{\"outlinewidth\":0,\"ticks\":\"\"},\"type\":\"contourcarpet\"}],\"contour\":[{\"colorbar\":{\"outlinewidth\":0,\"ticks\":\"\"},\"colorscale\":[[0.0,\"#0d0887\"],[0.1111111111111111,\"#46039f\"],[0.2222222222222222,\"#7201a8\"],[0.3333333333333333,\"#9c179e\"],[0.4444444444444444,\"#bd3786\"],[0.5555555555555556,\"#d8576b\"],[0.6666666666666666,\"#ed7953\"],[0.7777777777777778,\"#fb9f3a\"],[0.8888888888888888,\"#fdca26\"],[1.0,\"#f0f921\"]],\"type\":\"contour\"}],\"heatmapgl\":[{\"colorbar\":{\"outlinewidth\":0,\"ticks\":\"\"},\"colorscale\":[[0.0,\"#0d0887\"],[0.1111111111111111,\"#46039f\"],[0.2222222222222222,\"#7201a8\"],[0.3333333333333333,\"#9c179e\"],[0.4444444444444444,\"#bd3786\"],[0.5555555555555556,\"#d8576b\"],[0.6666666666666666,\"#ed7953\"],[0.7777777777777778,\"#fb9f3a\"],[0.8888888888888888,\"#fdca26\"],[1.0,\"#f0f921\"]],\"type\":\"heatmapgl\"}],\"heatmap\":[{\"colorbar\":{\"outlinewidth\":0,\"ticks\":\"\"},\"colorscale\":[[0.0,\"#0d0887\"],[0.1111111111111111,\"#46039f\"],[0.2222222222222222,\"#7201a8\"],[0.3333333333333333,\"#9c179e\"],[0.4444444444444444,\"#bd3786\"],[0.5555555555555556,\"#d8576b\"],[0.6666666666666666,\"#ed7953\"],[0.7777777777777778,\"#fb9f3a\"],[0.8888888888888888,\"#fdca26\"],[1.0,\"#f0f921\"]],\"type\":\"heatmap\"}],\"histogram2dcontour\":[{\"colorbar\":{\"outlinewidth\":0,\"ticks\":\"\"},\"colorscale\":[[0.0,\"#0d0887\"],[0.1111111111111111,\"#46039f\"],[0.2222222222222222,\"#7201a8\"],[0.3333333333333333,\"#9c179e\"],[0.4444444444444444,\"#bd3786\"],[0.5555555555555556,\"#d8576b\"],[0.6666666666666666,\"#ed7953\"],[0.7777777777777778,\"#fb9f3a\"],[0.8888888888888888,\"#fdca26\"],[1.0,\"#f0f921\"]],\"type\":\"histogram2dcontour\"}],\"histogram2d\":[{\"colorbar\":{\"outlinewidth\":0,\"ticks\":\"\"},\"colorscale\":[[0.0,\"#0d0887\"],[0.1111111111111111,\"#46039f\"],[0.2222222222222222,\"#7201a8\"],[0.3333333333333333,\"#9c179e\"],[0.4444444444444444,\"#bd3786\"],[0.5555555555555556,\"#d8576b\"],[0.6666666666666666,\"#ed7953\"],[0.7777777777777778,\"#fb9f3a\"],[0.8888888888888888,\"#fdca26\"],[1.0,\"#f0f921\"]],\"type\":\"histogram2d\"}],\"histogram\":[{\"marker\":{\"pattern\":{\"fillmode\":\"overlay\",\"size\":10,\"solidity\":0.2}},\"type\":\"histogram\"}],\"mesh3d\":[{\"colorbar\":{\"outlinewidth\":0,\"ticks\":\"\"},\"type\":\"mesh3d\"}],\"parcoords\":[{\"line\":{\"colorbar\":{\"outlinewidth\":0,\"ticks\":\"\"}},\"type\":\"parcoords\"}],\"pie\":[{\"automargin\":true,\"type\":\"pie\"}],\"scatter3d\":[{\"line\":{\"colorbar\":{\"outlinewidth\":0,\"ticks\":\"\"}},\"marker\":{\"colorbar\":{\"outlinewidth\":0,\"ticks\":\"\"}},\"type\":\"scatter3d\"}],\"scattercarpet\":[{\"marker\":{\"colorbar\":{\"outlinewidth\":0,\"ticks\":\"\"}},\"type\":\"scattercarpet\"}],\"scattergeo\":[{\"marker\":{\"colorbar\":{\"outlinewidth\":0,\"ticks\":\"\"}},\"type\":\"scattergeo\"}],\"scattergl\":[{\"marker\":{\"colorbar\":{\"outlinewidth\":0,\"ticks\":\"\"}},\"type\":\"scattergl\"}],\"scattermapbox\":[{\"marker\":{\"colorbar\":{\"outlinewidth\":0,\"ticks\":\"\"}},\"type\":\"scattermapbox\"}],\"scatterpolargl\":[{\"marker\":{\"colorbar\":{\"outlinewidth\":0,\"ticks\":\"\"}},\"type\":\"scatterpolargl\"}],\"scatterpolar\":[{\"marker\":{\"colorbar\":{\"outlinewidth\":0,\"ticks\":\"\"}},\"type\":\"scatterpolar\"}],\"scatter\":[{\"fillpattern\":{\"fillmode\":\"overlay\",\"size\":10,\"solidity\":0.2},\"type\":\"scatter\"}],\"scatterternary\":[{\"marker\":{\"colorbar\":{\"outlinewidth\":0,\"ticks\":\"\"}},\"type\":\"scatterternary\"}],\"surface\":[{\"colorbar\":{\"outlinewidth\":0,\"ticks\":\"\"},\"colorscale\":[[0.0,\"#0d0887\"],[0.1111111111111111,\"#46039f\"],[0.2222222222222222,\"#7201a8\"],[0.3333333333333333,\"#9c179e\"],[0.4444444444444444,\"#bd3786\"],[0.5555555555555556,\"#d8576b\"],[0.6666666666666666,\"#ed7953\"],[0.7777777777777778,\"#fb9f3a\"],[0.8888888888888888,\"#fdca26\"],[1.0,\"#f0f921\"]],\"type\":\"surface\"}],\"table\":[{\"cells\":{\"fill\":{\"color\":\"#EBF0F8\"},\"line\":{\"color\":\"white\"}},\"header\":{\"fill\":{\"color\":\"#C8D4E3\"},\"line\":{\"color\":\"white\"}},\"type\":\"table\"}]},\"layout\":{\"annotationdefaults\":{\"arrowcolor\":\"#2a3f5f\",\"arrowhead\":0,\"arrowwidth\":1},\"autotypenumbers\":\"strict\",\"coloraxis\":{\"colorbar\":{\"outlinewidth\":0,\"ticks\":\"\"}},\"colorscale\":{\"diverging\":[[0,\"#8e0152\"],[0.1,\"#c51b7d\"],[0.2,\"#de77ae\"],[0.3,\"#f1b6da\"],[0.4,\"#fde0ef\"],[0.5,\"#f7f7f7\"],[0.6,\"#e6f5d0\"],[0.7,\"#b8e186\"],[0.8,\"#7fbc41\"],[0.9,\"#4d9221\"],[1,\"#276419\"]],\"sequential\":[[0.0,\"#0d0887\"],[0.1111111111111111,\"#46039f\"],[0.2222222222222222,\"#7201a8\"],[0.3333333333333333,\"#9c179e\"],[0.4444444444444444,\"#bd3786\"],[0.5555555555555556,\"#d8576b\"],[0.6666666666666666,\"#ed7953\"],[0.7777777777777778,\"#fb9f3a\"],[0.8888888888888888,\"#fdca26\"],[1.0,\"#f0f921\"]],\"sequentialminus\":[[0.0,\"#0d0887\"],[0.1111111111111111,\"#46039f\"],[0.2222222222222222,\"#7201a8\"],[0.3333333333333333,\"#9c179e\"],[0.4444444444444444,\"#bd3786\"],[0.5555555555555556,\"#d8576b\"],[0.6666666666666666,\"#ed7953\"],[0.7777777777777778,\"#fb9f3a\"],[0.8888888888888888,\"#fdca26\"],[1.0,\"#f0f921\"]]},\"colorway\":[\"#636efa\",\"#EF553B\",\"#00cc96\",\"#ab63fa\",\"#FFA15A\",\"#19d3f3\",\"#FF6692\",\"#B6E880\",\"#FF97FF\",\"#FECB52\"],\"font\":{\"color\":\"#2a3f5f\"},\"geo\":{\"bgcolor\":\"white\",\"lakecolor\":\"white\",\"landcolor\":\"white\",\"showlakes\":true,\"showland\":true,\"subunitcolor\":\"#C8D4E3\"},\"hoverlabel\":{\"align\":\"left\"},\"hovermode\":\"closest\",\"mapbox\":{\"style\":\"light\"},\"paper_bgcolor\":\"white\",\"plot_bgcolor\":\"white\",\"polar\":{\"angularaxis\":{\"gridcolor\":\"#EBF0F8\",\"linecolor\":\"#EBF0F8\",\"ticks\":\"\"},\"bgcolor\":\"white\",\"radialaxis\":{\"gridcolor\":\"#EBF0F8\",\"linecolor\":\"#EBF0F8\",\"ticks\":\"\"}},\"scene\":{\"xaxis\":{\"backgroundcolor\":\"white\",\"gridcolor\":\"#DFE8F3\",\"gridwidth\":2,\"linecolor\":\"#EBF0F8\",\"showbackground\":true,\"ticks\":\"\",\"zerolinecolor\":\"#EBF0F8\"},\"yaxis\":{\"backgroundcolor\":\"white\",\"gridcolor\":\"#DFE8F3\",\"gridwidth\":2,\"linecolor\":\"#EBF0F8\",\"showbackground\":true,\"ticks\":\"\",\"zerolinecolor\":\"#EBF0F8\"},\"zaxis\":{\"backgroundcolor\":\"white\",\"gridcolor\":\"#DFE8F3\",\"gridwidth\":2,\"linecolor\":\"#EBF0F8\",\"showbackground\":true,\"ticks\":\"\",\"zerolinecolor\":\"#EBF0F8\"}},\"shapedefaults\":{\"line\":{\"color\":\"#2a3f5f\"}},\"ternary\":{\"aaxis\":{\"gridcolor\":\"#DFE8F3\",\"linecolor\":\"#A2B1C6\",\"ticks\":\"\"},\"baxis\":{\"gridcolor\":\"#DFE8F3\",\"linecolor\":\"#A2B1C6\",\"ticks\":\"\"},\"bgcolor\":\"white\",\"caxis\":{\"gridcolor\":\"#DFE8F3\",\"linecolor\":\"#A2B1C6\",\"ticks\":\"\"}},\"title\":{\"x\":0.05},\"xaxis\":{\"automargin\":true,\"gridcolor\":\"#EBF0F8\",\"linecolor\":\"#EBF0F8\",\"ticks\":\"\",\"title\":{\"standoff\":15},\"zerolinecolor\":\"#EBF0F8\",\"zerolinewidth\":2},\"yaxis\":{\"automargin\":true,\"gridcolor\":\"#EBF0F8\",\"linecolor\":\"#EBF0F8\",\"ticks\":\"\",\"title\":{\"standoff\":15},\"zerolinecolor\":\"#EBF0F8\",\"zerolinewidth\":2}}},\"title\":{\"text\":\"Fairness vs Performance Trade-offs\"},\"xaxis\":{\"title\":{\"text\":\"Datasets\"}},\"yaxis\":{\"title\":{\"text\":\"Scores\"}},\"barmode\":\"group\",\"width\":900,\"height\":500},                        {\"responsive\": true}                    ).then(function(){\n",
              "                            \n",
              "var gd = document.getElementById('a83319b6-c8d2-4fd0-95f2-40ce40413d7f');\n",
              "var x = new MutationObserver(function (mutations, observer) {{\n",
              "        var display = window.getComputedStyle(gd).display;\n",
              "        if (!display || display === 'none') {{\n",
              "            console.log([gd, 'removed!']);\n",
              "            Plotly.purge(gd);\n",
              "            observer.disconnect();\n",
              "        }}\n",
              "}});\n",
              "\n",
              "// Listen for the removal of the full notebook cells\n",
              "var notebookContainer = gd.closest('#notebook-container');\n",
              "if (notebookContainer) {{\n",
              "    x.observe(notebookContainer, {childList: true});\n",
              "}}\n",
              "\n",
              "// Listen for the clearing of the current output cell\n",
              "var outputEl = gd.closest('.output');\n",
              "if (outputEl) {{\n",
              "    x.observe(outputEl, {childList: true});\n",
              "}}\n",
              "\n",
              "                        })                };                            </script>        </div>\n",
              "</body>\n",
              "</html>"
            ]
          },
          "metadata": {},
          "output_type": "display_data"
        }
      ],
      "source": [
        "import plotly.graph_objects as go\n",
        "\n",
        "# Data\n",
        "datasets = ['StereoSet', 'CrowS-Pairs']\n",
        "bias_scores = [bias_stereoset, bias_crows]  # Bias Scores\n",
        "dp_scores = [dp_stereoset, dp_crows]  # DP Scores\n",
        "auc_scores = [auc_stereoset, auc_crows]  # AUC Scores\n",
        "\n",
        "# Create figure\n",
        "fig = go.Figure()\n",
        "\n",
        "# Add Bias Score\n",
        "fig.add_trace(go.Bar(\n",
        "    x=datasets,\n",
        "    y=bias_scores,\n",
        "    name=\"Bias Score\",\n",
        "    marker_color='red',\n",
        "    text=[f\"{v:.4f}\" for v in bias_scores],\n",
        "    textposition='auto'\n",
        "))\n",
        "\n",
        "# Add Demographic Parity\n",
        "fig.add_trace(go.Bar(\n",
        "    x=datasets,\n",
        "    y=dp_scores,\n",
        "    name=\"Demographic Parity (DP)\",\n",
        "    marker_color='green',\n",
        "    text=[f\"{v:.4f}\" for v in dp_scores],\n",
        "    textposition='auto'\n",
        "))\n",
        "\n",
        "# Add AUC\n",
        "fig.add_trace(go.Bar(\n",
        "    x=datasets,\n",
        "    y=auc_scores,\n",
        "    name=\"AUC Score\",\n",
        "    marker_color='blue',\n",
        "    text=[f\"{v:.4f}\" for v in auc_scores],\n",
        "    textposition='auto'\n",
        "))\n",
        "\n",
        "# Update layout\n",
        "fig.update_layout(\n",
        "    title=\"Fairness vs Performance Trade-offs\",\n",
        "    xaxis_title=\"Datasets\",\n",
        "    yaxis_title=\"Scores\",\n",
        "    barmode='group',\n",
        "    template='plotly_white',\n",
        "    width=900,\n",
        "    height=500\n",
        ")\n",
        "\n",
        "# Show the figure\n",
        "fig.show()\n"
      ]
    },
    {
      "cell_type": "markdown",
      "metadata": {
        "id": "DdqYU0EwF1YW"
      },
      "source": [
        "Insights\n",
        "StereoSet:\n",
        "\n",
        "The AUC of 0.4770 reflects that the debiased model struggles slightly in distinguishing between stereotypical and anti-stereotypical sentences.\n",
        "This might result from the debiasing techniques, which reduce stereotypical associations but could slightly affect task-specific performance.\n",
        "CrowS-Pairs:\n",
        "\n",
        "The AUC of 0.4943 is close to random performance (0.5), indicating that the debiased model treats stereotypical and anti-stereotypical sentences similarly.\n",
        "Fairness vs. Performance:\n",
        "\n",
        "While the bias reduction is significant, the performance metrics show some decline, highlighting the trade-off inherent in debiasing."
      ]
    },
    {
      "cell_type": "markdown",
      "metadata": {
        "id": "Fw4pvfMDFc41"
      },
      "source": [
        "Key Observations\n",
        "Bias Metrics:\n",
        "\n",
        "The Bias Score, Demographic Parity (DP), and Equal Opportunity (EO) are almost zero for both datasets, showing that the debiasing process successfully eliminated model bias. This is a positive outcome for fairness and aligns with the goals of debiasing.\n",
        "Performance Metrics:\n",
        "\n",
        "The AUC scores for both StereoSet (0.477) and CrowS-Pairs (0.494) are low. An AUC close to 0.5 suggests that the model's ability to differentiate between stereotypical and anti-stereotypical sentences has diminished after debiasing.\n",
        "Trade-off:\n",
        "\n",
        "The results highlight a significant trade-off: while fairness improved, performance suffered. This is a common challenge in debiasing, as reducing biases often removes some of the nuanced associations that contribute to task-specific performance."
      ]
    },
    {
      "cell_type": "markdown",
      "metadata": {
        "id": "nP99j1bhFcu-"
      },
      "source": []
    },
    {
      "cell_type": "code",
      "execution_count": null,
      "metadata": {
        "colab": {
          "base_uri": "https://localhost:8080/",
          "height": 1000
        },
        "id": "D7rc839ISiBK",
        "outputId": "1bb0c788-4421-4b2b-eb43-096cd8c21e34"
      },
      "outputs": [
        {
          "name": "stdout",
          "output_type": "stream",
          "text": [
            "Collecting gradio\n",
            "  Downloading gradio-5.8.0-py3-none-any.whl.metadata (16 kB)\n",
            "Collecting aiofiles<24.0,>=22.0 (from gradio)\n",
            "  Downloading aiofiles-23.2.1-py3-none-any.whl.metadata (9.7 kB)\n",
            "Requirement already satisfied: anyio<5.0,>=3.0 in /usr/local/lib/python3.10/dist-packages (from gradio) (3.7.1)\n",
            "Collecting fastapi<1.0,>=0.115.2 (from gradio)\n",
            "  Downloading fastapi-0.115.6-py3-none-any.whl.metadata (27 kB)\n",
            "Collecting ffmpy (from gradio)\n",
            "  Downloading ffmpy-0.4.0-py3-none-any.whl.metadata (2.9 kB)\n",
            "Collecting gradio-client==1.5.1 (from gradio)\n",
            "  Downloading gradio_client-1.5.1-py3-none-any.whl.metadata (7.1 kB)\n",
            "Requirement already satisfied: httpx>=0.24.1 in /usr/local/lib/python3.10/dist-packages (from gradio) (0.28.0)\n",
            "Requirement already satisfied: huggingface-hub>=0.25.1 in /usr/local/lib/python3.10/dist-packages (from gradio) (0.26.3)\n",
            "Requirement already satisfied: jinja2<4.0 in /usr/local/lib/python3.10/dist-packages (from gradio) (3.1.4)\n",
            "Collecting markupsafe~=2.0 (from gradio)\n",
            "  Downloading MarkupSafe-2.1.5-cp310-cp310-manylinux_2_17_x86_64.manylinux2014_x86_64.whl.metadata (3.0 kB)\n",
            "Requirement already satisfied: numpy<3.0,>=1.0 in /usr/local/lib/python3.10/dist-packages (from gradio) (1.26.4)\n",
            "Requirement already satisfied: orjson~=3.0 in /usr/local/lib/python3.10/dist-packages (from gradio) (3.10.12)\n",
            "Requirement already satisfied: packaging in /usr/local/lib/python3.10/dist-packages (from gradio) (24.2)\n",
            "Requirement already satisfied: pandas<3.0,>=1.0 in /usr/local/lib/python3.10/dist-packages (from gradio) (2.2.2)\n",
            "Requirement already satisfied: pillow<12.0,>=8.0 in /usr/local/lib/python3.10/dist-packages (from gradio) (11.0.0)\n",
            "Requirement already satisfied: pydantic>=2.0 in /usr/local/lib/python3.10/dist-packages (from gradio) (2.10.2)\n",
            "Collecting pydub (from gradio)\n",
            "  Downloading pydub-0.25.1-py2.py3-none-any.whl.metadata (1.4 kB)\n",
            "Collecting python-multipart>=0.0.18 (from gradio)\n",
            "  Downloading python_multipart-0.0.19-py3-none-any.whl.metadata (1.8 kB)\n",
            "Requirement already satisfied: pyyaml<7.0,>=5.0 in /usr/local/lib/python3.10/dist-packages (from gradio) (6.0.2)\n",
            "Collecting ruff>=0.2.2 (from gradio)\n",
            "  Downloading ruff-0.8.2-py3-none-manylinux_2_17_x86_64.manylinux2014_x86_64.whl.metadata (25 kB)\n",
            "Collecting safehttpx<0.2.0,>=0.1.6 (from gradio)\n",
            "  Downloading safehttpx-0.1.6-py3-none-any.whl.metadata (4.2 kB)\n",
            "Collecting semantic-version~=2.0 (from gradio)\n",
            "  Downloading semantic_version-2.10.0-py2.py3-none-any.whl.metadata (9.7 kB)\n",
            "Collecting starlette<1.0,>=0.40.0 (from gradio)\n",
            "  Downloading starlette-0.41.3-py3-none-any.whl.metadata (6.0 kB)\n",
            "Collecting tomlkit<0.14.0,>=0.12.0 (from gradio)\n",
            "  Downloading tomlkit-0.13.2-py3-none-any.whl.metadata (2.7 kB)\n",
            "Requirement already satisfied: typer<1.0,>=0.12 in /usr/local/lib/python3.10/dist-packages (from gradio) (0.14.0)\n",
            "Requirement already satisfied: typing-extensions~=4.0 in /usr/local/lib/python3.10/dist-packages (from gradio) (4.12.2)\n",
            "Collecting uvicorn>=0.14.0 (from gradio)\n",
            "  Downloading uvicorn-0.32.1-py3-none-any.whl.metadata (6.6 kB)\n",
            "Requirement already satisfied: fsspec in /usr/local/lib/python3.10/dist-packages (from gradio-client==1.5.1->gradio) (2024.10.0)\n",
            "Collecting websockets<15.0,>=10.0 (from gradio-client==1.5.1->gradio)\n",
            "  Downloading websockets-14.1-cp310-cp310-manylinux_2_5_x86_64.manylinux1_x86_64.manylinux_2_17_x86_64.manylinux2014_x86_64.whl.metadata (6.7 kB)\n",
            "Requirement already satisfied: idna>=2.8 in /usr/local/lib/python3.10/dist-packages (from anyio<5.0,>=3.0->gradio) (3.10)\n",
            "Requirement already satisfied: sniffio>=1.1 in /usr/local/lib/python3.10/dist-packages (from anyio<5.0,>=3.0->gradio) (1.3.1)\n",
            "Requirement already satisfied: exceptiongroup in /usr/local/lib/python3.10/dist-packages (from anyio<5.0,>=3.0->gradio) (1.2.2)\n",
            "Requirement already satisfied: certifi in /usr/local/lib/python3.10/dist-packages (from httpx>=0.24.1->gradio) (2024.8.30)\n",
            "Requirement already satisfied: httpcore==1.* in /usr/local/lib/python3.10/dist-packages (from httpx>=0.24.1->gradio) (1.0.7)\n",
            "Requirement already satisfied: h11<0.15,>=0.13 in /usr/local/lib/python3.10/dist-packages (from httpcore==1.*->httpx>=0.24.1->gradio) (0.14.0)\n",
            "Requirement already satisfied: filelock in /usr/local/lib/python3.10/dist-packages (from huggingface-hub>=0.25.1->gradio) (3.16.1)\n",
            "Requirement already satisfied: requests in /usr/local/lib/python3.10/dist-packages (from huggingface-hub>=0.25.1->gradio) (2.32.3)\n",
            "Requirement already satisfied: tqdm>=4.42.1 in /usr/local/lib/python3.10/dist-packages (from huggingface-hub>=0.25.1->gradio) (4.66.6)\n",
            "Requirement already satisfied: python-dateutil>=2.8.2 in /usr/local/lib/python3.10/dist-packages (from pandas<3.0,>=1.0->gradio) (2.8.2)\n",
            "Requirement already satisfied: pytz>=2020.1 in /usr/local/lib/python3.10/dist-packages (from pandas<3.0,>=1.0->gradio) (2024.2)\n",
            "Requirement already satisfied: tzdata>=2022.7 in /usr/local/lib/python3.10/dist-packages (from pandas<3.0,>=1.0->gradio) (2024.2)\n",
            "Requirement already satisfied: annotated-types>=0.6.0 in /usr/local/lib/python3.10/dist-packages (from pydantic>=2.0->gradio) (0.7.0)\n",
            "Requirement already satisfied: pydantic-core==2.27.1 in /usr/local/lib/python3.10/dist-packages (from pydantic>=2.0->gradio) (2.27.1)\n",
            "Requirement already satisfied: click>=8.0.0 in /usr/local/lib/python3.10/dist-packages (from typer<1.0,>=0.12->gradio) (8.1.7)\n",
            "Requirement already satisfied: shellingham>=1.3.0 in /usr/local/lib/python3.10/dist-packages (from typer<1.0,>=0.12->gradio) (1.5.4)\n",
            "Requirement already satisfied: rich>=10.11.0 in /usr/local/lib/python3.10/dist-packages (from typer<1.0,>=0.12->gradio) (13.9.4)\n",
            "Requirement already satisfied: six>=1.5 in /usr/local/lib/python3.10/dist-packages (from python-dateutil>=2.8.2->pandas<3.0,>=1.0->gradio) (1.16.0)\n",
            "Requirement already satisfied: markdown-it-py>=2.2.0 in /usr/local/lib/python3.10/dist-packages (from rich>=10.11.0->typer<1.0,>=0.12->gradio) (3.0.0)\n",
            "Requirement already satisfied: pygments<3.0.0,>=2.13.0 in /usr/local/lib/python3.10/dist-packages (from rich>=10.11.0->typer<1.0,>=0.12->gradio) (2.18.0)\n",
            "Requirement already satisfied: charset-normalizer<4,>=2 in /usr/local/lib/python3.10/dist-packages (from requests->huggingface-hub>=0.25.1->gradio) (3.4.0)\n",
            "Requirement already satisfied: urllib3<3,>=1.21.1 in /usr/local/lib/python3.10/dist-packages (from requests->huggingface-hub>=0.25.1->gradio) (2.2.3)\n",
            "Requirement already satisfied: mdurl~=0.1 in /usr/local/lib/python3.10/dist-packages (from markdown-it-py>=2.2.0->rich>=10.11.0->typer<1.0,>=0.12->gradio) (0.1.2)\n",
            "Downloading gradio-5.8.0-py3-none-any.whl (57.2 MB)\n",
            "\u001b[2K   \u001b[90m━━━━━━━━━━━━━━━━━━━━━━━━━━━━━━━━━━━━━━━━\u001b[0m \u001b[32m57.2/57.2 MB\u001b[0m \u001b[31m18.0 MB/s\u001b[0m eta \u001b[36m0:00:00\u001b[0m\n",
            "\u001b[?25hDownloading gradio_client-1.5.1-py3-none-any.whl (320 kB)\n",
            "\u001b[2K   \u001b[90m━━━━━━━━━━━━━━━━━━━━━━━━━━━━━━━━━━━━━━━━\u001b[0m \u001b[32m320.2/320.2 kB\u001b[0m \u001b[31m27.0 MB/s\u001b[0m eta \u001b[36m0:00:00\u001b[0m\n",
            "\u001b[?25hDownloading aiofiles-23.2.1-py3-none-any.whl (15 kB)\n",
            "Downloading fastapi-0.115.6-py3-none-any.whl (94 kB)\n",
            "\u001b[2K   \u001b[90m━━━━━━━━━━━━━━━━━━━━━━━━━━━━━━━━━━━━━━━━\u001b[0m \u001b[32m94.8/94.8 kB\u001b[0m \u001b[31m8.7 MB/s\u001b[0m eta \u001b[36m0:00:00\u001b[0m\n",
            "\u001b[?25hDownloading MarkupSafe-2.1.5-cp310-cp310-manylinux_2_17_x86_64.manylinux2014_x86_64.whl (25 kB)\n",
            "Downloading python_multipart-0.0.19-py3-none-any.whl (24 kB)\n",
            "Downloading ruff-0.8.2-py3-none-manylinux_2_17_x86_64.manylinux2014_x86_64.whl (11.2 MB)\n",
            "\u001b[2K   \u001b[90m━━━━━━━━━━━━━━━━━━━━━━━━━━━━━━━━━━━━━━━━\u001b[0m \u001b[32m11.2/11.2 MB\u001b[0m \u001b[31m114.8 MB/s\u001b[0m eta \u001b[36m0:00:00\u001b[0m\n",
            "\u001b[?25hDownloading safehttpx-0.1.6-py3-none-any.whl (8.7 kB)\n",
            "Downloading semantic_version-2.10.0-py2.py3-none-any.whl (15 kB)\n",
            "Downloading starlette-0.41.3-py3-none-any.whl (73 kB)\n",
            "\u001b[2K   \u001b[90m━━━━━━━━━━━━━━━━━━━━━━━━━━━━━━━━━━━━━━━━\u001b[0m \u001b[32m73.2/73.2 kB\u001b[0m \u001b[31m7.4 MB/s\u001b[0m eta \u001b[36m0:00:00\u001b[0m\n",
            "\u001b[?25hDownloading tomlkit-0.13.2-py3-none-any.whl (37 kB)\n",
            "Downloading uvicorn-0.32.1-py3-none-any.whl (63 kB)\n",
            "\u001b[2K   \u001b[90m━━━━━━━━━━━━━━━━━━━━━━━━━━━━━━━━━━━━━━━━\u001b[0m \u001b[32m63.8/63.8 kB\u001b[0m \u001b[31m6.4 MB/s\u001b[0m eta \u001b[36m0:00:00\u001b[0m\n",
            "\u001b[?25hDownloading ffmpy-0.4.0-py3-none-any.whl (5.8 kB)\n",
            "Downloading pydub-0.25.1-py2.py3-none-any.whl (32 kB)\n",
            "Downloading websockets-14.1-cp310-cp310-manylinux_2_5_x86_64.manylinux1_x86_64.manylinux_2_17_x86_64.manylinux2014_x86_64.whl (168 kB)\n",
            "\u001b[2K   \u001b[90m━━━━━━━━━━━━━━━━━━━━━━━━━━━━━━━━━━━━━━━━\u001b[0m \u001b[32m168.2/168.2 kB\u001b[0m \u001b[31m16.4 MB/s\u001b[0m eta \u001b[36m0:00:00\u001b[0m\n",
            "\u001b[?25hInstalling collected packages: pydub, websockets, uvicorn, tomlkit, semantic-version, ruff, python-multipart, markupsafe, ffmpy, aiofiles, starlette, safehttpx, gradio-client, fastapi, gradio\n",
            "  Attempting uninstall: markupsafe\n",
            "    Found existing installation: MarkupSafe 3.0.2\n",
            "    Uninstalling MarkupSafe-3.0.2:\n",
            "      Successfully uninstalled MarkupSafe-3.0.2\n",
            "Successfully installed aiofiles-23.2.1 fastapi-0.115.6 ffmpy-0.4.0 gradio-5.8.0 gradio-client-1.5.1 markupsafe-2.1.5 pydub-0.25.1 python-multipart-0.0.19 ruff-0.8.2 safehttpx-0.1.6 semantic-version-2.10.0 starlette-0.41.3 tomlkit-0.13.2 uvicorn-0.32.1 websockets-14.1\n"
          ]
        },
        {
          "data": {
            "application/vnd.colab-display-data+json": {
              "id": "a74d49206441490eb5508017d731d73b",
              "pip_warning": {
                "packages": [
                  "markupsafe"
                ]
              }
            }
          },
          "metadata": {},
          "output_type": "display_data"
        }
      ],
      "source": [
        "!pip install gradio"
      ]
    },
    {
      "cell_type": "code",
      "execution_count": null,
      "metadata": {
        "colab": {
          "base_uri": "https://localhost:8080/",
          "height": 667
        },
        "id": "NYQIjdAWDVmP",
        "outputId": "a8a4c76f-ad10-48e4-b8c1-60719cf5a2c6"
      },
      "outputs": [
        {
          "name": "stderr",
          "output_type": "stream",
          "text": [
            "Some weights of DistilBertForSequenceClassification were not initialized from the model checkpoint at distilbert-base-uncased and are newly initialized: ['classifier.bias', 'classifier.weight', 'pre_classifier.bias', 'pre_classifier.weight']\n",
            "You should probably TRAIN this model on a down-stream task to be able to use it for predictions and inference.\n"
          ]
        },
        {
          "name": "stdout",
          "output_type": "stream",
          "text": [
            "Running Gradio in a Colab notebook requires sharing enabled. Automatically setting `share=True` (you can turn this off by setting `share=False` in `launch()` explicitly).\n",
            "\n",
            "Colab notebook detected. To show errors in colab notebook, set debug=True in launch()\n",
            "* Running on public URL: https://d0550f6eadf47c29e2.gradio.live\n",
            "\n",
            "This share link expires in 72 hours. For free permanent hosting and GPU upgrades, run `gradio deploy` from the terminal in the working directory to deploy to Hugging Face Spaces (https://huggingface.co/spaces)\n"
          ]
        },
        {
          "data": {
            "text/html": [
              "<div><iframe src=\"https://d0550f6eadf47c29e2.gradio.live\" width=\"100%\" height=\"500\" allow=\"autoplay; camera; microphone; clipboard-read; clipboard-write;\" frameborder=\"0\" allowfullscreen></iframe></div>"
            ],
            "text/plain": [
              "<IPython.core.display.HTML object>"
            ]
          },
          "metadata": {},
          "output_type": "display_data"
        },
        {
          "data": {
            "text/plain": []
          },
          "execution_count": 37,
          "metadata": {},
          "output_type": "execute_result"
        }
      ],
      "source": [
        "import gradio as gr\n",
        "import torch\n",
        "from transformers import DistilBertTokenizer, DistilBertForSequenceClassification\n",
        "\n",
        "# Load the biased (pre-trained) model\n",
        "biased_model = DistilBertForSequenceClassification.from_pretrained(\"distilbert-base-uncased\", num_labels=2)\n",
        "biased_model.to(\"cuda\").eval()\n",
        "\n",
        "# Load the debiased model (assume `model` is your fine-tuned debiased model)\n",
        "debiased_model = model\n",
        "debiased_model.to(\"cuda\").eval()\n",
        "\n",
        "# Load the tokenizer\n",
        "tokenizer = DistilBertTokenizer.from_pretrained(\"distilbert-base-uncased\")\n",
        "\n",
        "# Function to compare predictions\n",
        "def compare_models(sentence):\n",
        "    # Tokenize the input sentence\n",
        "    inputs = tokenizer(sentence, return_tensors=\"pt\", padding=True, truncation=True, max_length=128).to(\"cuda\")\n",
        "\n",
        "    # Get predictions from the biased model\n",
        "    with torch.no_grad():\n",
        "        biased_outputs = biased_model(**inputs)\n",
        "        biased_probs = torch.nn.functional.softmax(biased_outputs.logits, dim=-1)\n",
        "        biased_prediction = torch.argmax(biased_probs, dim=-1).item()\n",
        "        biased_confidence = biased_probs[0][biased_prediction].item()\n",
        "\n",
        "    # Get predictions from the debiased model\n",
        "    with torch.no_grad():\n",
        "        debiased_outputs = debiased_model(**inputs)\n",
        "        debiased_probs = torch.nn.functional.softmax(debiased_outputs.logits, dim=-1)\n",
        "        debiased_prediction = torch.argmax(debiased_probs, dim=-1).item()\n",
        "        debiased_confidence = debiased_probs[0][debiased_prediction].item()\n",
        "\n",
        "    # Decode predictions (0 = Anti-stereotypical, 1 = Stereotypical)\n",
        "    labels = {0: \"Anti-stereotypical\", 1: \"Stereotypical\"}\n",
        "\n",
        "    return {\n",
        "        \"Biased Model\": {\n",
        "            \"Prediction\": labels[biased_prediction],\n",
        "            \"Confidence\": f\"{biased_confidence:.4f}\"\n",
        "        },\n",
        "        \"Debiased Model\": {\n",
        "            \"Prediction\": labels[debiased_prediction],\n",
        "            \"Confidence\": f\"{debiased_confidence:.4f}\"\n",
        "        }\n",
        "    }\n",
        "\n",
        "# Gradio Interface\n",
        "gr_interface = gr.Interface(\n",
        "    fn=compare_models,\n",
        "    inputs=\"text\",\n",
        "    outputs=\"json\",\n",
        "    title=\"Biased vs Debiased Model Comparison\",\n",
        "    description=(\n",
        "        \"Enter a sentence to compare how the pre-trained (biased) and fine-tuned (debiased) models classify it. \"\n",
        "        \"The models predict whether the sentence is stereotypical or anti-stereotypical.\"\n",
        "    )\n",
        ")\n",
        "\n",
        "# Launch the Gradio interface\n",
        "gr_interface.launch()\n"
      ]
    },
    {
      "cell_type": "code",
      "execution_count": null,
      "metadata": {
        "id": "jEU8QA0BSfWr"
      },
      "outputs": [],
      "source": []
    }
  ],
  "metadata": {
    "accelerator": "GPU",
    "colab": {
      "gpuType": "T4",
      "provenance": []
    },
    "kernelspec": {
      "display_name": "Python 3",
      "name": "python3"
    },
    "language_info": {
      "name": "python"
    },
    "widgets": {
      "application/vnd.jupyter.widget-state+json": {
        "00cd5a97f1474273a51c2013e169c9fb": {
          "model_module": "@jupyter-widgets/controls",
          "model_module_version": "1.5.0",
          "model_name": "HTMLModel",
          "state": {
            "_dom_classes": [],
            "_model_module": "@jupyter-widgets/controls",
            "_model_module_version": "1.5.0",
            "_model_name": "HTMLModel",
            "_view_count": null,
            "_view_module": "@jupyter-widgets/controls",
            "_view_module_version": "1.5.0",
            "_view_name": "HTMLView",
            "description": "",
            "description_tooltip": null,
            "layout": "IPY_MODEL_e2d43c29c3a64bd2839155fe9c904e6c",
            "placeholder": "​",
            "style": "IPY_MODEL_bf8af6c903304dfabecfe2266ca96032",
            "value": " 268M/268M [00:01&lt;00:00, 235MB/s]"
          }
        },
        "01ca4063fcf842818ec9c864ece08e32": {
          "model_module": "@jupyter-widgets/controls",
          "model_module_version": "1.5.0",
          "model_name": "DescriptionStyleModel",
          "state": {
            "_model_module": "@jupyter-widgets/controls",
            "_model_module_version": "1.5.0",
            "_model_name": "DescriptionStyleModel",
            "_view_count": null,
            "_view_module": "@jupyter-widgets/base",
            "_view_module_version": "1.2.0",
            "_view_name": "StyleView",
            "description_width": ""
          }
        },
        "09264a17280841299d07b376453a1c73": {
          "model_module": "@jupyter-widgets/controls",
          "model_module_version": "1.5.0",
          "model_name": "HTMLModel",
          "state": {
            "_dom_classes": [],
            "_model_module": "@jupyter-widgets/controls",
            "_model_module_version": "1.5.0",
            "_model_name": "HTMLModel",
            "_view_count": null,
            "_view_module": "@jupyter-widgets/controls",
            "_view_module_version": "1.5.0",
            "_view_name": "HTMLView",
            "description": "",
            "description_tooltip": null,
            "layout": "IPY_MODEL_dc9dfc22247d4793bb31cc411849f9a0",
            "placeholder": "​",
            "style": "IPY_MODEL_b6241f480f454f239fb973ab429c6c5f",
            "value": " 483/483 [00:00&lt;00:00, 35.7kB/s]"
          }
        },
        "0d44e60a513b4e3cb8f546270a7a8709": {
          "model_module": "@jupyter-widgets/controls",
          "model_module_version": "1.5.0",
          "model_name": "HTMLModel",
          "state": {
            "_dom_classes": [],
            "_model_module": "@jupyter-widgets/controls",
            "_model_module_version": "1.5.0",
            "_model_name": "HTMLModel",
            "_view_count": null,
            "_view_module": "@jupyter-widgets/controls",
            "_view_module_version": "1.5.0",
            "_view_name": "HTMLView",
            "description": "",
            "description_tooltip": null,
            "layout": "IPY_MODEL_194d41f63ffc4c50a938cfc649e4ce85",
            "placeholder": "​",
            "style": "IPY_MODEL_c77dc1cc6222458b85d959b306f6fa25",
            "value": " 466k/466k [00:00&lt;00:00, 9.34MB/s]"
          }
        },
        "0e318460423841eca89c8fef1dbde80a": {
          "model_module": "@jupyter-widgets/base",
          "model_module_version": "1.2.0",
          "model_name": "LayoutModel",
          "state": {
            "_model_module": "@jupyter-widgets/base",
            "_model_module_version": "1.2.0",
            "_model_name": "LayoutModel",
            "_view_count": null,
            "_view_module": "@jupyter-widgets/base",
            "_view_module_version": "1.2.0",
            "_view_name": "LayoutView",
            "align_content": null,
            "align_items": null,
            "align_self": null,
            "border": null,
            "bottom": null,
            "display": null,
            "flex": null,
            "flex_flow": null,
            "grid_area": null,
            "grid_auto_columns": null,
            "grid_auto_flow": null,
            "grid_auto_rows": null,
            "grid_column": null,
            "grid_gap": null,
            "grid_row": null,
            "grid_template_areas": null,
            "grid_template_columns": null,
            "grid_template_rows": null,
            "height": null,
            "justify_content": null,
            "justify_items": null,
            "left": null,
            "margin": null,
            "max_height": null,
            "max_width": null,
            "min_height": null,
            "min_width": null,
            "object_fit": null,
            "object_position": null,
            "order": null,
            "overflow": null,
            "overflow_x": null,
            "overflow_y": null,
            "padding": null,
            "right": null,
            "top": null,
            "visibility": null,
            "width": null
          }
        },
        "13c9a83bb15d4e97a813d3a32817cca7": {
          "model_module": "@jupyter-widgets/base",
          "model_module_version": "1.2.0",
          "model_name": "LayoutModel",
          "state": {
            "_model_module": "@jupyter-widgets/base",
            "_model_module_version": "1.2.0",
            "_model_name": "LayoutModel",
            "_view_count": null,
            "_view_module": "@jupyter-widgets/base",
            "_view_module_version": "1.2.0",
            "_view_name": "LayoutView",
            "align_content": null,
            "align_items": null,
            "align_self": null,
            "border": null,
            "bottom": null,
            "display": null,
            "flex": null,
            "flex_flow": null,
            "grid_area": null,
            "grid_auto_columns": null,
            "grid_auto_flow": null,
            "grid_auto_rows": null,
            "grid_column": null,
            "grid_gap": null,
            "grid_row": null,
            "grid_template_areas": null,
            "grid_template_columns": null,
            "grid_template_rows": null,
            "height": null,
            "justify_content": null,
            "justify_items": null,
            "left": null,
            "margin": null,
            "max_height": null,
            "max_width": null,
            "min_height": null,
            "min_width": null,
            "object_fit": null,
            "object_position": null,
            "order": null,
            "overflow": null,
            "overflow_x": null,
            "overflow_y": null,
            "padding": null,
            "right": null,
            "top": null,
            "visibility": null,
            "width": null
          }
        },
        "14d2b06e4b634bddb5d5dc2c7809fa32": {
          "model_module": "@jupyter-widgets/controls",
          "model_module_version": "1.5.0",
          "model_name": "FloatProgressModel",
          "state": {
            "_dom_classes": [],
            "_model_module": "@jupyter-widgets/controls",
            "_model_module_version": "1.5.0",
            "_model_name": "FloatProgressModel",
            "_view_count": null,
            "_view_module": "@jupyter-widgets/controls",
            "_view_module_version": "1.5.0",
            "_view_name": "ProgressView",
            "bar_style": "success",
            "description": "",
            "description_tooltip": null,
            "layout": "IPY_MODEL_78ba6c6bab414c8683261ef9b8e5d72e",
            "max": 231508,
            "min": 0,
            "orientation": "horizontal",
            "style": "IPY_MODEL_819ab9aee0e447a6830a6ff96b603324",
            "value": 231508
          }
        },
        "194d41f63ffc4c50a938cfc649e4ce85": {
          "model_module": "@jupyter-widgets/base",
          "model_module_version": "1.2.0",
          "model_name": "LayoutModel",
          "state": {
            "_model_module": "@jupyter-widgets/base",
            "_model_module_version": "1.2.0",
            "_model_name": "LayoutModel",
            "_view_count": null,
            "_view_module": "@jupyter-widgets/base",
            "_view_module_version": "1.2.0",
            "_view_name": "LayoutView",
            "align_content": null,
            "align_items": null,
            "align_self": null,
            "border": null,
            "bottom": null,
            "display": null,
            "flex": null,
            "flex_flow": null,
            "grid_area": null,
            "grid_auto_columns": null,
            "grid_auto_flow": null,
            "grid_auto_rows": null,
            "grid_column": null,
            "grid_gap": null,
            "grid_row": null,
            "grid_template_areas": null,
            "grid_template_columns": null,
            "grid_template_rows": null,
            "height": null,
            "justify_content": null,
            "justify_items": null,
            "left": null,
            "margin": null,
            "max_height": null,
            "max_width": null,
            "min_height": null,
            "min_width": null,
            "object_fit": null,
            "object_position": null,
            "order": null,
            "overflow": null,
            "overflow_x": null,
            "overflow_y": null,
            "padding": null,
            "right": null,
            "top": null,
            "visibility": null,
            "width": null
          }
        },
        "25e3fb4e078642ea8e9c02a14881e626": {
          "model_module": "@jupyter-widgets/controls",
          "model_module_version": "1.5.0",
          "model_name": "DescriptionStyleModel",
          "state": {
            "_model_module": "@jupyter-widgets/controls",
            "_model_module_version": "1.5.0",
            "_model_name": "DescriptionStyleModel",
            "_view_count": null,
            "_view_module": "@jupyter-widgets/base",
            "_view_module_version": "1.2.0",
            "_view_name": "StyleView",
            "description_width": ""
          }
        },
        "269b41b62607473a8eecef103d833485": {
          "model_module": "@jupyter-widgets/controls",
          "model_module_version": "1.5.0",
          "model_name": "HBoxModel",
          "state": {
            "_dom_classes": [],
            "_model_module": "@jupyter-widgets/controls",
            "_model_module_version": "1.5.0",
            "_model_name": "HBoxModel",
            "_view_count": null,
            "_view_module": "@jupyter-widgets/controls",
            "_view_module_version": "1.5.0",
            "_view_name": "HBoxView",
            "box_style": "",
            "children": [
              "IPY_MODEL_a2cbedc05e1b493a8bf997879bc84540",
              "IPY_MODEL_45577d15c3a14d2d9224013672fe68e1",
              "IPY_MODEL_7d6ce54391da44d2ad9f5d54d8e3ca92"
            ],
            "layout": "IPY_MODEL_4b2662354bd641138d6af074fdf4d10f"
          }
        },
        "28d6016bdfa4415886db31528116f1a2": {
          "model_module": "@jupyter-widgets/controls",
          "model_module_version": "1.5.0",
          "model_name": "ProgressStyleModel",
          "state": {
            "_model_module": "@jupyter-widgets/controls",
            "_model_module_version": "1.5.0",
            "_model_name": "ProgressStyleModel",
            "_view_count": null,
            "_view_module": "@jupyter-widgets/base",
            "_view_module_version": "1.2.0",
            "_view_name": "StyleView",
            "bar_color": null,
            "description_width": ""
          }
        },
        "3a003bfc693349f5aa66ad7a567e6291": {
          "model_module": "@jupyter-widgets/base",
          "model_module_version": "1.2.0",
          "model_name": "LayoutModel",
          "state": {
            "_model_module": "@jupyter-widgets/base",
            "_model_module_version": "1.2.0",
            "_model_name": "LayoutModel",
            "_view_count": null,
            "_view_module": "@jupyter-widgets/base",
            "_view_module_version": "1.2.0",
            "_view_name": "LayoutView",
            "align_content": null,
            "align_items": null,
            "align_self": null,
            "border": null,
            "bottom": null,
            "display": null,
            "flex": null,
            "flex_flow": null,
            "grid_area": null,
            "grid_auto_columns": null,
            "grid_auto_flow": null,
            "grid_auto_rows": null,
            "grid_column": null,
            "grid_gap": null,
            "grid_row": null,
            "grid_template_areas": null,
            "grid_template_columns": null,
            "grid_template_rows": null,
            "height": null,
            "justify_content": null,
            "justify_items": null,
            "left": null,
            "margin": null,
            "max_height": null,
            "max_width": null,
            "min_height": null,
            "min_width": null,
            "object_fit": null,
            "object_position": null,
            "order": null,
            "overflow": null,
            "overflow_x": null,
            "overflow_y": null,
            "padding": null,
            "right": null,
            "top": null,
            "visibility": null,
            "width": null
          }
        },
        "3b3174fcc0e8442d921522464381eedb": {
          "model_module": "@jupyter-widgets/controls",
          "model_module_version": "1.5.0",
          "model_name": "ProgressStyleModel",
          "state": {
            "_model_module": "@jupyter-widgets/controls",
            "_model_module_version": "1.5.0",
            "_model_name": "ProgressStyleModel",
            "_view_count": null,
            "_view_module": "@jupyter-widgets/base",
            "_view_module_version": "1.2.0",
            "_view_name": "StyleView",
            "bar_color": null,
            "description_width": ""
          }
        },
        "3c0556f2455b4b1cb792862f90fa8910": {
          "model_module": "@jupyter-widgets/controls",
          "model_module_version": "1.5.0",
          "model_name": "FloatProgressModel",
          "state": {
            "_dom_classes": [],
            "_model_module": "@jupyter-widgets/controls",
            "_model_module_version": "1.5.0",
            "_model_name": "FloatProgressModel",
            "_view_count": null,
            "_view_module": "@jupyter-widgets/controls",
            "_view_module_version": "1.5.0",
            "_view_name": "ProgressView",
            "bar_style": "success",
            "description": "",
            "description_tooltip": null,
            "layout": "IPY_MODEL_f935f7321c0c4303830f769508d8424e",
            "max": 483,
            "min": 0,
            "orientation": "horizontal",
            "style": "IPY_MODEL_28d6016bdfa4415886db31528116f1a2",
            "value": 483
          }
        },
        "3d3d8877bb9b45cca4109c0e02efd85f": {
          "model_module": "@jupyter-widgets/controls",
          "model_module_version": "1.5.0",
          "model_name": "DescriptionStyleModel",
          "state": {
            "_model_module": "@jupyter-widgets/controls",
            "_model_module_version": "1.5.0",
            "_model_name": "DescriptionStyleModel",
            "_view_count": null,
            "_view_module": "@jupyter-widgets/base",
            "_view_module_version": "1.2.0",
            "_view_name": "StyleView",
            "description_width": ""
          }
        },
        "433a9ddb7c164d8bb7b2ac291a53dd18": {
          "model_module": "@jupyter-widgets/base",
          "model_module_version": "1.2.0",
          "model_name": "LayoutModel",
          "state": {
            "_model_module": "@jupyter-widgets/base",
            "_model_module_version": "1.2.0",
            "_model_name": "LayoutModel",
            "_view_count": null,
            "_view_module": "@jupyter-widgets/base",
            "_view_module_version": "1.2.0",
            "_view_name": "LayoutView",
            "align_content": null,
            "align_items": null,
            "align_self": null,
            "border": null,
            "bottom": null,
            "display": null,
            "flex": null,
            "flex_flow": null,
            "grid_area": null,
            "grid_auto_columns": null,
            "grid_auto_flow": null,
            "grid_auto_rows": null,
            "grid_column": null,
            "grid_gap": null,
            "grid_row": null,
            "grid_template_areas": null,
            "grid_template_columns": null,
            "grid_template_rows": null,
            "height": null,
            "justify_content": null,
            "justify_items": null,
            "left": null,
            "margin": null,
            "max_height": null,
            "max_width": null,
            "min_height": null,
            "min_width": null,
            "object_fit": null,
            "object_position": null,
            "order": null,
            "overflow": null,
            "overflow_x": null,
            "overflow_y": null,
            "padding": null,
            "right": null,
            "top": null,
            "visibility": null,
            "width": null
          }
        },
        "45577d15c3a14d2d9224013672fe68e1": {
          "model_module": "@jupyter-widgets/controls",
          "model_module_version": "1.5.0",
          "model_name": "FloatProgressModel",
          "state": {
            "_dom_classes": [],
            "_model_module": "@jupyter-widgets/controls",
            "_model_module_version": "1.5.0",
            "_model_name": "FloatProgressModel",
            "_view_count": null,
            "_view_module": "@jupyter-widgets/controls",
            "_view_module_version": "1.5.0",
            "_view_name": "ProgressView",
            "bar_style": "success",
            "description": "",
            "description_tooltip": null,
            "layout": "IPY_MODEL_c160668760bd46a990f3f815c95b4cf8",
            "max": 48,
            "min": 0,
            "orientation": "horizontal",
            "style": "IPY_MODEL_3b3174fcc0e8442d921522464381eedb",
            "value": 48
          }
        },
        "4b2662354bd641138d6af074fdf4d10f": {
          "model_module": "@jupyter-widgets/base",
          "model_module_version": "1.2.0",
          "model_name": "LayoutModel",
          "state": {
            "_model_module": "@jupyter-widgets/base",
            "_model_module_version": "1.2.0",
            "_model_name": "LayoutModel",
            "_view_count": null,
            "_view_module": "@jupyter-widgets/base",
            "_view_module_version": "1.2.0",
            "_view_name": "LayoutView",
            "align_content": null,
            "align_items": null,
            "align_self": null,
            "border": null,
            "bottom": null,
            "display": null,
            "flex": null,
            "flex_flow": null,
            "grid_area": null,
            "grid_auto_columns": null,
            "grid_auto_flow": null,
            "grid_auto_rows": null,
            "grid_column": null,
            "grid_gap": null,
            "grid_row": null,
            "grid_template_areas": null,
            "grid_template_columns": null,
            "grid_template_rows": null,
            "height": null,
            "justify_content": null,
            "justify_items": null,
            "left": null,
            "margin": null,
            "max_height": null,
            "max_width": null,
            "min_height": null,
            "min_width": null,
            "object_fit": null,
            "object_position": null,
            "order": null,
            "overflow": null,
            "overflow_x": null,
            "overflow_y": null,
            "padding": null,
            "right": null,
            "top": null,
            "visibility": null,
            "width": null
          }
        },
        "4d012d7e9a164bcea8071ee916ca66d5": {
          "model_module": "@jupyter-widgets/controls",
          "model_module_version": "1.5.0",
          "model_name": "HTMLModel",
          "state": {
            "_dom_classes": [],
            "_model_module": "@jupyter-widgets/controls",
            "_model_module_version": "1.5.0",
            "_model_name": "HTMLModel",
            "_view_count": null,
            "_view_module": "@jupyter-widgets/controls",
            "_view_module_version": "1.5.0",
            "_view_name": "HTMLView",
            "description": "",
            "description_tooltip": null,
            "layout": "IPY_MODEL_0e318460423841eca89c8fef1dbde80a",
            "placeholder": "​",
            "style": "IPY_MODEL_3d3d8877bb9b45cca4109c0e02efd85f",
            "value": "model.safetensors: 100%"
          }
        },
        "5939a29d317e4c55b9b41198ddcd0e1e": {
          "model_module": "@jupyter-widgets/base",
          "model_module_version": "1.2.0",
          "model_name": "LayoutModel",
          "state": {
            "_model_module": "@jupyter-widgets/base",
            "_model_module_version": "1.2.0",
            "_model_name": "LayoutModel",
            "_view_count": null,
            "_view_module": "@jupyter-widgets/base",
            "_view_module_version": "1.2.0",
            "_view_name": "LayoutView",
            "align_content": null,
            "align_items": null,
            "align_self": null,
            "border": null,
            "bottom": null,
            "display": null,
            "flex": null,
            "flex_flow": null,
            "grid_area": null,
            "grid_auto_columns": null,
            "grid_auto_flow": null,
            "grid_auto_rows": null,
            "grid_column": null,
            "grid_gap": null,
            "grid_row": null,
            "grid_template_areas": null,
            "grid_template_columns": null,
            "grid_template_rows": null,
            "height": null,
            "justify_content": null,
            "justify_items": null,
            "left": null,
            "margin": null,
            "max_height": null,
            "max_width": null,
            "min_height": null,
            "min_width": null,
            "object_fit": null,
            "object_position": null,
            "order": null,
            "overflow": null,
            "overflow_x": null,
            "overflow_y": null,
            "padding": null,
            "right": null,
            "top": null,
            "visibility": null,
            "width": null
          }
        },
        "5c938c358e184b978b4990a9e70c9616": {
          "model_module": "@jupyter-widgets/controls",
          "model_module_version": "1.5.0",
          "model_name": "HBoxModel",
          "state": {
            "_dom_classes": [],
            "_model_module": "@jupyter-widgets/controls",
            "_model_module_version": "1.5.0",
            "_model_name": "HBoxModel",
            "_view_count": null,
            "_view_module": "@jupyter-widgets/controls",
            "_view_module_version": "1.5.0",
            "_view_name": "HBoxView",
            "box_style": "",
            "children": [
              "IPY_MODEL_8202e0ae0de64303a43d6cb7acc743c5",
              "IPY_MODEL_3c0556f2455b4b1cb792862f90fa8910",
              "IPY_MODEL_09264a17280841299d07b376453a1c73"
            ],
            "layout": "IPY_MODEL_8c2e4af51fde4b76b0a97fa3b186bd1f"
          }
        },
        "70733df6f320452ea8e2f87306d273ab": {
          "model_module": "@jupyter-widgets/controls",
          "model_module_version": "1.5.0",
          "model_name": "DescriptionStyleModel",
          "state": {
            "_model_module": "@jupyter-widgets/controls",
            "_model_module_version": "1.5.0",
            "_model_name": "DescriptionStyleModel",
            "_view_count": null,
            "_view_module": "@jupyter-widgets/base",
            "_view_module_version": "1.2.0",
            "_view_name": "StyleView",
            "description_width": ""
          }
        },
        "7083633eb2704b7da314925cb728ce23": {
          "model_module": "@jupyter-widgets/base",
          "model_module_version": "1.2.0",
          "model_name": "LayoutModel",
          "state": {
            "_model_module": "@jupyter-widgets/base",
            "_model_module_version": "1.2.0",
            "_model_name": "LayoutModel",
            "_view_count": null,
            "_view_module": "@jupyter-widgets/base",
            "_view_module_version": "1.2.0",
            "_view_name": "LayoutView",
            "align_content": null,
            "align_items": null,
            "align_self": null,
            "border": null,
            "bottom": null,
            "display": null,
            "flex": null,
            "flex_flow": null,
            "grid_area": null,
            "grid_auto_columns": null,
            "grid_auto_flow": null,
            "grid_auto_rows": null,
            "grid_column": null,
            "grid_gap": null,
            "grid_row": null,
            "grid_template_areas": null,
            "grid_template_columns": null,
            "grid_template_rows": null,
            "height": null,
            "justify_content": null,
            "justify_items": null,
            "left": null,
            "margin": null,
            "max_height": null,
            "max_width": null,
            "min_height": null,
            "min_width": null,
            "object_fit": null,
            "object_position": null,
            "order": null,
            "overflow": null,
            "overflow_x": null,
            "overflow_y": null,
            "padding": null,
            "right": null,
            "top": null,
            "visibility": null,
            "width": null
          }
        },
        "7257a563bdcd4b19bd90be665d48c096": {
          "model_module": "@jupyter-widgets/controls",
          "model_module_version": "1.5.0",
          "model_name": "HBoxModel",
          "state": {
            "_dom_classes": [],
            "_model_module": "@jupyter-widgets/controls",
            "_model_module_version": "1.5.0",
            "_model_name": "HBoxModel",
            "_view_count": null,
            "_view_module": "@jupyter-widgets/controls",
            "_view_module_version": "1.5.0",
            "_view_name": "HBoxView",
            "box_style": "",
            "children": [
              "IPY_MODEL_4d012d7e9a164bcea8071ee916ca66d5",
              "IPY_MODEL_ac3a418f5d1b4b49975bd88e99e0cb54",
              "IPY_MODEL_00cd5a97f1474273a51c2013e169c9fb"
            ],
            "layout": "IPY_MODEL_bd1e919f434947c59b003efc05a41af6"
          }
        },
        "78ba6c6bab414c8683261ef9b8e5d72e": {
          "model_module": "@jupyter-widgets/base",
          "model_module_version": "1.2.0",
          "model_name": "LayoutModel",
          "state": {
            "_model_module": "@jupyter-widgets/base",
            "_model_module_version": "1.2.0",
            "_model_name": "LayoutModel",
            "_view_count": null,
            "_view_module": "@jupyter-widgets/base",
            "_view_module_version": "1.2.0",
            "_view_name": "LayoutView",
            "align_content": null,
            "align_items": null,
            "align_self": null,
            "border": null,
            "bottom": null,
            "display": null,
            "flex": null,
            "flex_flow": null,
            "grid_area": null,
            "grid_auto_columns": null,
            "grid_auto_flow": null,
            "grid_auto_rows": null,
            "grid_column": null,
            "grid_gap": null,
            "grid_row": null,
            "grid_template_areas": null,
            "grid_template_columns": null,
            "grid_template_rows": null,
            "height": null,
            "justify_content": null,
            "justify_items": null,
            "left": null,
            "margin": null,
            "max_height": null,
            "max_width": null,
            "min_height": null,
            "min_width": null,
            "object_fit": null,
            "object_position": null,
            "order": null,
            "overflow": null,
            "overflow_x": null,
            "overflow_y": null,
            "padding": null,
            "right": null,
            "top": null,
            "visibility": null,
            "width": null
          }
        },
        "7d6ce54391da44d2ad9f5d54d8e3ca92": {
          "model_module": "@jupyter-widgets/controls",
          "model_module_version": "1.5.0",
          "model_name": "HTMLModel",
          "state": {
            "_dom_classes": [],
            "_model_module": "@jupyter-widgets/controls",
            "_model_module_version": "1.5.0",
            "_model_name": "HTMLModel",
            "_view_count": null,
            "_view_module": "@jupyter-widgets/controls",
            "_view_module_version": "1.5.0",
            "_view_name": "HTMLView",
            "description": "",
            "description_tooltip": null,
            "layout": "IPY_MODEL_94e81ef118a544e8ac6cba22871f1ded",
            "placeholder": "​",
            "style": "IPY_MODEL_918e259bfc0b4015b2ba294928cc01de",
            "value": " 48.0/48.0 [00:00&lt;00:00, 3.34kB/s]"
          }
        },
        "7def20324f6445988ba089cd376e4307": {
          "model_module": "@jupyter-widgets/base",
          "model_module_version": "1.2.0",
          "model_name": "LayoutModel",
          "state": {
            "_model_module": "@jupyter-widgets/base",
            "_model_module_version": "1.2.0",
            "_model_name": "LayoutModel",
            "_view_count": null,
            "_view_module": "@jupyter-widgets/base",
            "_view_module_version": "1.2.0",
            "_view_name": "LayoutView",
            "align_content": null,
            "align_items": null,
            "align_self": null,
            "border": null,
            "bottom": null,
            "display": null,
            "flex": null,
            "flex_flow": null,
            "grid_area": null,
            "grid_auto_columns": null,
            "grid_auto_flow": null,
            "grid_auto_rows": null,
            "grid_column": null,
            "grid_gap": null,
            "grid_row": null,
            "grid_template_areas": null,
            "grid_template_columns": null,
            "grid_template_rows": null,
            "height": null,
            "justify_content": null,
            "justify_items": null,
            "left": null,
            "margin": null,
            "max_height": null,
            "max_width": null,
            "min_height": null,
            "min_width": null,
            "object_fit": null,
            "object_position": null,
            "order": null,
            "overflow": null,
            "overflow_x": null,
            "overflow_y": null,
            "padding": null,
            "right": null,
            "top": null,
            "visibility": null,
            "width": null
          }
        },
        "819ab9aee0e447a6830a6ff96b603324": {
          "model_module": "@jupyter-widgets/controls",
          "model_module_version": "1.5.0",
          "model_name": "ProgressStyleModel",
          "state": {
            "_model_module": "@jupyter-widgets/controls",
            "_model_module_version": "1.5.0",
            "_model_name": "ProgressStyleModel",
            "_view_count": null,
            "_view_module": "@jupyter-widgets/base",
            "_view_module_version": "1.2.0",
            "_view_name": "StyleView",
            "bar_color": null,
            "description_width": ""
          }
        },
        "8202e0ae0de64303a43d6cb7acc743c5": {
          "model_module": "@jupyter-widgets/controls",
          "model_module_version": "1.5.0",
          "model_name": "HTMLModel",
          "state": {
            "_dom_classes": [],
            "_model_module": "@jupyter-widgets/controls",
            "_model_module_version": "1.5.0",
            "_model_name": "HTMLModel",
            "_view_count": null,
            "_view_module": "@jupyter-widgets/controls",
            "_view_module_version": "1.5.0",
            "_view_name": "HTMLView",
            "description": "",
            "description_tooltip": null,
            "layout": "IPY_MODEL_e9d5d9372f3d488bb60ec75d8007bb3a",
            "placeholder": "​",
            "style": "IPY_MODEL_a6aa0d20859b4708a34ef1df4a3bed21",
            "value": "config.json: 100%"
          }
        },
        "8c2e4af51fde4b76b0a97fa3b186bd1f": {
          "model_module": "@jupyter-widgets/base",
          "model_module_version": "1.2.0",
          "model_name": "LayoutModel",
          "state": {
            "_model_module": "@jupyter-widgets/base",
            "_model_module_version": "1.2.0",
            "_model_name": "LayoutModel",
            "_view_count": null,
            "_view_module": "@jupyter-widgets/base",
            "_view_module_version": "1.2.0",
            "_view_name": "LayoutView",
            "align_content": null,
            "align_items": null,
            "align_self": null,
            "border": null,
            "bottom": null,
            "display": null,
            "flex": null,
            "flex_flow": null,
            "grid_area": null,
            "grid_auto_columns": null,
            "grid_auto_flow": null,
            "grid_auto_rows": null,
            "grid_column": null,
            "grid_gap": null,
            "grid_row": null,
            "grid_template_areas": null,
            "grid_template_columns": null,
            "grid_template_rows": null,
            "height": null,
            "justify_content": null,
            "justify_items": null,
            "left": null,
            "margin": null,
            "max_height": null,
            "max_width": null,
            "min_height": null,
            "min_width": null,
            "object_fit": null,
            "object_position": null,
            "order": null,
            "overflow": null,
            "overflow_x": null,
            "overflow_y": null,
            "padding": null,
            "right": null,
            "top": null,
            "visibility": null,
            "width": null
          }
        },
        "8c2e700856084a499df9e4e67d63b2ab": {
          "model_module": "@jupyter-widgets/controls",
          "model_module_version": "1.5.0",
          "model_name": "HTMLModel",
          "state": {
            "_dom_classes": [],
            "_model_module": "@jupyter-widgets/controls",
            "_model_module_version": "1.5.0",
            "_model_name": "HTMLModel",
            "_view_count": null,
            "_view_module": "@jupyter-widgets/controls",
            "_view_module_version": "1.5.0",
            "_view_name": "HTMLView",
            "description": "",
            "description_tooltip": null,
            "layout": "IPY_MODEL_7def20324f6445988ba089cd376e4307",
            "placeholder": "​",
            "style": "IPY_MODEL_8ecba24dcb954bf487a7c1b08c03dcd9",
            "value": "vocab.txt: 100%"
          }
        },
        "8ecba24dcb954bf487a7c1b08c03dcd9": {
          "model_module": "@jupyter-widgets/controls",
          "model_module_version": "1.5.0",
          "model_name": "DescriptionStyleModel",
          "state": {
            "_model_module": "@jupyter-widgets/controls",
            "_model_module_version": "1.5.0",
            "_model_name": "DescriptionStyleModel",
            "_view_count": null,
            "_view_module": "@jupyter-widgets/base",
            "_view_module_version": "1.2.0",
            "_view_name": "StyleView",
            "description_width": ""
          }
        },
        "918e259bfc0b4015b2ba294928cc01de": {
          "model_module": "@jupyter-widgets/controls",
          "model_module_version": "1.5.0",
          "model_name": "DescriptionStyleModel",
          "state": {
            "_model_module": "@jupyter-widgets/controls",
            "_model_module_version": "1.5.0",
            "_model_name": "DescriptionStyleModel",
            "_view_count": null,
            "_view_module": "@jupyter-widgets/base",
            "_view_module_version": "1.2.0",
            "_view_name": "StyleView",
            "description_width": ""
          }
        },
        "941d4b84189e4fbda84b79b71ae40898": {
          "model_module": "@jupyter-widgets/controls",
          "model_module_version": "1.5.0",
          "model_name": "HTMLModel",
          "state": {
            "_dom_classes": [],
            "_model_module": "@jupyter-widgets/controls",
            "_model_module_version": "1.5.0",
            "_model_name": "HTMLModel",
            "_view_count": null,
            "_view_module": "@jupyter-widgets/controls",
            "_view_module_version": "1.5.0",
            "_view_name": "HTMLView",
            "description": "",
            "description_tooltip": null,
            "layout": "IPY_MODEL_433a9ddb7c164d8bb7b2ac291a53dd18",
            "placeholder": "​",
            "style": "IPY_MODEL_01ca4063fcf842818ec9c864ece08e32",
            "value": " 232k/232k [00:00&lt;00:00, 11.0MB/s]"
          }
        },
        "94e81ef118a544e8ac6cba22871f1ded": {
          "model_module": "@jupyter-widgets/base",
          "model_module_version": "1.2.0",
          "model_name": "LayoutModel",
          "state": {
            "_model_module": "@jupyter-widgets/base",
            "_model_module_version": "1.2.0",
            "_model_name": "LayoutModel",
            "_view_count": null,
            "_view_module": "@jupyter-widgets/base",
            "_view_module_version": "1.2.0",
            "_view_name": "LayoutView",
            "align_content": null,
            "align_items": null,
            "align_self": null,
            "border": null,
            "bottom": null,
            "display": null,
            "flex": null,
            "flex_flow": null,
            "grid_area": null,
            "grid_auto_columns": null,
            "grid_auto_flow": null,
            "grid_auto_rows": null,
            "grid_column": null,
            "grid_gap": null,
            "grid_row": null,
            "grid_template_areas": null,
            "grid_template_columns": null,
            "grid_template_rows": null,
            "height": null,
            "justify_content": null,
            "justify_items": null,
            "left": null,
            "margin": null,
            "max_height": null,
            "max_width": null,
            "min_height": null,
            "min_width": null,
            "object_fit": null,
            "object_position": null,
            "order": null,
            "overflow": null,
            "overflow_x": null,
            "overflow_y": null,
            "padding": null,
            "right": null,
            "top": null,
            "visibility": null,
            "width": null
          }
        },
        "963b9360751c42aca4fcb9ecae7f4147": {
          "model_module": "@jupyter-widgets/controls",
          "model_module_version": "1.5.0",
          "model_name": "HBoxModel",
          "state": {
            "_dom_classes": [],
            "_model_module": "@jupyter-widgets/controls",
            "_model_module_version": "1.5.0",
            "_model_name": "HBoxModel",
            "_view_count": null,
            "_view_module": "@jupyter-widgets/controls",
            "_view_module_version": "1.5.0",
            "_view_name": "HBoxView",
            "box_style": "",
            "children": [
              "IPY_MODEL_8c2e700856084a499df9e4e67d63b2ab",
              "IPY_MODEL_14d2b06e4b634bddb5d5dc2c7809fa32",
              "IPY_MODEL_941d4b84189e4fbda84b79b71ae40898"
            ],
            "layout": "IPY_MODEL_dd2291cfd2f24e90ae6b47c1f841b395"
          }
        },
        "a2741bc3e044437a8679cb4834ffe91e": {
          "model_module": "@jupyter-widgets/controls",
          "model_module_version": "1.5.0",
          "model_name": "FloatProgressModel",
          "state": {
            "_dom_classes": [],
            "_model_module": "@jupyter-widgets/controls",
            "_model_module_version": "1.5.0",
            "_model_name": "FloatProgressModel",
            "_view_count": null,
            "_view_module": "@jupyter-widgets/controls",
            "_view_module_version": "1.5.0",
            "_view_name": "ProgressView",
            "bar_style": "success",
            "description": "",
            "description_tooltip": null,
            "layout": "IPY_MODEL_7083633eb2704b7da314925cb728ce23",
            "max": 466062,
            "min": 0,
            "orientation": "horizontal",
            "style": "IPY_MODEL_b714c209a06944ea9dd1fd22ca2d2b4b",
            "value": 466062
          }
        },
        "a2cbedc05e1b493a8bf997879bc84540": {
          "model_module": "@jupyter-widgets/controls",
          "model_module_version": "1.5.0",
          "model_name": "HTMLModel",
          "state": {
            "_dom_classes": [],
            "_model_module": "@jupyter-widgets/controls",
            "_model_module_version": "1.5.0",
            "_model_name": "HTMLModel",
            "_view_count": null,
            "_view_module": "@jupyter-widgets/controls",
            "_view_module_version": "1.5.0",
            "_view_name": "HTMLView",
            "description": "",
            "description_tooltip": null,
            "layout": "IPY_MODEL_dd102b9ecac343f9aa7ab697bc2458ec",
            "placeholder": "​",
            "style": "IPY_MODEL_70733df6f320452ea8e2f87306d273ab",
            "value": "tokenizer_config.json: 100%"
          }
        },
        "a6aa0d20859b4708a34ef1df4a3bed21": {
          "model_module": "@jupyter-widgets/controls",
          "model_module_version": "1.5.0",
          "model_name": "DescriptionStyleModel",
          "state": {
            "_model_module": "@jupyter-widgets/controls",
            "_model_module_version": "1.5.0",
            "_model_name": "DescriptionStyleModel",
            "_view_count": null,
            "_view_module": "@jupyter-widgets/base",
            "_view_module_version": "1.2.0",
            "_view_name": "StyleView",
            "description_width": ""
          }
        },
        "ac3a418f5d1b4b49975bd88e99e0cb54": {
          "model_module": "@jupyter-widgets/controls",
          "model_module_version": "1.5.0",
          "model_name": "FloatProgressModel",
          "state": {
            "_dom_classes": [],
            "_model_module": "@jupyter-widgets/controls",
            "_model_module_version": "1.5.0",
            "_model_name": "FloatProgressModel",
            "_view_count": null,
            "_view_module": "@jupyter-widgets/controls",
            "_view_module_version": "1.5.0",
            "_view_name": "ProgressView",
            "bar_style": "success",
            "description": "",
            "description_tooltip": null,
            "layout": "IPY_MODEL_13c9a83bb15d4e97a813d3a32817cca7",
            "max": 267954768,
            "min": 0,
            "orientation": "horizontal",
            "style": "IPY_MODEL_f20de37c7a254e59bc6b19bdb08f96ad",
            "value": 267954768
          }
        },
        "b6241f480f454f239fb973ab429c6c5f": {
          "model_module": "@jupyter-widgets/controls",
          "model_module_version": "1.5.0",
          "model_name": "DescriptionStyleModel",
          "state": {
            "_model_module": "@jupyter-widgets/controls",
            "_model_module_version": "1.5.0",
            "_model_name": "DescriptionStyleModel",
            "_view_count": null,
            "_view_module": "@jupyter-widgets/base",
            "_view_module_version": "1.2.0",
            "_view_name": "StyleView",
            "description_width": ""
          }
        },
        "b714c209a06944ea9dd1fd22ca2d2b4b": {
          "model_module": "@jupyter-widgets/controls",
          "model_module_version": "1.5.0",
          "model_name": "ProgressStyleModel",
          "state": {
            "_model_module": "@jupyter-widgets/controls",
            "_model_module_version": "1.5.0",
            "_model_name": "ProgressStyleModel",
            "_view_count": null,
            "_view_module": "@jupyter-widgets/base",
            "_view_module_version": "1.2.0",
            "_view_name": "StyleView",
            "bar_color": null,
            "description_width": ""
          }
        },
        "bc2990c13e684aaeb69c5222a1d445d8": {
          "model_module": "@jupyter-widgets/controls",
          "model_module_version": "1.5.0",
          "model_name": "HBoxModel",
          "state": {
            "_dom_classes": [],
            "_model_module": "@jupyter-widgets/controls",
            "_model_module_version": "1.5.0",
            "_model_name": "HBoxModel",
            "_view_count": null,
            "_view_module": "@jupyter-widgets/controls",
            "_view_module_version": "1.5.0",
            "_view_name": "HBoxView",
            "box_style": "",
            "children": [
              "IPY_MODEL_d8b755ebdada4edca21123618406607b",
              "IPY_MODEL_a2741bc3e044437a8679cb4834ffe91e",
              "IPY_MODEL_0d44e60a513b4e3cb8f546270a7a8709"
            ],
            "layout": "IPY_MODEL_3a003bfc693349f5aa66ad7a567e6291"
          }
        },
        "bd1e919f434947c59b003efc05a41af6": {
          "model_module": "@jupyter-widgets/base",
          "model_module_version": "1.2.0",
          "model_name": "LayoutModel",
          "state": {
            "_model_module": "@jupyter-widgets/base",
            "_model_module_version": "1.2.0",
            "_model_name": "LayoutModel",
            "_view_count": null,
            "_view_module": "@jupyter-widgets/base",
            "_view_module_version": "1.2.0",
            "_view_name": "LayoutView",
            "align_content": null,
            "align_items": null,
            "align_self": null,
            "border": null,
            "bottom": null,
            "display": null,
            "flex": null,
            "flex_flow": null,
            "grid_area": null,
            "grid_auto_columns": null,
            "grid_auto_flow": null,
            "grid_auto_rows": null,
            "grid_column": null,
            "grid_gap": null,
            "grid_row": null,
            "grid_template_areas": null,
            "grid_template_columns": null,
            "grid_template_rows": null,
            "height": null,
            "justify_content": null,
            "justify_items": null,
            "left": null,
            "margin": null,
            "max_height": null,
            "max_width": null,
            "min_height": null,
            "min_width": null,
            "object_fit": null,
            "object_position": null,
            "order": null,
            "overflow": null,
            "overflow_x": null,
            "overflow_y": null,
            "padding": null,
            "right": null,
            "top": null,
            "visibility": null,
            "width": null
          }
        },
        "bf8af6c903304dfabecfe2266ca96032": {
          "model_module": "@jupyter-widgets/controls",
          "model_module_version": "1.5.0",
          "model_name": "DescriptionStyleModel",
          "state": {
            "_model_module": "@jupyter-widgets/controls",
            "_model_module_version": "1.5.0",
            "_model_name": "DescriptionStyleModel",
            "_view_count": null,
            "_view_module": "@jupyter-widgets/base",
            "_view_module_version": "1.2.0",
            "_view_name": "StyleView",
            "description_width": ""
          }
        },
        "c160668760bd46a990f3f815c95b4cf8": {
          "model_module": "@jupyter-widgets/base",
          "model_module_version": "1.2.0",
          "model_name": "LayoutModel",
          "state": {
            "_model_module": "@jupyter-widgets/base",
            "_model_module_version": "1.2.0",
            "_model_name": "LayoutModel",
            "_view_count": null,
            "_view_module": "@jupyter-widgets/base",
            "_view_module_version": "1.2.0",
            "_view_name": "LayoutView",
            "align_content": null,
            "align_items": null,
            "align_self": null,
            "border": null,
            "bottom": null,
            "display": null,
            "flex": null,
            "flex_flow": null,
            "grid_area": null,
            "grid_auto_columns": null,
            "grid_auto_flow": null,
            "grid_auto_rows": null,
            "grid_column": null,
            "grid_gap": null,
            "grid_row": null,
            "grid_template_areas": null,
            "grid_template_columns": null,
            "grid_template_rows": null,
            "height": null,
            "justify_content": null,
            "justify_items": null,
            "left": null,
            "margin": null,
            "max_height": null,
            "max_width": null,
            "min_height": null,
            "min_width": null,
            "object_fit": null,
            "object_position": null,
            "order": null,
            "overflow": null,
            "overflow_x": null,
            "overflow_y": null,
            "padding": null,
            "right": null,
            "top": null,
            "visibility": null,
            "width": null
          }
        },
        "c77dc1cc6222458b85d959b306f6fa25": {
          "model_module": "@jupyter-widgets/controls",
          "model_module_version": "1.5.0",
          "model_name": "DescriptionStyleModel",
          "state": {
            "_model_module": "@jupyter-widgets/controls",
            "_model_module_version": "1.5.0",
            "_model_name": "DescriptionStyleModel",
            "_view_count": null,
            "_view_module": "@jupyter-widgets/base",
            "_view_module_version": "1.2.0",
            "_view_name": "StyleView",
            "description_width": ""
          }
        },
        "d8b755ebdada4edca21123618406607b": {
          "model_module": "@jupyter-widgets/controls",
          "model_module_version": "1.5.0",
          "model_name": "HTMLModel",
          "state": {
            "_dom_classes": [],
            "_model_module": "@jupyter-widgets/controls",
            "_model_module_version": "1.5.0",
            "_model_name": "HTMLModel",
            "_view_count": null,
            "_view_module": "@jupyter-widgets/controls",
            "_view_module_version": "1.5.0",
            "_view_name": "HTMLView",
            "description": "",
            "description_tooltip": null,
            "layout": "IPY_MODEL_5939a29d317e4c55b9b41198ddcd0e1e",
            "placeholder": "​",
            "style": "IPY_MODEL_25e3fb4e078642ea8e9c02a14881e626",
            "value": "tokenizer.json: 100%"
          }
        },
        "dc9dfc22247d4793bb31cc411849f9a0": {
          "model_module": "@jupyter-widgets/base",
          "model_module_version": "1.2.0",
          "model_name": "LayoutModel",
          "state": {
            "_model_module": "@jupyter-widgets/base",
            "_model_module_version": "1.2.0",
            "_model_name": "LayoutModel",
            "_view_count": null,
            "_view_module": "@jupyter-widgets/base",
            "_view_module_version": "1.2.0",
            "_view_name": "LayoutView",
            "align_content": null,
            "align_items": null,
            "align_self": null,
            "border": null,
            "bottom": null,
            "display": null,
            "flex": null,
            "flex_flow": null,
            "grid_area": null,
            "grid_auto_columns": null,
            "grid_auto_flow": null,
            "grid_auto_rows": null,
            "grid_column": null,
            "grid_gap": null,
            "grid_row": null,
            "grid_template_areas": null,
            "grid_template_columns": null,
            "grid_template_rows": null,
            "height": null,
            "justify_content": null,
            "justify_items": null,
            "left": null,
            "margin": null,
            "max_height": null,
            "max_width": null,
            "min_height": null,
            "min_width": null,
            "object_fit": null,
            "object_position": null,
            "order": null,
            "overflow": null,
            "overflow_x": null,
            "overflow_y": null,
            "padding": null,
            "right": null,
            "top": null,
            "visibility": null,
            "width": null
          }
        },
        "dd102b9ecac343f9aa7ab697bc2458ec": {
          "model_module": "@jupyter-widgets/base",
          "model_module_version": "1.2.0",
          "model_name": "LayoutModel",
          "state": {
            "_model_module": "@jupyter-widgets/base",
            "_model_module_version": "1.2.0",
            "_model_name": "LayoutModel",
            "_view_count": null,
            "_view_module": "@jupyter-widgets/base",
            "_view_module_version": "1.2.0",
            "_view_name": "LayoutView",
            "align_content": null,
            "align_items": null,
            "align_self": null,
            "border": null,
            "bottom": null,
            "display": null,
            "flex": null,
            "flex_flow": null,
            "grid_area": null,
            "grid_auto_columns": null,
            "grid_auto_flow": null,
            "grid_auto_rows": null,
            "grid_column": null,
            "grid_gap": null,
            "grid_row": null,
            "grid_template_areas": null,
            "grid_template_columns": null,
            "grid_template_rows": null,
            "height": null,
            "justify_content": null,
            "justify_items": null,
            "left": null,
            "margin": null,
            "max_height": null,
            "max_width": null,
            "min_height": null,
            "min_width": null,
            "object_fit": null,
            "object_position": null,
            "order": null,
            "overflow": null,
            "overflow_x": null,
            "overflow_y": null,
            "padding": null,
            "right": null,
            "top": null,
            "visibility": null,
            "width": null
          }
        },
        "dd2291cfd2f24e90ae6b47c1f841b395": {
          "model_module": "@jupyter-widgets/base",
          "model_module_version": "1.2.0",
          "model_name": "LayoutModel",
          "state": {
            "_model_module": "@jupyter-widgets/base",
            "_model_module_version": "1.2.0",
            "_model_name": "LayoutModel",
            "_view_count": null,
            "_view_module": "@jupyter-widgets/base",
            "_view_module_version": "1.2.0",
            "_view_name": "LayoutView",
            "align_content": null,
            "align_items": null,
            "align_self": null,
            "border": null,
            "bottom": null,
            "display": null,
            "flex": null,
            "flex_flow": null,
            "grid_area": null,
            "grid_auto_columns": null,
            "grid_auto_flow": null,
            "grid_auto_rows": null,
            "grid_column": null,
            "grid_gap": null,
            "grid_row": null,
            "grid_template_areas": null,
            "grid_template_columns": null,
            "grid_template_rows": null,
            "height": null,
            "justify_content": null,
            "justify_items": null,
            "left": null,
            "margin": null,
            "max_height": null,
            "max_width": null,
            "min_height": null,
            "min_width": null,
            "object_fit": null,
            "object_position": null,
            "order": null,
            "overflow": null,
            "overflow_x": null,
            "overflow_y": null,
            "padding": null,
            "right": null,
            "top": null,
            "visibility": null,
            "width": null
          }
        },
        "e2d43c29c3a64bd2839155fe9c904e6c": {
          "model_module": "@jupyter-widgets/base",
          "model_module_version": "1.2.0",
          "model_name": "LayoutModel",
          "state": {
            "_model_module": "@jupyter-widgets/base",
            "_model_module_version": "1.2.0",
            "_model_name": "LayoutModel",
            "_view_count": null,
            "_view_module": "@jupyter-widgets/base",
            "_view_module_version": "1.2.0",
            "_view_name": "LayoutView",
            "align_content": null,
            "align_items": null,
            "align_self": null,
            "border": null,
            "bottom": null,
            "display": null,
            "flex": null,
            "flex_flow": null,
            "grid_area": null,
            "grid_auto_columns": null,
            "grid_auto_flow": null,
            "grid_auto_rows": null,
            "grid_column": null,
            "grid_gap": null,
            "grid_row": null,
            "grid_template_areas": null,
            "grid_template_columns": null,
            "grid_template_rows": null,
            "height": null,
            "justify_content": null,
            "justify_items": null,
            "left": null,
            "margin": null,
            "max_height": null,
            "max_width": null,
            "min_height": null,
            "min_width": null,
            "object_fit": null,
            "object_position": null,
            "order": null,
            "overflow": null,
            "overflow_x": null,
            "overflow_y": null,
            "padding": null,
            "right": null,
            "top": null,
            "visibility": null,
            "width": null
          }
        },
        "e9d5d9372f3d488bb60ec75d8007bb3a": {
          "model_module": "@jupyter-widgets/base",
          "model_module_version": "1.2.0",
          "model_name": "LayoutModel",
          "state": {
            "_model_module": "@jupyter-widgets/base",
            "_model_module_version": "1.2.0",
            "_model_name": "LayoutModel",
            "_view_count": null,
            "_view_module": "@jupyter-widgets/base",
            "_view_module_version": "1.2.0",
            "_view_name": "LayoutView",
            "align_content": null,
            "align_items": null,
            "align_self": null,
            "border": null,
            "bottom": null,
            "display": null,
            "flex": null,
            "flex_flow": null,
            "grid_area": null,
            "grid_auto_columns": null,
            "grid_auto_flow": null,
            "grid_auto_rows": null,
            "grid_column": null,
            "grid_gap": null,
            "grid_row": null,
            "grid_template_areas": null,
            "grid_template_columns": null,
            "grid_template_rows": null,
            "height": null,
            "justify_content": null,
            "justify_items": null,
            "left": null,
            "margin": null,
            "max_height": null,
            "max_width": null,
            "min_height": null,
            "min_width": null,
            "object_fit": null,
            "object_position": null,
            "order": null,
            "overflow": null,
            "overflow_x": null,
            "overflow_y": null,
            "padding": null,
            "right": null,
            "top": null,
            "visibility": null,
            "width": null
          }
        },
        "f20de37c7a254e59bc6b19bdb08f96ad": {
          "model_module": "@jupyter-widgets/controls",
          "model_module_version": "1.5.0",
          "model_name": "ProgressStyleModel",
          "state": {
            "_model_module": "@jupyter-widgets/controls",
            "_model_module_version": "1.5.0",
            "_model_name": "ProgressStyleModel",
            "_view_count": null,
            "_view_module": "@jupyter-widgets/base",
            "_view_module_version": "1.2.0",
            "_view_name": "StyleView",
            "bar_color": null,
            "description_width": ""
          }
        },
        "f935f7321c0c4303830f769508d8424e": {
          "model_module": "@jupyter-widgets/base",
          "model_module_version": "1.2.0",
          "model_name": "LayoutModel",
          "state": {
            "_model_module": "@jupyter-widgets/base",
            "_model_module_version": "1.2.0",
            "_model_name": "LayoutModel",
            "_view_count": null,
            "_view_module": "@jupyter-widgets/base",
            "_view_module_version": "1.2.0",
            "_view_name": "LayoutView",
            "align_content": null,
            "align_items": null,
            "align_self": null,
            "border": null,
            "bottom": null,
            "display": null,
            "flex": null,
            "flex_flow": null,
            "grid_area": null,
            "grid_auto_columns": null,
            "grid_auto_flow": null,
            "grid_auto_rows": null,
            "grid_column": null,
            "grid_gap": null,
            "grid_row": null,
            "grid_template_areas": null,
            "grid_template_columns": null,
            "grid_template_rows": null,
            "height": null,
            "justify_content": null,
            "justify_items": null,
            "left": null,
            "margin": null,
            "max_height": null,
            "max_width": null,
            "min_height": null,
            "min_width": null,
            "object_fit": null,
            "object_position": null,
            "order": null,
            "overflow": null,
            "overflow_x": null,
            "overflow_y": null,
            "padding": null,
            "right": null,
            "top": null,
            "visibility": null,
            "width": null
          }
        }
      }
    }
  },
  "nbformat": 4,
  "nbformat_minor": 0
}